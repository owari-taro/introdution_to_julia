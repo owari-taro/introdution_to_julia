{
 "cells": [
  {
   "cell_type": "code",
   "execution_count": 13,
   "metadata": {},
   "outputs": [],
   "source": [
    "using Plots\n",
    "using Statistics\n",
    "using Distributions\n",
    "#probability function\n",
    "λ=1\n",
    "EX=1\n",
    "θ=0.3\n",
    "μ=7.5\n",
    "α=2\n",
    "n=200\n",
    "nSim=10_000\n",
    "c=(1+θ)*EX*λ\n",
    "ruin_times=[]\n",
    "ex_dist=Exponential(1)\n",
    "gammma=Gam\n",
    "for i in 1:nSim\n",
    "    wi=rand(ex_dist,n)\n",
    "    ti=cumsum(wi)\n",
    "end"
   ]
  },
  {
   "cell_type": "code",
   "execution_count": 2,
   "metadata": {},
   "outputs": [
    {
     "ename": "LoadError",
     "evalue": "UndefVarError: result not defined",
     "output_type": "error",
     "traceback": [
      "UndefVarError: result not defined",
      "",
      "Stacktrace:",
      " [1] top-level scope at show.jl:641",
      " [2] include_string(::Function, ::Module, ::String, ::String) at .\\loading.jl:1091"
     ]
    }
   ],
   "source": [
    "@show mean(result)\n",
    "@show var(result)"
   ]
  },
  {
   "cell_type": "code",
   "execution_count": 10,
   "metadata": {},
   "outputs": [
    {
     "name": "stdout",
     "output_type": "stream",
     "text": [
      "ho"
     ]
    },
    {
     "data": {
      "text/plain": [
       "100-element Array{Float64,1}:\n",
       "  1.5644535804644555\n",
       "  6.875281871025491\n",
       "  1.8309042850771302\n",
       "  0.45900219795722297\n",
       "  5.580432888886401\n",
       "  0.6566643987222173\n",
       "  0.7022051747769164\n",
       "  1.3203516844730747\n",
       "  8.778565347976008\n",
       "  0.7796827373903872\n",
       "  0.608800263936489\n",
       "  5.16063831837079\n",
       "  4.3167525255557795\n",
       "  ⋮\n",
       "  3.209785487274239\n",
       "  1.849879735734322\n",
       "  3.7458070054416246\n",
       "  5.254820126512785\n",
       "  6.254782112682236\n",
       "  0.07245291065135334\n",
       " 11.351423247375479\n",
       "  1.864516245117664\n",
       "  1.9761440283896707\n",
       "  2.825155721279242\n",
       "  8.01559629166541\n",
       "  0.5994024647645476"
      ]
     },
     "execution_count": 10,
     "metadata": {},
     "output_type": "execute_result"
    }
   ],
   "source": [
    "using Distributions\n",
    "tmp=Exponential(3)\n",
    "print(\"ho\")\n",
    "rand(tmp,100)"
   ]
  },
  {
   "cell_type": "code",
   "execution_count": 9,
   "metadata": {},
   "outputs": [
    {
     "data": {
      "text/plain": [
       "Exponential{Float64}(θ=3.0)"
      ]
     },
     "execution_count": 9,
     "metadata": {},
     "output_type": "execute_result"
    }
   ],
   "source": [
    "#https://juliastats.org/Distributions.jl/stable/starting/\n"
   ]
  }
 ],
 "metadata": {
  "kernelspec": {
   "display_name": "Julia 1.5.0",
   "language": "julia",
   "name": "julia-1.5"
  },
  "language_info": {
   "file_extension": ".jl",
   "mimetype": "application/julia",
   "name": "julia",
   "version": "1.5.0"
  }
 },
 "nbformat": 4,
 "nbformat_minor": 4
}
