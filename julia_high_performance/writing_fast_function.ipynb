{
 "cells": [
  {
   "cell_type": "code",
   "execution_count": 13,
   "metadata": {},
   "outputs": [
    {
     "name": "stdout",
     "output_type": "stream",
     "text": [
      "  54.290 ms (3000000 allocations: 45.78 MiB)\n"
     ]
    },
    {
     "data": {
      "text/plain": [
       "333005.05518908106"
      ]
     },
     "execution_count": 13,
     "metadata": {},
     "output_type": "execute_result"
    }
   ],
   "source": [
    "using   BenchmarkTools\n",
    "p=2\n",
    "function pow_array(x::Vector{Float64})\n",
    "    s=0.0\n",
    "    for y in x\n",
    "        s=s+y^p\n",
    "    end\n",
    "    return s\n",
    "    \n",
    "end\n",
    "pow_array([1.0,2.0])\n",
    "t=rand(1000_000)\n",
    "@btime pow_array($t)"
   ]
  },
  {
   "cell_type": "code",
   "execution_count": 9,
   "metadata": {},
   "outputs": [
    {
     "name": "stdout",
     "output_type": "stream",
     "text": [
      "Variables\n",
      "  #self#\u001b[36m::Core.Compiler.Const(pow_array, false)\u001b[39m\n",
      "  x\u001b[36m::Array{Float64,1}\u001b[39m\n",
      "  s\u001b[91m\u001b[1m::Any\u001b[22m\u001b[39m\n",
      "  @_4\u001b[33m\u001b[1m::Union{Nothing, Tuple{Float64,Int64}}\u001b[22m\u001b[39m\n",
      "  y\u001b[36m::Float64\u001b[39m\n",
      "\n",
      "Body\u001b[91m\u001b[1m::Any\u001b[22m\u001b[39m\n",
      "\u001b[90m1 ─\u001b[39m       (s = 0.0)\n",
      "\u001b[90m│  \u001b[39m %2  = x\u001b[36m::Array{Float64,1}\u001b[39m\n",
      "\u001b[90m│  \u001b[39m       (@_4 = Base.iterate(%2))\n",
      "\u001b[90m│  \u001b[39m %4  = (@_4 === nothing)\u001b[36m::Bool\u001b[39m\n",
      "\u001b[90m│  \u001b[39m %5  = Base.not_int(%4)\u001b[36m::Bool\u001b[39m\n",
      "\u001b[90m└──\u001b[39m       goto #4 if not %5\n",
      "\u001b[90m2 ┄\u001b[39m %7  = @_4::Tuple{Float64,Int64}\u001b[36m::Tuple{Float64,Int64}\u001b[39m\n",
      "\u001b[90m│  \u001b[39m       (y = Core.getfield(%7, 1))\n",
      "\u001b[90m│  \u001b[39m %9  = Core.getfield(%7, 2)\u001b[36m::Int64\u001b[39m\n",
      "\u001b[90m│  \u001b[39m %10 = s\u001b[91m\u001b[1m::Any\u001b[22m\u001b[39m\n",
      "\u001b[90m│  \u001b[39m %11 = (y ^ Main.p)\u001b[91m\u001b[1m::Any\u001b[22m\u001b[39m\n",
      "\u001b[90m│  \u001b[39m       (s = %10 + %11)\n",
      "\u001b[90m│  \u001b[39m       (@_4 = Base.iterate(%2, %9))\n",
      "\u001b[90m│  \u001b[39m %14 = (@_4 === nothing)\u001b[36m::Bool\u001b[39m\n",
      "\u001b[90m│  \u001b[39m %15 = Base.not_int(%14)\u001b[36m::Bool\u001b[39m\n",
      "\u001b[90m└──\u001b[39m       goto #4 if not %15\n",
      "\u001b[90m3 ─\u001b[39m       goto #2\n",
      "\u001b[90m4 ┄\u001b[39m       return s\n"
     ]
    }
   ],
   "source": [
    "@code_warntype pow_array(t)\n"
   ]
  },
  {
   "cell_type": "code",
   "execution_count": 15,
   "metadata": {},
   "outputs": [
    {
     "name": "stdout",
     "output_type": "stream",
     "text": [
      "  1.176 ms (0 allocations: 0 bytes)\n"
     ]
    },
    {
     "data": {
      "text/plain": [
       "333376.1937827427"
      ]
     },
     "execution_count": 15,
     "metadata": {},
     "output_type": "execute_result"
    }
   ],
   "source": [
    "const p2=2\n",
    "function pow_array2(x::Vector{Float64})\n",
    "    s=0.0\n",
    "    for y in x\n",
    "        s=s+y^p2\n",
    "    end\n",
    "    return s\n",
    "    \n",
    "end\n",
    "pow_array2([1.0,2.0])\n",
    "t=rand(1000_000)\n",
    "@btime pow_array2($t)\n"
   ]
  },
  {
   "cell_type": "code",
   "execution_count": 17,
   "metadata": {},
   "outputs": [
    {
     "name": "stdout",
     "output_type": "stream",
     "text": [
      "Variables\n",
      "  #self#\u001b[36m::Core.Compiler.Const(pow_array2, false)\u001b[39m\n",
      "  x\u001b[36m::Array{Float64,1}\u001b[39m\n",
      "  s\u001b[36m::Float64\u001b[39m\n",
      "  @_4\u001b[33m\u001b[1m::Union{Nothing, Tuple{Float64,Int64}}\u001b[22m\u001b[39m\n",
      "  y\u001b[36m::Float64\u001b[39m\n",
      "\n",
      "Body\u001b[36m::Float64\u001b[39m\n",
      "\u001b[90m1 ─\u001b[39m       (s = 0.0)\n",
      "\u001b[90m│  \u001b[39m %2  = x\u001b[36m::Array{Float64,1}\u001b[39m\n",
      "\u001b[90m│  \u001b[39m       (@_4 = Base.iterate(%2))\n",
      "\u001b[90m│  \u001b[39m %4  = (@_4 === nothing)\u001b[36m::Bool\u001b[39m\n",
      "\u001b[90m│  \u001b[39m %5  = Base.not_int(%4)\u001b[36m::Bool\u001b[39m\n",
      "\u001b[90m└──\u001b[39m       goto #4 if not %5\n",
      "\u001b[90m2 ┄\u001b[39m %7  = @_4::Tuple{Float64,Int64}\u001b[36m::Tuple{Float64,Int64}\u001b[39m\n",
      "\u001b[90m│  \u001b[39m       (y = Core.getfield(%7, 1))\n",
      "\u001b[90m│  \u001b[39m %9  = Core.getfield(%7, 2)\u001b[36m::Int64\u001b[39m\n",
      "\u001b[90m│  \u001b[39m %10 = s\u001b[36m::Float64\u001b[39m\n",
      "\u001b[90m│  \u001b[39m %11 = (y ^ Main.p2)\u001b[36m::Float64\u001b[39m\n",
      "\u001b[90m│  \u001b[39m       (s = %10 + %11)\n",
      "\u001b[90m│  \u001b[39m       (@_4 = Base.iterate(%2, %9))\n",
      "\u001b[90m│  \u001b[39m %14 = (@_4 === nothing)\u001b[36m::Bool\u001b[39m\n",
      "\u001b[90m│  \u001b[39m %15 = Base.not_int(%14)\u001b[36m::Bool\u001b[39m\n",
      "\u001b[90m└──\u001b[39m       goto #4 if not %15\n",
      "\u001b[90m3 ─\u001b[39m       goto #2\n",
      "\u001b[90m4 ┄\u001b[39m       return s\n"
     ]
    }
   ],
   "source": [
    "@code_warntype pow_array2([3.0,2.0])"
   ]
  },
  {
   "cell_type": "code",
   "execution_count": 19,
   "metadata": {},
   "outputs": [
    {
     "data": {
      "text/plain": [
       "CodeInfo(\n",
       "\u001b[90m1 ─\u001b[39m %1 = Base.mul_int(2, x)\u001b[36m::Int64\u001b[39m\n",
       "\u001b[90m│  \u001b[39m %2 = Base.mul_int(5, %1)\u001b[36m::Int64\u001b[39m\n",
       "\u001b[90m│  \u001b[39m %3 = Base.add_int(%2, 3)\u001b[36m::Int64\u001b[39m\n",
       "\u001b[90m└──\u001b[39m      return %3\n",
       ") => Int64"
      ]
     },
     "execution_count": 19,
     "metadata": {},
     "output_type": "execute_result"
    }
   ],
   "source": [
    "function f(x)\n",
    "    a=5x\n",
    "    b=a+3\n",
    "    return b\n",
    "end\n",
    "g(x)=f(2x)\n",
    "\n",
    "@code_typed g(3)"
   ]
  },
  {
   "cell_type": "code",
   "execution_count": 22,
   "metadata": {},
   "outputs": [
    {
     "name": "stdout",
     "output_type": "stream",
     "text": [
      "\n",
      ";  @ In[19]:6 within `g'\n",
      "; Function Attrs: uwtable\n",
      "define i64 @julia_g_1945(i64) #0 {\n",
      "top:\n",
      "; ┌ @ In[19]:2 within `f'\n",
      "; │┌ @ int.jl:87 within `*'\n",
      "    %1 = mul i64 %0, 10\n",
      "; │└\n",
      "; │ @ In[19]:3 within `f'\n",
      "; │┌ @ int.jl:86 within `+'\n",
      "    %2 = add i64 %1, 3\n",
      "; └└\n",
      "  ret i64 %2\n",
      "}\n"
     ]
    }
   ],
   "source": [
    "@code_llvm g(3)"
   ]
  },
  {
   "cell_type": "code",
   "execution_count": 28,
   "metadata": {},
   "outputs": [
    {
     "name": "stdout",
     "output_type": "stream",
     "text": [
      "#= In[28]:15 =# @code_typed(g(3)) = CodeInfo(\n",
      "1 ─ %1 = Base.mul_int(2, x)::Int64\n",
      "│   %2 = invoke Main.f(%1::Int64)::Int64\n",
      "└──      return %2\n",
      ") => Int64\n",
      "  0.001 ns (0 allocations: 0 bytes)\n"
     ]
    },
    {
     "data": {
      "text/plain": [
       "676"
      ]
     },
     "execution_count": 28,
     "metadata": {},
     "output_type": "execute_result"
    }
   ],
   "source": [
    "function f(x)\n",
    "    a=5x\n",
    "    b=a+3\n",
    "    c=a-4\n",
    "    if c < 0\n",
    "        throw(DomainError())\n",
    "    elseif c < 2\n",
    "        d=c^3\n",
    "    else\n",
    "        d=c^2\n",
    "    end\n",
    "end\n",
    "\n",
    "\n",
    "@show @code_typed g(3)\n",
    "\n",
    "@btime g(3)"
   ]
  },
  {
   "cell_type": "code",
   "execution_count": 30,
   "metadata": {},
   "outputs": [
    {
     "name": "stdout",
     "output_type": "stream",
     "text": [
      "#= In[30]:15 =# @code_typed(g_in(3)) = CodeInfo(\n",
      "1 ─ %1  = Base.mul_int(2, x)::Int64\n",
      "│   %2  = Base.mul_int(5, %1)::Int64\n",
      "│   %3  = Base.sub_int(%2, 4)::Int64\n",
      "│   %4  = Base.slt_int(%3, 0)::Bool\n",
      "└──       goto #3 if not %4\n",
      "2 ─       Main.DomainError()::Union{}\n",
      "└──       $(Expr(:unreachable))::Union{}\n",
      "3 ┄ %8  = Base.slt_int(%3, 2)::Bool\n",
      "└──       goto #5 if not %8\n",
      "4 ─ %10 = Base.mul_int(%3, %3)::Int64\n",
      "│   %11 = Base.mul_int(%10, %3)::Int64\n",
      "└──       goto #6\n",
      "5 ─ %13 = Base.mul_int(%3, %3)::Int64\n",
      "└──       goto #6\n",
      "6 ┄ %15 = φ (#4 => %11, #5 => %13)::Int64\n",
      "└──       return %15\n",
      ") => Int64\n",
      "  0.001 ns (0 allocations: 0 bytes)\n"
     ]
    },
    {
     "data": {
      "text/plain": [
       "676"
      ]
     },
     "execution_count": 30,
     "metadata": {},
     "output_type": "execute_result"
    }
   ],
   "source": [
    "@inline function f_in(x)\n",
    "    a=5x\n",
    "    b=a+3\n",
    "    c=a-4\n",
    "    if c < 0\n",
    "        throw(DomainError())\n",
    "    elseif c < 2\n",
    "        d=c^3\n",
    "    else\n",
    "        d=c^2\n",
    "    end\n",
    "end\n",
    "\n",
    "g_in(x)=f_in(2x)\n",
    "@show @code_typed g_in(3)\n",
    "@btime g_in(3)"
   ]
  },
  {
   "cell_type": "code",
   "execution_count": 2,
   "metadata": {},
   "outputs": [
    {
     "name": "stdout",
     "output_type": "stream",
     "text": [
      "peakflops() = "
     ]
    },
    {
     "data": {
      "text/plain": [
       "5.934275011290886e9"
      ]
     },
     "execution_count": 2,
     "metadata": {},
     "output_type": "execute_result"
    },
    {
     "name": "stdout",
     "output_type": "stream",
     "text": [
      "5.934275011290886e9\n"
     ]
    }
   ],
   "source": [
    "function poly_naive(x,a...)\n",
    "    p=zero(x)\n",
    "    for i =1:length(a)\n",
    "        p=p+a[i]*x^(i-1)\n",
    "    end\n",
    "    return p\n",
    "end\n",
    "\n",
    "@show peakflops()"
   ]
  },
  {
   "cell_type": "code",
   "execution_count": 8,
   "metadata": {},
   "outputs": [
    {
     "name": "stdout",
     "output_type": "stream",
     "text": [
      "f_naive(1) = 45\n",
      "  424.875 ns (3 allocations: 48 bytes)\n"
     ]
    },
    {
     "data": {
      "text/plain": [
       "271125.95703125"
      ]
     },
     "execution_count": 8,
     "metadata": {},
     "output_type": "execute_result"
    }
   ],
   "source": [
    "using  BenchmarkTools\n",
    "\n",
    "f_naive(x)=poly_naive(x,1,2,3,4,5,6,7,8,9)\n",
    "x=3.5\n",
    "@show f_naive(1)\n",
    "@btime f_naive(x)"
   ]
  },
  {
   "cell_type": "code",
   "execution_count": 16,
   "metadata": {},
   "outputs": [
    {
     "name": "stdout",
     "output_type": "stream",
     "text": [
      "  4.199 ns (0 allocations: 0 bytes)\n"
     ]
    },
    {
     "data": {
      "text/plain": [
       "271125.95703125"
      ]
     },
     "execution_count": 16,
     "metadata": {},
     "output_type": "execute_result"
    }
   ],
   "source": [
    "function poly_horner(x,a...)\n",
    "    b=zero(x)\n",
    "    for i in  length(a):-1:1\n",
    "        b=a[i]+b*x\n",
    "    end\n",
    "    return b\n",
    "end\n",
    "\n",
    "f_horner(x)=poly_horner(x,1,2,3,4,5,6,7,8,9)\n",
    "f_horner(1)\n",
    "x=3.5\n",
    "@btime f_horner($x)"
   ]
  },
  {
   "cell_type": "code",
   "execution_count": null,
   "metadata": {},
   "outputs": [],
   "source": [
    "function prod_dim(x::Array{T,N} ) where {T,N}\n",
    "    s=1\n",
    "    for i in 1:N\n",
    "        s=s*size(x,i)\n",
    "    end\n",
    "    return s\n",
    "end"
   ]
  }
 ],
 "metadata": {
  "kernelspec": {
   "display_name": "Julia 1.5.0",
   "language": "julia",
   "name": "julia-1.5"
  },
  "language_info": {
   "file_extension": ".jl",
   "mimetype": "application/julia",
   "name": "julia",
   "version": "1.5.0"
  }
 },
 "nbformat": 4,
 "nbformat_minor": 4
}
