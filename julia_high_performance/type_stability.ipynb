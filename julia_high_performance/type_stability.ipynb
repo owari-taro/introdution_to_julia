{
 "cells": [
  {
   "cell_type": "code",
   "execution_count": 1,
   "metadata": {},
   "outputs": [
    {
     "data": {
      "text/plain": [
       "pos (generic function with 1 method)"
      ]
     },
     "execution_count": 1,
     "metadata": {},
     "output_type": "execute_result"
    }
   ],
   "source": [
    "# type stability is the idea that the type of the return value of a function is dependent only on the type of its arguments and not the values\n",
    "\n",
    "function pos(x)\n",
    "    if x<0\n",
    "        return 0\n",
    "    else\n",
    "        return x\n",
    "    end\n",
    "    \n",
    "end\n"
   ]
  },
  {
   "cell_type": "code",
   "execution_count": 4,
   "metadata": {},
   "outputs": [
    {
     "name": "stdout",
     "output_type": "stream",
     "text": [
      "typeof(pos(-1)) = Int64\n",
      "typeof(pos(-2.5)) = Int64\n"
     ]
    },
    {
     "data": {
      "text/plain": [
       "Int64"
      ]
     },
     "execution_count": 4,
     "metadata": {},
     "output_type": "execute_result"
    }
   ],
   "source": [
    "@show typeof(pos(-1))\n",
    "@show typeof(pos(-2.5))\n",
    "\n"
   ]
  },
  {
   "cell_type": "code",
   "execution_count": 6,
   "metadata": {},
   "outputs": [
    {
     "data": {
      "text/plain": [
       "0.0"
      ]
     },
     "execution_count": 6,
     "metadata": {},
     "output_type": "execute_result"
    }
   ],
   "source": [
    "function pos_fixed(x)\n",
    "    if x>0\n",
    "        return zero(x)\n",
    "    else\n",
    "        return x\n",
    "    end    \n",
    "end\n",
    "pos_fixed(2.5)"
   ]
  },
  {
   "cell_type": "code",
   "execution_count": 9,
   "metadata": {},
   "outputs": [
    {
     "name": "stdout",
     "output_type": "stream",
     "text": [
      "  0.001 ns (0 allocations: 0 bytes)\n",
      "  0.001 ns (0 allocations: 0 bytes)\n"
     ]
    },
    {
     "data": {
      "text/plain": [
       "0.0"
      ]
     },
     "execution_count": 9,
     "metadata": {},
     "output_type": "execute_result"
    }
   ],
   "source": [
    "using BenchmarkTools\n",
    "@btime pos(2.5)\n",
    "@btime pos_fixed(2.5)"
   ]
  },
  {
   "cell_type": "code",
   "execution_count": 11,
   "metadata": {},
   "outputs": [
    {
     "name": "stdout",
     "output_type": "stream",
     "text": [
      "Variables\n",
      "  #self#\u001b[36m::Core.Compiler.Const(pos, false)\u001b[39m\n",
      "  x\u001b[36m::Float64\u001b[39m\n",
      "\n",
      "Body\u001b[91m\u001b[1m::Union{Float64, Int64}\u001b[22m\u001b[39m\n",
      "\u001b[90m1 ─\u001b[39m %1 = (x < 0)\u001b[36m::Bool\u001b[39m\n",
      "\u001b[90m└──\u001b[39m      goto #3 if not %1\n",
      "\u001b[90m2 ─\u001b[39m      return 0\n",
      "\u001b[90m3 ─\u001b[39m      return x\n"
     ]
    }
   ],
   "source": [
    "@code_warntype pos(2.5)"
   ]
  },
  {
   "cell_type": "code",
   "execution_count": 14,
   "metadata": {},
   "outputs": [
    {
     "name": "stdout",
     "output_type": "stream",
     "text": [
      "Variables\n",
      "  #self#\u001b[36m::Core.Compiler.Const(pos, false)\u001b[39m\n",
      "  x\u001b[36m::Int64\u001b[39m\n",
      "\n",
      "Body\u001b[36m::Int64\u001b[39m\n",
      "\u001b[90m1 ─\u001b[39m %1 = (x < 0)\u001b[36m::Bool\u001b[39m\n",
      "\u001b[90m└──\u001b[39m      goto #3 if not %1\n",
      "\u001b[90m2 ─\u001b[39m      return 0\n",
      "\u001b[90m3 ─\u001b[39m      return x\n"
     ]
    }
   ],
   "source": [
    "@code_warntype pos(1)\n"
   ]
  },
  {
   "cell_type": "code",
   "execution_count": 15,
   "metadata": {},
   "outputs": [
    {
     "name": "stdout",
     "output_type": "stream",
     "text": [
      "\n",
      ";  @ In[1]:3 within `pos'\n",
      "; Function Attrs: uwtable\n",
      "define { %jl_value_t*, i8 } @julia_pos_1832([8 x i8]* noalias nocapture align 8 dereferenceable(8), double) #0 {\n",
      "top:\n",
      ";  @ In[1]:4 within `pos'\n",
      "; ┌ @ float.jl:503 within `<' @ float.jl:458\n",
      "   %2 = fcmp uge double %1, 0.000000e+00\n",
      "; └\n",
      "  br i1 %2, label %L12, label %L11\n",
      "\n",
      "L11:                                              ; preds = %L12, %top\n",
      "  %merge = phi { %jl_value_t*, i8 } [ { %jl_value_t* inttoptr (i64 396591136 to %jl_value_t*), i8 -126 }, %top ], [ { %jl_value_t* null, i8 1 }, %L12 ]\n",
      ";  @ In[1]:5 within `pos'\n",
      "  ret { %jl_value_t*, i8 } %merge\n",
      "\n",
      "L12:                                              ; preds = %top\n",
      ";  @ In[1]:7 within `pos'\n",
      "  %.0..sroa_cast = bitcast [8 x i8]* %0 to double*\n",
      "  store double %1, double* %.0..sroa_cast, align 8\n",
      "  br label %L11\n",
      "}\n"
     ]
    }
   ],
   "source": [
    "@code_llvm pos(2.5)"
   ]
  },
  {
   "cell_type": "code",
   "execution_count": 17,
   "metadata": {},
   "outputs": [
    {
     "name": "stdout",
     "output_type": "stream",
     "text": [
      "\n",
      ";  @ In[6]:1 within `pos_fixed'\n",
      "; Function Attrs: uwtable\n",
      "define double @julia_pos_fixed_1838(double) #0 {\n",
      "top:\n",
      ";  @ In[6]:2 within `pos_fixed'\n",
      "  %.inv = fcmp ogt double %0, 0.000000e+00\n",
      "  %spec.select = select i1 %.inv, double 0.000000e+00, double %0\n",
      ";  @ In[6]:3 within `pos_fixed'\n",
      "  ret double %spec.select\n",
      "}\n"
     ]
    }
   ],
   "source": [
    "@code_llvm pos_fixed(2.5)"
   ]
  },
  {
   "cell_type": "code",
   "execution_count": 21,
   "metadata": {},
   "outputs": [
    {
     "name": "stdout",
     "output_type": "stream",
     "text": [
      "typeof(sqrt(5)) = Float64\n"
     ]
    },
    {
     "data": {
      "text/plain": [
       "Float64"
      ]
     },
     "execution_count": 21,
     "metadata": {},
     "output_type": "execute_result"
    }
   ],
   "source": [
    "@show typeof(sqrt(5))"
   ]
  },
  {
   "cell_type": "code",
   "execution_count": 23,
   "metadata": {},
   "outputs": [
    {
     "name": "stdout",
     "output_type": "stream",
     "text": [
      "Variables\n",
      "  #self#\u001b[36m::Core.Compiler.Const(sum_sqrt, false)\u001b[39m\n",
      "  n\u001b[36m::Int64\u001b[39m\n",
      "  r\u001b[91m\u001b[1m::Union{Float64, Int64}\u001b[22m\u001b[39m\n",
      "  @_4\u001b[33m\u001b[1m::Union{Nothing, Tuple{Int64,Int64}}\u001b[22m\u001b[39m\n",
      "  i\u001b[36m::Int64\u001b[39m\n",
      "\n",
      "Body\u001b[91m\u001b[1m::Union{Float64, Int64}\u001b[22m\u001b[39m\n",
      "\u001b[90m1 ─\u001b[39m       (r = 0)\n",
      "\u001b[90m│  \u001b[39m %2  = (1:n)\u001b[36m::Core.Compiler.PartialStruct(UnitRange{Int64}, Any[Core.Compiler.Const(1, false), Int64])\u001b[39m\n",
      "\u001b[90m│  \u001b[39m       (@_4 = Base.iterate(%2))\n",
      "\u001b[90m│  \u001b[39m %4  = (@_4 === nothing)\u001b[36m::Bool\u001b[39m\n",
      "\u001b[90m│  \u001b[39m %5  = Base.not_int(%4)\u001b[36m::Bool\u001b[39m\n",
      "\u001b[90m└──\u001b[39m       goto #4 if not %5\n",
      "\u001b[90m2 ┄\u001b[39m %7  = @_4::Tuple{Int64,Int64}\u001b[36m::Tuple{Int64,Int64}\u001b[39m\n",
      "\u001b[90m│  \u001b[39m       (i = Core.getfield(%7, 1))\n",
      "\u001b[90m│  \u001b[39m %9  = Core.getfield(%7, 2)\u001b[36m::Int64\u001b[39m\n",
      "\u001b[90m│  \u001b[39m %10 = r\u001b[91m\u001b[1m::Union{Float64, Int64}\u001b[22m\u001b[39m\n",
      "\u001b[90m│  \u001b[39m %11 = Main.sqrt(i)\u001b[36m::Float64\u001b[39m\n",
      "\u001b[90m│  \u001b[39m       (r = %10 + %11)\n",
      "\u001b[90m│  \u001b[39m       (@_4 = Base.iterate(%2, %9))\n",
      "\u001b[90m│  \u001b[39m %14 = (@_4 === nothing)\u001b[36m::Bool\u001b[39m\n",
      "\u001b[90m│  \u001b[39m %15 = Base.not_int(%14)\u001b[36m::Bool\u001b[39m\n",
      "\u001b[90m└──\u001b[39m       goto #4 if not %15\n",
      "\u001b[90m3 ─\u001b[39m       goto #2\n",
      "\u001b[90m4 ┄\u001b[39m       return r\n"
     ]
    }
   ],
   "source": [
    "#varables inside a for-loop should be type-stable to get high performance\n",
    "function sum_sqrt(n)\n",
    "    r=0\n",
    "    for i in 1:n\n",
    "        r=r+sqrt(i)\n",
    "    end\n",
    "    return r\n",
    "end\n",
    "\n",
    "@code_warntype sum_sqrt(10)\n"
   ]
  }
 ],
 "metadata": {
  "kernelspec": {
   "display_name": "Julia 1.5.0",
   "language": "julia",
   "name": "julia-1.5"
  },
  "language_info": {
   "file_extension": ".jl",
   "mimetype": "application/julia",
   "name": "julia",
   "version": "1.5.0"
  }
 },
 "nbformat": 4,
 "nbformat_minor": 4
}
