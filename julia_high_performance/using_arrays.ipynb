{
 "cells": [
  {
   "cell_type": "code",
   "execution_count": null,
   "metadata": {},
   "outputs": [],
   "source": []
  },
  {
   "cell_type": "code",
   "execution_count": 3,
   "metadata": {},
   "outputs": [
    {
     "name": "stdout",
     "output_type": "stream",
     "text": [
      "row_iter(rand(2, 2)) = nothing\n",
      "col_iter(rand(2, 2)) = nothing\n"
     ]
    }
   ],
   "source": [
    "using BenchmarkTools\n",
    "\n",
    "function col_iter(x)\n",
    "    s=zero(eltype(x))\n",
    "    for j in 1:size(x,2)\n",
    "        for i in 1:size(x,1)\n",
    "            s=s+x[i,j]^2\n",
    "            x[i,j]=s\n",
    "        end\n",
    "    end\n",
    "end\n",
    "\n",
    "function row_iter(x)\n",
    "    s=zero(eltype(x))\n",
    "    for  i in 1:size(x,1)\n",
    "        for j in 1:size(x,2)\n",
    "            s=s+x[i,j]^2\n",
    "            x[i,j]=s\n",
    "        end\n",
    "    end\n",
    "end\n",
    "@show row_iter(rand(2,2))\n",
    "@show col_iter(rand(2,2))"
   ]
  },
  {
   "cell_type": "code",
   "execution_count": 5,
   "metadata": {},
   "outputs": [
    {
     "name": "stdout",
     "output_type": "stream",
     "text": [
      "  195.446 ms (0 allocations: 0 bytes)\n",
      "  1.379 s (0 allocations: 0 bytes)\n",
      "  2.013 s (0 allocations: 0 bytes)\n",
      "  134.580 ms (0 allocations: 0 bytes)\n"
     ]
    }
   ],
   "source": [
    "a=rand(10000,10000)\n",
    "@btime col_iter($a)\n",
    "@btime row_iter($a)\n",
    "#adjoint\n",
    "b=a'\n",
    "@btime col_iter($b)\n",
    "@btime row_iter($b)"
   ]
  },
  {
   "cell_type": "code",
   "execution_count": 10,
   "metadata": {},
   "outputs": [
    {
     "name": "stdout",
     "output_type": "stream",
     "text": [
      "  2.864 ms (2 allocations: 7.63 MiB)\n",
      "  18.400 μs (2 allocations: 7.63 MiB)\n"
     ]
    },
    {
     "data": {
      "text/plain": [
       "1000×1000 Array{Int64,2}:\n",
       " 0  0  0  0  0  0  0  0  0  0  0  0  0  …  0  0  0  0  0  0  0  0  0  0  0  0\n",
       " 0  0  0  0  0  0  0  0  0  0  0  0  0     0  0  0  0  0  0  0  0  0  0  0  0\n",
       " 0  0  0  0  0  0  0  0  0  0  0  0  0     0  0  0  0  0  0  0  0  0  0  0  0\n",
       " 0  0  0  0  0  0  0  0  0  0  0  0  0     0  0  0  0  0  0  0  0  0  0  0  0\n",
       " 0  0  0  0  0  0  0  0  0  0  0  0  0     0  0  0  0  0  0  0  0  0  0  0  0\n",
       " 0  0  0  0  0  0  0  0  0  0  0  0  0  …  0  0  0  0  0  0  0  0  0  0  0  0\n",
       " 0  0  0  0  0  0  0  0  0  0  0  0  0     0  0  0  0  0  0  0  0  0  0  0  0\n",
       " 0  0  0  0  0  0  0  0  0  0  0  0  0     0  0  0  0  0  0  0  0  0  0  0  0\n",
       " 0  0  0  0  0  0  0  0  0  0  0  0  0     0  0  0  0  0  0  0  0  0  0  0  0\n",
       " 0  0  0  0  0  0  0  0  0  0  0  0  0     0  0  0  0  0  0  0  0  0  0  0  0\n",
       " 0  0  0  0  0  0  0  0  0  0  0  0  0  …  0  0  0  0  0  0  0  0  0  0  0  0\n",
       " 0  0  0  0  0  0  0  0  0  0  0  0  0     0  0  0  0  0  0  0  0  0  0  0  0\n",
       " 0  0  0  0  0  0  0  0  0  0  0  0  0     0  0  0  0  0  0  0  0  0  0  0  0\n",
       " ⋮              ⋮              ⋮        ⋱        ⋮              ⋮           \n",
       " 0  0  0  0  0  0  0  0  0  0  0  0  0     0  0  0  0  0  0  0  0  0  0  0  0\n",
       " 0  0  0  0  0  0  0  0  0  0  0  0  0     0  0  0  0  0  0  0  0  0  0  0  0\n",
       " 0  0  0  0  0  0  0  0  0  0  0  0  0  …  0  0  0  0  0  0  0  0  0  0  0  0\n",
       " 0  0  0  0  0  0  0  0  0  0  0  0  0     0  0  0  0  0  0  0  0  0  0  0  0\n",
       " 0  0  0  0  0  0  0  0  0  0  0  0  0     0  0  0  0  0  0  0  0  0  0  0  0\n",
       " 0  0  0  0  0  0  0  0  0  0  0  0  0     0  0  0  0  0  0  0  0  0  0  0  0\n",
       " 0  0  0  0  0  0  0  0  0  0  0  0  0     0  0  0  0  0  0  0  0  0  0  0  0\n",
       " 0  0  0  0  0  0  0  0  0  0  0  0  0  …  0  0  0  0  0  0  0  0  0  0  0  0\n",
       " 0  0  0  0  0  0  0  0  0  0  0  0  0     0  0  0  0  0  0  0  0  0  0  0  0\n",
       " 0  0  0  0  0  0  0  0  0  0  0  0  0     0  0  0  0  0  0  0  0  0  0  0  0\n",
       " 0  0  0  0  0  0  0  0  0  0  0  0  0     0  0  0  0  0  0  0  0  0  0  0  0\n",
       " 0  0  0  0  0  0  0  0  0  0  0  0  0     0  0  0  0  0  0  0  0  0  0  0  0"
      ]
     },
     "execution_count": 10,
     "metadata": {},
     "output_type": "execute_result"
    }
   ],
   "source": [
    "@btime fill(1,1000,1000)\n",
    "@btime Array{Int64}(undef,1000,1000)\n",
    "\n"
   ]
  },
  {
   "cell_type": "code",
   "execution_count": 1,
   "metadata": {},
   "outputs": [
    {
     "data": {
      "text/plain": [
       "4×4 Array{Int64,2}:\n",
       " 0         4294967296  72339069014638592  1099511693312\n",
       " 0      1099528470529                  1          65536\n",
       " 0    281474993488128                  0              0\n",
       " 0  72339069014704385      1099511627776              0"
      ]
     },
     "execution_count": 1,
     "metadata": {},
     "output_type": "execute_result"
    }
   ],
   "source": [
    "a=Array{Int64}(undef,4,4)\n"
   ]
  },
  {
   "cell_type": "code",
   "execution_count": 4,
   "metadata": {},
   "outputs": [
    {
     "data": {
      "text/plain": [
       "10-element Array{Float64,1}:\n",
       " 4.765326237104522\n",
       " 3.50490222596528\n",
       " 4.837520261863569\n",
       " 4.716763521744596\n",
       " 5.527452503674673\n",
       " 5.193431256523979\n",
       " 3.3881815041421017\n",
       " 4.87777440925035\n",
       " 4.906543237700056\n",
       " 5.622587999422724"
      ]
     },
     "execution_count": 4,
     "metadata": {},
     "output_type": "execute_result"
    }
   ],
   "source": [
    "using BenchmarkTools\n",
    "function sum_vector(x::Array{Float64,1})\n",
    "    s=zero(eltype(x))\n",
    "    for i in 1:length(x)\n",
    "        s=s+x[i]\n",
    "        \n",
    "    end\n",
    "    return s\n",
    "end\n",
    "\n",
    "function sum_cols_matrix(x::Array{Float64,2})\n",
    "    num_cols=size(x,2)\n",
    "    s=zeros(num_cols)\n",
    "    for i in 1:num_cols\n",
    "        s[i]=sum_vector(x[:,i])\n",
    "    end\n",
    "    return s\n",
    "\n",
    "end\n",
    "\n",
    "a=rand(10,10)\n",
    "sum_cols_matrix(a)\n"
   ]
  },
  {
   "cell_type": "code",
   "execution_count": 7,
   "metadata": {},
   "outputs": [
    {
     "data": {
      "text/plain": [
       "BenchmarkTools.Trial: \n",
       "  memory estimate:  7.76 MiB\n",
       "  allocs estimate:  1001\n",
       "  --------------\n",
       "  minimum time:     2.156 ms (0.00% GC)\n",
       "  median time:      2.719 ms (0.00% GC)\n",
       "  mean time:        4.115 ms (7.68% GC)\n",
       "  maximum time:     51.218 ms (48.37% GC)\n",
       "  --------------\n",
       "  samples:          1218\n",
       "  evals/sample:     1"
      ]
     },
     "execution_count": 7,
     "metadata": {},
     "output_type": "execute_result"
    }
   ],
   "source": [
    "a=rand(1000,1000)\n",
    "@benchmark sum_cols_matrix(a)"
   ]
  },
  {
   "cell_type": "code",
   "execution_count": null,
   "metadata": {},
   "outputs": [],
   "source": []
  }
 ],
 "metadata": {
  "kernelspec": {
   "display_name": "Julia 1.5.0",
   "language": "julia",
   "name": "julia-1.5"
  },
  "language_info": {
   "file_extension": ".jl",
   "mimetype": "application/julia",
   "name": "julia",
   "version": "1.5.0"
  }
 },
 "nbformat": 4,
 "nbformat_minor": 4
}
