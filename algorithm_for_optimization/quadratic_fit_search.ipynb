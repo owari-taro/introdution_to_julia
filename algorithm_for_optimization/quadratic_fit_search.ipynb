{
 "cells": [
  {
   "cell_type": "code",
   "execution_count": null,
   "metadata": {},
   "outputs": [],
   "source": [
    "function quadratic_fit_search(f,a,b,c)\n",
    "    ya,yb,yc=f(a)m+,f(b),f(c)\n",
    "    for i in 1:n-3\n",
    "        x=0\n",
    "        fx=f(x)\n",
    "        if x>b\n",
    "            if x,yxyx>yb\n",
    "                c,yc=x,f(x)\n",
    "            else\n",
    "                a,ya,b,yb=b,yb,x,yx\n",
    "            end\n",
    "        elseif x<b\n",
    "            if yx>yb\n",
    "                a,ya=x,fx\n",
    "            else\n",
    "                c,yc,b,yb=b,yb\n",
    "            end\n",
    "                \n",
    "        end\n",
    "            \n",
    "    end\n",
    "    return (a,b,c)\n",
    "end\n",
    "    "
   ]
  }
 ],
 "metadata": {
  "kernelspec": {
   "display_name": "Julia 1.5.0",
   "language": "julia",
   "name": "julia-1.5"
  },
  "language_info": {
   "file_extension": ".jl",
   "mimetype": "application/julia",
   "name": "julia",
   "version": "1.5.0"
  }
 },
 "nbformat": 4,
 "nbformat_minor": 4
}
