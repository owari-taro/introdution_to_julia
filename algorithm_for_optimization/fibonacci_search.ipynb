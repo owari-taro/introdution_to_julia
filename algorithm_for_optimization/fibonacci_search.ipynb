{
 "cells": [
  {
   "cell_type": "code",
   "execution_count": 1,
   "metadata": {},
   "outputs": [
    {
     "ename": "LoadError",
     "evalue": "syntax: space required before \"?\" operator",
     "output_type": "error",
     "traceback": [
      "syntax: space required before \"?\" operator",
      "",
      "Stacktrace:",
      " [1] top-level scope at In[1]:22",
      " [2] include_string(::Function, ::Module, ::String, ::String) at .\\loading.jl:1091"
     ]
    }
   ],
   "source": [
    "using Base\n",
    "#golden ratio\n",
    "ϕ= Base.MathConstants.golden\n",
    "\n",
    "function fibonacci_search(f,a,b,n;ϵ=0.01)\n",
    "    s=(1-√5)/(1+√5)\n",
    "    p=1/((ϕ*(1-s^(n+1)))/(1-s^n))\n",
    "    d=ρ*b+(1-ρ)*a\n",
    "    yd=f(d)\n",
    "    for i in 1:n-1\n",
    "        if i==n-1\n",
    "            c=ϵ*a+(1-ϵ)*d\n",
    "        else \n",
    "            c=ρ*a+(1-ρ)*b\n",
    "        end\n",
    "        yc=f(c)\n",
    "        if yc<yd\n",
    "            b,d,yd=d,c,yc\n",
    "        else\n",
    "            a,b=b,c\n",
    "        end\n",
    "        \n",
    "        p=1/((ϕ*(1-s^(n-i+1)))/(1-s^(n-i)))\n",
    "        \n",
    "    end\n",
    "    return a<b?(a,b):(b,a)\n",
    "end\n"
   ]
  }
 ],
 "metadata": {
  "kernelspec": {
   "display_name": "Julia 1.5.0",
   "language": "julia",
   "name": "julia-1.5"
  },
  "language_info": {
   "file_extension": ".jl",
   "mimetype": "application/julia",
   "name": "julia",
   "version": "1.5.0"
  }
 },
 "nbformat": 4,
 "nbformat_minor": 4
}
