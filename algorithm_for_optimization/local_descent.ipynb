{
 "cells": [
  {
   "cell_type": "code",
   "execution_count": null,
   "metadata": {},
   "outputs": [],
   "source": [
    "using LinearAlgebra\n",
    "function bracketing_line_seach(f,∇f,x,d,α;p=0.5,β=1e-4)\n",
    "    y,g=f(x),∇f(x)\n",
    "    #dot is displayed with \\cdot\n",
    "    while f(x+α*d)>y+β*α(g⋅d)\n",
    "        a*=p\n",
    "    end\n",
    "    return α\n",
    "end"
   ]
  }
 ],
 "metadata": {
  "kernelspec": {
   "display_name": "Julia 1.5.0",
   "language": "julia",
   "name": "julia-1.5"
  },
  "language_info": {
   "file_extension": ".jl",
   "mimetype": "application/julia",
   "name": "julia",
   "version": "1.5.0"
  }
 },
 "nbformat": 4,
 "nbformat_minor": 4
}
