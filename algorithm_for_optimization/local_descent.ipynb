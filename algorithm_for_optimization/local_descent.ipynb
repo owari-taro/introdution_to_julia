{
 "cells": [
  {
   "cell_type": "code",
   "execution_count": 1,
   "metadata": {},
   "outputs": [
    {
     "data": {
      "text/plain": [
       "bracketing_line_seach (generic function with 1 method)"
      ]
     },
     "execution_count": 1,
     "metadata": {},
     "output_type": "execute_result"
    }
   ],
   "source": [
    "using LinearAlgebra\n",
    "function bracketing_line_seach(f,∇f,x,d,α;p=0.5,β=1e-4)\n",
    "    y,g=f(x),∇f(x)\n",
    "    #dot is displayed with \\cdot\n",
    "    while f(x+α*d)>y+β*α(g⋅d)\n",
    "        a*=p\n",
    "    end\n",
    "    return α\n",
    "end"
   ]
  },
  {
   "cell_type": "code",
   "execution_count": 2,
   "metadata": {},
   "outputs": [
    {
     "ename": "LoadError",
     "evalue": "syntax: unexpected \"=\"",
     "output_type": "error",
     "traceback": [
      "syntax: unexpected \"=\"",
      "",
      "Stacktrace:",
      " [1] top-level scope at In[2]:12",
      " [2] include_string(::Function, ::Module, ::String, ::String) at .\\loading.jl:1091"
     ]
    }
   ],
   "source": [
    "function strong_backtracking(f,∇f,x,d;α=1,β=1e-4m,σ=0.1)\n",
    "    y0,g0,y_prev.α_prev=f(x),∇f(x)⋅d, NaN  , 0\n",
    "    αlo,αhi=NaN,NaN\n",
    "    #bracket phase\n",
    "    while true\n",
    "        y=f(x+α*d)\n",
    "        if y>y0+β*α*g0 || (!isnan(y_prev) && y>=y_prev)\n",
    "            αlo,αhi=α_prev,α\n",
    "            break\n",
    "        end\n",
    "        g=∇f(x+α*d)⋅d\n",
    "        if abs(g)=<-σ*g0\n",
    "            return α\n",
    "        elseif g>=0\n",
    "            αlo,αhi=α,α_prev\n",
    "            break\n",
    "        end\n",
    "        y_prev,α_prev,α=y,α,2α\n",
    "    end\n",
    "    \n",
    "    #zoom phase\n",
    "    ylo=f(x+αlo*d)\n",
    "    while true\n",
    "        α=(αlo+αhi)/2\n",
    "        y=f(x+α*d)\n",
    "        if y>y0+β*α*g0 || y>=y0\n",
    "            αhi=α\n",
    "        else\n",
    "            g=∇f(x+α*d)⋅d\n",
    "            if abs(g)<=-σ*g0\n",
    "                return α\n",
    "            elseif g*(αhi-α0)>=0\n",
    "                αhi=αlo\n",
    "            end\n",
    "            αlo=α\n",
    "        end\n",
    "        \n",
    "    end\n",
    "end\n",
    "\n",
    "\n",
    "            \n",
    "    "
   ]
  },
  {
   "cell_type": "code",
   "execution_count": null,
   "metadata": {},
   "outputs": [],
   "source": [
    "using Convex\n",
    "\n",
    "\n",
    "function solve_trust_region_subproblem(∇f,H,x0,δ)\n",
    "    x=Variable(length(x0))\n",
    "    p=minimize(∇f(x0)⋅(x-x0)+quadform(x-x0,H(x0)/2))\n",
    "    p.constratins+=norm(x-x0)<=δ\n",
    "    solve!(p)\n",
    "    return (x.value,p.optval)\n",
    "end\n",
    "\n",
    "function trust_region_descent(f,∇f,H,x,k_max;η1,η2,γ1,γ2,δ)\n",
    "        return\n",
    "    end"
   ]
  }
 ],
 "metadata": {
  "kernelspec": {
   "display_name": "Julia 1.5.0",
   "language": "julia",
   "name": "julia-1.5"
  },
  "language_info": {
   "file_extension": ".jl",
   "mimetype": "application/julia",
   "name": "julia",
   "version": "1.5.0"
  }
 },
 "nbformat": 4,
 "nbformat_minor": 4
}
