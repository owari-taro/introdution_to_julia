{
 "cells": [
  {
   "cell_type": "code",
   "execution_count": 3,
   "metadata": {},
   "outputs": [
    {
     "data": {
      "text/plain": [
       "move_right! (generic function with 1 method)"
      ]
     },
     "execution_count": 3,
     "metadata": {},
     "output_type": "execute_result"
    }
   ],
   "source": [
    "mutable struct Position\n",
    "    x::Int\n",
    "    y::Int\n",
    "end\n",
    "\n",
    "struct Size\n",
    "    width::Int\n",
    "    height::Int\n",
    "end\n",
    "\n",
    "struct Widget\n",
    "    name::String\n",
    "    position::Position\n",
    "    size::Size\n",
    "end\n",
    "\n",
    "moge_up!(widget,v)=widget.position.y-=v\n",
    "move_down!(widget,v)=widget.position.y+=v\n",
    "move_left!(widget,v)=widget.position.x-=v\n",
    "move_right!(widget,v)=widget.position.x+=v\n"
   ]
  },
  {
   "cell_type": "code",
   "execution_count": null,
   "metadata": {},
   "outputs": [],
   "source": [
    "Base.show(io::IO,p::Position)=print(io,\"(\",p,x,\",\",p.y,\")\")\n",
    "Base.show(io::IO,p::Size)=print(io,s.width,\" x \",s.height)]\n"
   ]
  }
 ],
 "metadata": {
  "kernelspec": {
   "display_name": "Julia 1.6.2",
   "language": "julia",
   "name": "julia-1.6"
  },
  "language_info": {
   "file_extension": ".jl",
   "mimetype": "application/julia",
   "name": "julia",
   "version": "1.6.2"
  }
 },
 "nbformat": 4,
 "nbformat_minor": 4
}
