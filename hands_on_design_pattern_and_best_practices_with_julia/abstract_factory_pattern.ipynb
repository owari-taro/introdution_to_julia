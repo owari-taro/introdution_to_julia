{
 "cells": [
  {
   "cell_type": "code",
   "execution_count": 7,
   "metadata": {},
   "outputs": [],
   "source": [
    "abstract type OS end\n",
    "struct MacOS <:OS end\n",
    "struct Windows <: OS end\n",
    "\n",
    "abstract type Button end\n",
    "Base.show(io::IO,x::Button)=print(io,\"'$(x.text)' button\")\n",
    "\n",
    "abstract type Label end\n",
    "Base.show(io::IO,x::Label)=print(io,\"'$(x.text)' label\")\n",
    "\n",
    "struct MacOSButton<:Button\n",
    "    text::String\n",
    "end\n",
    "struct WindowsButton<:Button\n",
    "    text::String\n",
    "end\n",
    "\n",
    "struct MacOSLabel <:Label\n",
    "    text::String\n",
    "end\n",
    "\n",
    "struct WindowsLabel <:Label\n",
    "    text::String\n",
    "end\n",
    "\n"
   ]
  },
  {
   "cell_type": "code",
   "execution_count": 10,
   "metadata": {},
   "outputs": [
    {
     "data": {
      "text/plain": [
       "make_label (generic function with 2 methods)"
      ]
     },
     "execution_count": 10,
     "metadata": {},
     "output_type": "execute_result"
    }
   ],
   "source": [
    "#macos implemtation\n",
    "make_button(::MacOS,text::String)=MacOSButton(text)\n",
    "make_label(::MacOS,text::String)=MacOSLabel(text)\n",
    "\n",
    "#windows implmentation\n",
    "make_button(::Windows,text::String)=WindowsButton(text)\n",
    "make_label(::Windows,text::String)=WindowsLabel(text)"
   ]
  },
  {
   "cell_type": "code",
   "execution_count": 12,
   "metadata": {},
   "outputs": [
    {
     "data": {
      "text/plain": [
       "make_label (generic function with 3 methods)"
      ]
     },
     "execution_count": 12,
     "metadata": {},
     "output_type": "execute_result"
    }
   ],
   "source": [
    "current_os()=MacOS()\n",
    "make_button(text::String)=make_button(current_os(),text)\n",
    "make_label(text::String)=make_label(current_os(),text)"
   ]
  },
  {
   "cell_type": "code",
   "execution_count": 13,
   "metadata": {},
   "outputs": [
    {
     "ename": "LoadError",
     "evalue": "UndefVarError: Uint128 not defined",
     "output_type": "error",
     "traceback": [
      "UndefVarError: Uint128 not defined",
      "",
      "Stacktrace:",
      " [1] top-level scope at In[13]:1",
      " [2] include_string(::Function, ::Module, ::String, ::String) at .\\loading.jl:1091"
     ]
    }
   ],
   "source": [
    "struct AppKey\n",
    "    appid::String\n",
    "    value::Uint128\n",
    "end\n",
    "\n",
    "constf applkey=ref{AppKey}()\n",
    "function construct()\n",
    "    global appkey\n",
    "    if !isassigned(appkey)\n",
    "        ak=AppKey(\"myapp\",rand(UInt128))\n",
    "        println(\"constructing $ak\")\n",
    "        appkey[]=ak\n",
    "    end\n",
    "    return nothing \n",
    "end\n",
    "    \n",
    "    \n",
    "    \n",
    "    \n",
    "    "
   ]
  }
 ],
 "metadata": {
  "kernelspec": {
   "display_name": "Julia 1.5.0",
   "language": "julia",
   "name": "julia-1.5"
  },
  "language_info": {
   "file_extension": ".jl",
   "mimetype": "application/julia",
   "name": "julia",
   "version": "1.5.0"
  }
 },
 "nbformat": 4,
 "nbformat_minor": 4
}
