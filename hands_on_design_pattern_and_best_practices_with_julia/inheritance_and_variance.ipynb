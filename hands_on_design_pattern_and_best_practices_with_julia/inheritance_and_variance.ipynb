{
 "cells": [
  {
   "cell_type": "code",
   "execution_count": 4,
   "metadata": {},
   "outputs": [
    {
     "data": {
      "text/plain": [
       "\"Car() has moved\""
      ]
     },
     "execution_count": 4,
     "metadata": {},
     "output_type": "execute_result"
    }
   ],
   "source": [
    "abstract type Vehicle end\n",
    "struct Car <: Vehicle end\n",
    "move(v::Vehicle)=\"$v has moved\"\n",
    "car=Car()\n",
    "move(car)"
   ]
  },
  {
   "cell_type": "code",
   "execution_count": 5,
   "metadata": {},
   "outputs": [
    {
     "data": {
      "text/plain": [
       "\"Helicopter() has lifted off\""
      ]
     },
     "execution_count": 5,
     "metadata": {},
     "output_type": "execute_result"
    }
   ],
   "source": [
    "abstract type FlyingVehicle <:Vehicle end\n",
    "liftoff(v::FlyingVehicle)=\"$v has lifted off\"\n",
    "struct Helicopter <:FlyingVehicle end\n",
    "helicopter=Helicopter()\n",
    "move(helicopter)\n",
    "liftoff(helicopter)"
   ]
  },
  {
   "cell_type": "code",
   "execution_count": 6,
   "metadata": {},
   "outputs": [
    {
     "data": {
      "text/plain": [
       "\"Helicopter() has liftef off verticaly\""
      ]
     },
     "execution_count": 6,
     "metadata": {},
     "output_type": "execute_result"
    }
   ],
   "source": [
    "liftoff(h::Helicopter)=\"$h has liftef off verticaly\"\n",
    "liftoff(helicopter)"
   ]
  },
  {
   "cell_type": "code",
   "execution_count": 7,
   "metadata": {},
   "outputs": [
    {
     "data": {
      "text/plain": [
       "Horse()"
      ]
     },
     "execution_count": 7,
     "metadata": {},
     "output_type": "execute_result"
    }
   ],
   "source": [
    "abstract type Animal end\n",
    "struct Horse <:Animal end\n",
    "move(h::Horse)=\"$h running fast:\"\n",
    "horse=Horse()\n"
   ]
  },
  {
   "cell_type": "code",
   "execution_count": 8,
   "metadata": {},
   "outputs": [
    {
     "name": "stdout",
     "output_type": "stream",
     "text": [
      "Cat:hogeis now adopted\n",
      "adopt(Cat(\"hoge\")) = Cat:hoge\n"
     ]
    },
    {
     "ename": "LoadError",
     "evalue": "MethodError: no method matching adopt(::Crocodile)\nClosest candidates are:\n  adopt(!Matched::Mammale) at In[8]:23",
     "output_type": "error",
     "traceback": [
      "MethodError: no method matching adopt(::Crocodile)\nClosest candidates are:\n  adopt(!Matched::Mammale) at In[8]:23",
      "",
      "Stacktrace:",
      " [1] top-level scope at show.jl:641",
      " [2] include_string(::Function, ::Module, ::String, ::String) at .\\loading.jl:1091"
     ]
    }
   ],
   "source": [
    "abstract type Vertebrate end\n",
    "abstract type Mammale <:Vertebrate end\n",
    "abstract type Reptile <: Vertebrate end\n",
    "\n",
    "\n",
    "struct Cat <:Mammale\n",
    "    name\n",
    "end\n",
    "\n",
    "struct Dog<:Mammale\n",
    "    name\n",
    "end\n",
    "\n",
    "struct Crocodile <:Reptile\n",
    "    name\n",
    "end\n",
    "\n",
    "    \n",
    "Base.show(io::IO,cat::Cat)=print(io,\"Cat:\",cat.name)\n",
    "Base.show(io::IO,dog::Dog)=print(io,\"Dog:\",dog.name)\n",
    "Base.show(io::IO,croc::Crocodile)=print(io,\"Crocodile:\",croc.name)\n",
    "\n",
    "function adopt(m::Mammale)\n",
    "    println(m,\"is now adopted\")\n",
    "    return m\n",
    "end\n",
    "\n",
    "@show adopt(Cat(\"hoge\"))\n",
    "\n",
    "@show adopt(Crocodile(\"hoge\"))\n",
    "    "
   ]
  },
  {
   "cell_type": "code",
   "execution_count": 9,
   "metadata": {},
   "outputs": [
    {
     "ename": "LoadError",
     "evalue": "MethodError: no method matching adopt(::Array{Cat,1})\nClosest candidates are:\n  adopt(!Matched::Array{Mammale,1}) at In[9]:1\n  adopt(!Matched::Mammale) at In[8]:23",
     "output_type": "error",
     "traceback": [
      "MethodError: no method matching adopt(::Array{Cat,1})\nClosest candidates are:\n  adopt(!Matched::Array{Mammale,1}) at In[9]:1\n  adopt(!Matched::Mammale) at In[8]:23",
      "",
      "Stacktrace:",
      " [1] top-level scope at In[9]:3",
      " [2] include_string(::Function, ::Module, ::String, ::String) at .\\loading.jl:1091"
     ]
    }
   ],
   "source": [
    "adopt(ms::Array{Mammale,1})=\"adopted\"*string(ms)\n",
    "\n",
    "adopt([Cat(\"hoge\")])"
   ]
  },
  {
   "cell_type": "code",
   "execution_count": 10,
   "metadata": {},
   "outputs": [
    {
     "data": {
      "text/plain": [
       "\"accepted same kind:Cat[Cat:hoge]\""
      ]
     },
     "execution_count": 10,
     "metadata": {},
     "output_type": "execute_result"
    }
   ],
   "source": [
    "function adopt(ms::Array{T,1})where {T <: Mammale}\n",
    "    return \"accepted same kind:\" * string(ms)\n",
    "end\n",
    "adopt([Cat(\"hoge\")])"
   ]
  },
  {
   "cell_type": "code",
   "execution_count": 12,
   "metadata": {},
   "outputs": [
    {
     "name": "stdout",
     "output_type": "stream",
     "text": [
      "Tuple{Cat, Cat} <: Tuple{Mammale, Mammale} = true\n",
      "Tuple{Cat, Dog} <: Tuple{Mammale, Mammale} = true\n"
     ]
    },
    {
     "data": {
      "text/plain": [
       "true"
      ]
     },
     "execution_count": 12,
     "metadata": {},
     "output_type": "execute_result"
    }
   ],
   "source": [
    "@show Tuple{Cat,Cat}<:Tuple{Mammale,Mammale}\n",
    "@show Tuple{Cat,Dog}<:Tuple{Mammale,Mammale}"
   ]
  },
  {
   "cell_type": "code",
   "execution_count": 18,
   "metadata": {},
   "outputs": [
    {
     "name": "stdout",
     "output_type": "stream",
     "text": [
      "all(isodd, [1, 2, 3, 4, 5]) = false\n",
      "typeof(isodd) <: Function = true\n",
      "typeof(isodd) = typeof(isodd)\n",
      "typeof(typeof) <: Function = true\n",
      "typeof(typeof) = typeof(typeof)\n"
     ]
    },
    {
     "data": {
      "text/plain": [
       "typeof(typeof)"
      ]
     },
     "execution_count": 18,
     "metadata": {},
     "output_type": "execute_result"
    }
   ],
   "source": [
    "@show all(isodd,[1,2,3,4,5])\n",
    "@show typeof(isodd)<:Function\n",
    "@show typeof(isodd)\n",
    "@show typeof(typeof)<:Function\n",
    "@show typeof(typeof)"
   ]
  },
  {
   "cell_type": "code",
   "execution_count": 19,
   "metadata": {},
   "outputs": [
    {
     "data": {
      "text/plain": [
       "Function"
      ]
     },
     "execution_count": 19,
     "metadata": {},
     "output_type": "execute_result"
    }
   ],
   "source": [
    "@show typeof(isodd)|>supertype\n"
   ]
  },
  {
   "cell_type": "code",
   "execution_count": 22,
   "metadata": {},
   "outputs": [
    {
     "name": "stdout",
     "output_type": "stream",
     "text": [
      "typeof(println) <: Function = true\n",
      "1\n"
     ]
    },
    {
     "ename": "LoadError",
     "evalue": "TypeError: non-boolean (Nothing) used in boolean context",
     "output_type": "error",
     "traceback": [
      "TypeError: non-boolean (Nothing) used in boolean context",
      "",
      "Stacktrace:",
      " [1] _all(::typeof(println), ::Array{Int64,1}, ::Colon) at .\\reduce.jl:832",
      " [2] all(::Function, ::Array{Int64,1}; dims::Function) at .\\reducedim.jl:732",
      " [3] all(::Function, ::Array{Int64,1}) at .\\reducedim.jl:732",
      " [4] top-level scope at show.jl:641",
      " [5] include_string(::Function, ::Module, ::String, ::String) at .\\loading.jl:1091"
     ]
    }
   ],
   "source": [
    "@show typeof(println)<:Function\n",
    "@show all(println,[1,2,3,4])"
   ]
  },
  {
   "cell_type": "code",
   "execution_count": 23,
   "metadata": {},
   "outputs": [
    {
     "ename": "LoadError",
     "evalue": "MethodError: no method matching Union(::typeof(isodd), ::typeof(iseven))",
     "output_type": "error",
     "traceback": [
      "MethodError: no method matching Union(::typeof(isodd), ::typeof(iseven))",
      "",
      "Stacktrace:",
      " [1] top-level scope at In[23]:1",
      " [2] include_string(::Function, ::Module, ::String, ::String) at .\\loading.jl:1091"
     ]
    }
   ],
   "source": [
    "const SignFunctions=Union{typeof(isodd),typeof(iseven}\n",
    "@show typeof(SignFunctions)"
   ]
  }
 ],
 "metadata": {
  "kernelspec": {
   "display_name": "Julia 1.5.0",
   "language": "julia",
   "name": "julia-1.5"
  },
  "language_info": {
   "file_extension": ".jl",
   "mimetype": "application/julia",
   "name": "julia",
   "version": "1.5.0"
  }
 },
 "nbformat": 4,
 "nbformat_minor": 4
}
