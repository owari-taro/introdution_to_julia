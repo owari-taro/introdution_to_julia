{
 "cells": [
  {
   "cell_type": "code",
   "execution_count": 2,
   "metadata": {},
   "outputs": [
    {
     "data": {
      "text/plain": [
       "\"Car() has moved\""
      ]
     },
     "execution_count": 2,
     "metadata": {},
     "output_type": "execute_result"
    }
   ],
   "source": [
    "abstract type Vehicle end\n",
    "struct Car <: Vehicle end\n",
    "move(v::Vehicle)=\"$v has moved\"\n",
    "car=Car()\n",
    "move(car)"
   ]
  },
  {
   "cell_type": "code",
   "execution_count": 3,
   "metadata": {},
   "outputs": [
    {
     "data": {
      "text/plain": [
       "\"Helicopter() has lifted off\""
      ]
     },
     "execution_count": 3,
     "metadata": {},
     "output_type": "execute_result"
    }
   ],
   "source": [
    "abstract type FlyingVehicle <:Vehicle end\n",
    "liftoff(v::FlyingVehicle)=\"$v has lifted off\"\n",
    "struct Helicopter <:FlyingVehicle end\n",
    "helicopter=Helicopter()\n",
    "move(helicopter)\n",
    "liftoff(helicopter)"
   ]
  },
  {
   "cell_type": "code",
   "execution_count": 4,
   "metadata": {},
   "outputs": [
    {
     "data": {
      "text/plain": [
       "\"Helicopter() has liftef off verticaly\""
      ]
     },
     "execution_count": 4,
     "metadata": {},
     "output_type": "execute_result"
    }
   ],
   "source": [
    "liftoff(h::Helicopter)=\"$h has liftef off verticaly\"\n",
    "liftoff(helicopter)"
   ]
  },
  {
   "cell_type": "code",
   "execution_count": 5,
   "metadata": {},
   "outputs": [
    {
     "data": {
      "text/plain": [
       "Horse()"
      ]
     },
     "execution_count": 5,
     "metadata": {},
     "output_type": "execute_result"
    }
   ],
   "source": [
    "abstract type Animal end\n",
    "struct Horse <:Animal end\n",
    "move(h::Horse)=\"$h running fast:\"\n",
    "horse=Horse()\n"
   ]
  },
  {
   "cell_type": "code",
   "execution_count": 14,
   "metadata": {},
   "outputs": [
    {
     "name": "stdout",
     "output_type": "stream",
     "text": [
      "Cat:hogeis now adopted\n",
      "adopt(Cat(\"hoge\")) = Cat:hoge\n"
     ]
    },
    {
     "ename": "LoadError",
     "evalue": "MethodError: no method matching adopt(::Crocodile)\nClosest candidates are:\n  adopt(!Matched::Mammale) at In[14]:23",
     "output_type": "error",
     "traceback": [
      "MethodError: no method matching adopt(::Crocodile)\nClosest candidates are:\n  adopt(!Matched::Mammale) at In[14]:23",
      "",
      "Stacktrace:",
      " [1] top-level scope at show.jl:641",
      " [2] include_string(::Function, ::Module, ::String, ::String) at .\\loading.jl:1091"
     ]
    }
   ],
   "source": [
    "abstract type Vertebrate end\n",
    "abstract type Mammale <:Vertebrate end\n",
    "abstract type Reptile <: Vertebrate end\n",
    "\n",
    "\n",
    "struct Cat <:Mammale\n",
    "    name\n",
    "end\n",
    "\n",
    "struct Dog<:Mammale\n",
    "    name\n",
    "end\n",
    "\n",
    "struct Crocodile <:Reptile\n",
    "    name\n",
    "end\n",
    "\n",
    "    \n",
    "Base.show(io::IO,cat::Cat)=print(io,\"Cat:\",cat.name)\n",
    "Base.show(io::IO,dog::Dog)=print(io,\"Dog:\",dog.name)\n",
    "Base.show(io::IO,croc::Crocodile)=print(io,\"Crocodile:\",croc.name)\n",
    "\n",
    "function adopt(m::Mammale)\n",
    "    println(m,\"is now adopted\")\n",
    "    return m\n",
    "end\n",
    "\n",
    "@show adopt(Cat(\"hoge\"))\n",
    "\n",
    "@show adopt(Crocodile(\"hoge\"))\n",
    "    "
   ]
  },
  {
   "cell_type": "code",
   "execution_count": 16,
   "metadata": {},
   "outputs": [
    {
     "ename": "LoadError",
     "evalue": "MethodError: no method matching adopt(::Array{Cat,1})\nClosest candidates are:\n  adopt(!Matched::Array{Mammale,1}) at In[16]:1\n  adopt(!Matched::Mammale) at In[14]:23",
     "output_type": "error",
     "traceback": [
      "MethodError: no method matching adopt(::Array{Cat,1})\nClosest candidates are:\n  adopt(!Matched::Array{Mammale,1}) at In[16]:1\n  adopt(!Matched::Mammale) at In[14]:23",
      "",
      "Stacktrace:",
      " [1] top-level scope at In[16]:3",
      " [2] include_string(::Function, ::Module, ::String, ::String) at .\\loading.jl:1091"
     ]
    }
   ],
   "source": [
    "adopt(ms::Array{Mammale,1})=\"adopted\"*string(ms)\n",
    "\n",
    "adopt([Cat(\"hoge\")])"
   ]
  },
  {
   "cell_type": "code",
   "execution_count": 17,
   "metadata": {},
   "outputs": [
    {
     "data": {
      "text/plain": [
       "\"accepted same kind:Cat[Cat:hoge]\""
      ]
     },
     "execution_count": 17,
     "metadata": {},
     "output_type": "execute_result"
    }
   ],
   "source": [
    "function adopt(ms::Array{T,1})where {T <: Mammale}\n",
    "    return \"accepted same kind:\" * string(ms)\n",
    "end\n",
    "adopt([Cat(\"hoge\")])"
   ]
  }
 ],
 "metadata": {
  "kernelspec": {
   "display_name": "Julia 1.5.0",
   "language": "julia",
   "name": "julia-1.5"
  },
  "language_info": {
   "file_extension": ".jl",
   "mimetype": "application/julia",
   "name": "julia",
   "version": "1.5.0"
  }
 },
 "nbformat": 4,
 "nbformat_minor": 4
}
