{
 "cells": [
  {
   "cell_type": "code",
   "execution_count": 9,
   "metadata": {},
   "outputs": [
    {
     "name": "stdout",
     "output_type": "stream",
     "text": [
      "using iterative algorithm\n",
      "fib(10) = 55\n",
      "using memoization algorithm\n",
      "fib(60) = 1548008755920\n"
     ]
    },
    {
     "data": {
      "text/plain": [
       "1548008755920"
      ]
     },
     "execution_count": 9,
     "metadata": {},
     "output_type": "execute_result"
    }
   ],
   "source": [
    "abstract type Algo end\n",
    "struct Memoized<:Algo end\n",
    "struct Iterative <:Algo end\n",
    "\n",
    "using Memoize\n",
    "@memoize function _fib(n)\n",
    "    n <= 2 ? 1 : _fib(n-1)+_fib(n-2)\n",
    "end\n",
    "\n",
    "function fib(::Memoized,n)\n",
    "    println(\"using memoization algorithm\")\n",
    "    _fib(n)\n",
    "end\n",
    "\n",
    "function fib(::Iterative,n)\n",
    "    println(\"using iterative algorithm\")\n",
    "    n<=2 && return 1\n",
    "    prev1,prev2=1,1\n",
    "    local curr\n",
    "    for i in 3:n\n",
    "        curr=prev1+prev2\n",
    "        prev1,prev2=curr,prev1\n",
    "    end\n",
    "    return curr\n",
    "end\n",
    "\n",
    "\n",
    "function fib(n)\n",
    "    algo= n>50 ? Memoized() : Iterative()\n",
    "    return fib(algo,n)\n",
    "end\n",
    "\n",
    "@show fib(10)\n",
    "@show fib(60)"
   ]
  }
 ],
 "metadata": {
  "kernelspec": {
   "display_name": "Julia 1.5.0",
   "language": "julia",
   "name": "julia-1.5"
  },
  "language_info": {
   "file_extension": ".jl",
   "mimetype": "application/julia",
   "name": "julia",
   "version": "1.5.0"
  }
 },
 "nbformat": 4,
 "nbformat_minor": 4
}
