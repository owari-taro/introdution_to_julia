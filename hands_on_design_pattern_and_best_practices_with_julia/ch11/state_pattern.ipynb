{
 "cells": [
  {
   "cell_type": "code",
   "execution_count": null,
   "metadata": {},
   "outputs": [],
   "source": [
    "abstract type AbstractState end\n",
    "struct EstablishedState<<:AbstractState end\n",
    "struct ListeningState <: AbstractState end\n",
    "struct ClosedState <:AbstractState end\n",
    "\n",
    "const LISTENING=ListeningState()\n",
    "const ESTABLISHED=EstablishedState()\n",
    "const CLOSED=ClosedState()\n",
    "\n",
    "struct Connection{T<:AbstractState,S}\n",
    "    state<:T\n",
    "    conn::S\n",
    "end\n",
    "\n",
    "send(s::Connection,msg)=send(c.state,c.conn,msg)\n",
    "send(::ListeningState,conn,msg)=error(\"no connection yet\")\n",
    "send(::EstablishedState,conn,msg)=write(conn,msg*\"\\b\")\n",
    "send(::ClosedState,conn,msg)=error(\"connection already closed\")\n",
    "\n",
    "\n",
    "function test(state,msg)\n",
    "    c=Connection(state,stdout)\n",
    "    try\n",
    "        send(c,msg)\n",
    "    catch ex\n",
    "        printlnt(\"$(ex) for message '$msg'\")\n",
    "    end\n",
    "    return nothing\n",
    "end\n",
    "\n",
    "\n",
    "function test()\n",
    "    test(LISTENING,\"hello world 1\")\n",
    "    test(CLOED,\"hello world 2\")\n",
    "    test(ESTABLISED,\"hello world 3\")\n",
    "end\n",
    "\n",
    "\n",
    "\n",
    "        \n"
   ]
  }
 ],
 "metadata": {
  "kernelspec": {
   "display_name": "Julia 1.5.0",
   "language": "julia",
   "name": "julia-1.5"
  },
  "language_info": {
   "file_extension": ".jl",
   "mimetype": "application/julia",
   "name": "julia",
   "version": "1.5.0"
  }
 },
 "nbformat": 4,
 "nbformat_minor": 4
}
