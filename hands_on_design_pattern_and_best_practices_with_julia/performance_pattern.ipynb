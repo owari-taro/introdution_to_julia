{
 "cells": [
  {
   "cell_type": "code",
   "execution_count": 4,
   "metadata": {},
   "outputs": [
    {
     "name": "stdout",
     "output_type": "stream",
     "text": [
      "  24.095 ns (0 allocations: 0 bytes)\n"
     ]
    },
    {
     "data": {
      "text/plain": [
       "20"
      ]
     },
     "execution_count": 4,
     "metadata": {},
     "output_type": "execute_result"
    }
   ],
   "source": [
    "variable=10\n",
    "\n",
    "function add_using_global_variable(x)\n",
    "    return x+variable\n",
    "end\n",
    "using BenchmarkTools\n",
    "\n",
    "@btime add_using_global_variable(10)"
   ]
  },
  {
   "cell_type": "code",
   "execution_count": 7,
   "metadata": {},
   "outputs": [
    {
     "name": "stdout",
     "output_type": "stream",
     "text": [
      "  0.001 ns (0 allocations: 0 bytes)\n"
     ]
    },
    {
     "data": {
      "text/plain": [
       "20"
      ]
     },
     "execution_count": 7,
     "metadata": {},
     "output_type": "execute_result"
    }
   ],
   "source": [
    "function add_using_function_args(x,y)\n",
    "    return x+y\n",
    "end\n",
    "\n",
    "@btime add_using_function_args(10,10)"
   ]
  },
  {
   "cell_type": "code",
   "execution_count": 9,
   "metadata": {},
   "outputs": [
    {
     "name": "stdout",
     "output_type": "stream",
     "text": [
      "\n",
      ";  @ In[7]:1 within `add_using_function_args'\n",
      "; Function Attrs: uwtable\n",
      "define i64 @julia_add_using_function_args_1576(i64, i64) #0 {\n",
      "top:\n",
      ";  @ In[7]:2 within `add_using_function_args'\n",
      "; ┌ @ int.jl:86 within `+'\n",
      "   %2 = add i64 %1, %0\n",
      "; └\n",
      "  ret i64 %2\n",
      "}\n"
     ]
    }
   ],
   "source": [
    "@code_llvm add_using_function_args(10,10)"
   ]
  },
  {
   "cell_type": "code",
   "execution_count": 11,
   "metadata": {
    "scrolled": false
   },
   "outputs": [
    {
     "name": "stdout",
     "output_type": "stream",
     "text": [
      "\n",
      ";  @ In[4]:3 within `add_using_global_variable'\n",
      "; Function Attrs: uwtable\n",
      "define nonnull %jl_value_t* @julia_add_using_global_variable_1578(i64) #0 {\n",
      "top:\n",
      "  %1 = alloca %jl_value_t*, i32 2\n",
      "  %gcframe = alloca %jl_value_t*, i32 4, align 16\n",
      "  %2 = bitcast %jl_value_t** %gcframe to i8*\n",
      "  call void @llvm.memset.p0i8.i32(i8* align 16 %2, i8 0, i32 32, i1 false)\n",
      "  %3 = call %jl_value_t*** inttoptr (i64 1720679008 to %jl_value_t*** ()*)() #6\n",
      ";  @ In[4]:4 within `add_using_global_variable'\n",
      "  %4 = getelementptr %jl_value_t*, %jl_value_t** %gcframe, i32 0\n",
      "  %5 = bitcast %jl_value_t** %4 to i64*\n",
      "  store i64 8, i64* %5\n",
      "  %6 = getelementptr %jl_value_t**, %jl_value_t*** %3, i32 0\n",
      "  %7 = getelementptr %jl_value_t*, %jl_value_t** %gcframe, i32 1\n",
      "  %8 = bitcast %jl_value_t** %7 to %jl_value_t***\n",
      "  %9 = load %jl_value_t**, %jl_value_t*** %6\n",
      "  store %jl_value_t** %9, %jl_value_t*** %8\n",
      "  %10 = bitcast %jl_value_t*** %6 to %jl_value_t***\n",
      "  store %jl_value_t** %gcframe, %jl_value_t*** %10\n",
      "  %11 = load %jl_value_t*, %jl_value_t** inttoptr (i64 372576888 to %jl_value_t**), align 8\n",
      "  %12 = getelementptr %jl_value_t*, %jl_value_t** %gcframe, i32 2\n",
      "  store %jl_value_t* %11, %jl_value_t** %12\n",
      "  %13 = call %jl_value_t* @jl_box_int64(i64 signext %0)\n",
      "  %14 = getelementptr %jl_value_t*, %jl_value_t** %gcframe, i32 3\n",
      "  store %jl_value_t* %13, %jl_value_t** %14\n",
      "  %15 = getelementptr %jl_value_t*, %jl_value_t** %1, i32 0\n",
      "  store %jl_value_t* %13, %jl_value_t** %15\n",
      "  %16 = getelementptr %jl_value_t*, %jl_value_t** %1, i32 1\n",
      "  store %jl_value_t* %11, %jl_value_t** %16\n",
      "  %17 = call nonnull %jl_value_t* @jl_apply_generic(%jl_value_t* inttoptr (i64 195179456 to %jl_value_t*), %jl_value_t** %1, i32 2)\n",
      "  %18 = getelementptr %jl_value_t*, %jl_value_t** %gcframe, i32 1\n",
      "  %19 = load %jl_value_t*, %jl_value_t** %18\n",
      "  %20 = getelementptr %jl_value_t**, %jl_value_t*** %3, i32 0\n",
      "  %21 = bitcast %jl_value_t*** %20 to %jl_value_t**\n",
      "  store %jl_value_t* %19, %jl_value_t** %21\n",
      "  ret %jl_value_t* %17\n",
      "}\n"
     ]
    }
   ],
   "source": [
    "@code_llvm add_using_global_variable(10)"
   ]
  },
  {
   "cell_type": "code",
   "execution_count": 17,
   "metadata": {},
   "outputs": [
    {
     "data": {
      "text/plain": [
       "10"
      ]
     },
     "execution_count": 17,
     "metadata": {},
     "output_type": "execute_result"
    }
   ],
   "source": [
    "function constant_folding_example()\n",
    "    a=2*3\n",
    "    b=a+1\n",
    "    b>1 ? 10 : 20\n",
    "end\n",
    "\n",
    "constant_folding_example()"
   ]
  },
  {
   "cell_type": "code",
   "execution_count": 1,
   "metadata": {},
   "outputs": [
    {
     "ename": "LoadError",
     "evalue": "UndefVarError: constant_folding_example not defined",
     "output_type": "error",
     "traceback": [
      "UndefVarError: constant_folding_example not defined",
      "",
      "Stacktrace:",
      " [1] top-level scope at D:\\buildbot\\worker\\package_win64\\build\\usr\\share\\julia\\stdlib\\v1.5\\InteractiveUtils\\src\\macros.jl:214",
      " [2] include_string(::Function, ::Module, ::String, ::String) at .\\loading.jl:1091"
     ]
    }
   ],
   "source": [
    "@code_typed constant_folding_example()"
   ]
  },
  {
   "cell_type": "code",
   "execution_count": 3,
   "metadata": {},
   "outputs": [
    {
     "name": "stdout",
     "output_type": "stream",
     "text": [
      "Variables\n",
      "  #self#\u001b[36m::Core.Compiler.Const(double_sum_of_random_data, false)\u001b[39m\n",
      "  n\u001b[36m::Int64\u001b[39m\n",
      "  data\u001b[91m\u001b[1m::Union{Array{Float64,1}, Array{Int64,1}}\u001b[22m\u001b[39m\n",
      "  total\u001b[91m\u001b[1m::Union{Float64, Int64}\u001b[22m\u001b[39m\n",
      "  @_5\u001b[33m\u001b[1m::Union{Nothing, Tuple{Union{Float64, Int64},Int64}}\u001b[22m\u001b[39m\n",
      "  v\u001b[91m\u001b[1m::Union{Float64, Int64}\u001b[22m\u001b[39m\n",
      "\n",
      "Body\u001b[91m\u001b[1m::Union{Float64, Int64}\u001b[22m\u001b[39m\n",
      "\u001b[90m1 ─\u001b[39m       (data = Main.random_data(n))\n",
      "\u001b[90m│  \u001b[39m       (total = 0)\n",
      "\u001b[90m│  \u001b[39m %3  = data\u001b[91m\u001b[1m::Union{Array{Float64,1}, Array{Int64,1}}\u001b[22m\u001b[39m\n",
      "\u001b[90m│  \u001b[39m       (@_5 = Base.iterate(%3))\n",
      "\u001b[90m│  \u001b[39m %5  = (@_5 === nothing)\u001b[36m::Bool\u001b[39m\n",
      "\u001b[90m│  \u001b[39m %6  = Base.not_int(%5)\u001b[36m::Bool\u001b[39m\n",
      "\u001b[90m└──\u001b[39m       goto #4 if not %6\n",
      "\u001b[90m2 ┄\u001b[39m %8  = @_5::Tuple{Union{Float64, Int64},Int64}\u001b[91m\u001b[1m::Tuple{Union{Float64, Int64},Int64}\u001b[22m\u001b[39m\n",
      "\u001b[90m│  \u001b[39m       (v = Core.getfield(%8, 1))\n",
      "\u001b[90m│  \u001b[39m %10 = Core.getfield(%8, 2)\u001b[36m::Int64\u001b[39m\n",
      "\u001b[90m│  \u001b[39m %11 = total\u001b[91m\u001b[1m::Union{Float64, Int64}\u001b[22m\u001b[39m\n",
      "\u001b[90m│  \u001b[39m %12 = (2 * v)\u001b[91m\u001b[1m::Union{Float64, Int64}\u001b[22m\u001b[39m\n",
      "\u001b[90m│  \u001b[39m       (total = %11 + %12)\n",
      "\u001b[90m│  \u001b[39m       (@_5 = Base.iterate(%3, %10))\n",
      "\u001b[90m│  \u001b[39m %15 = (@_5 === nothing)\u001b[36m::Bool\u001b[39m\n",
      "\u001b[90m│  \u001b[39m %16 = Base.not_int(%15)\u001b[36m::Bool\u001b[39m\n",
      "\u001b[90m└──\u001b[39m       goto #4 if not %16\n",
      "\u001b[90m3 ─\u001b[39m       goto #2\n",
      "\u001b[90m4 ┄\u001b[39m       return total\n"
     ]
    }
   ],
   "source": [
    "random_data(n)=isodd(n) ? rand(Int,n) : rand(Float64,n)\n",
    "\n",
    "function double_sum_of_random_data(n)\n",
    "    data=random_data(n)\n",
    "    total=0\n",
    "    for v in data\n",
    "        total+=2v\n",
    "    end\n",
    "    return total\n",
    "end\n",
    "\n",
    "\n",
    "@code_warntype double_sum_of_random_data(1000)\n"
   ]
  },
  {
   "cell_type": "code",
   "execution_count": 5,
   "metadata": {},
   "outputs": [
    {
     "name": "stdout",
     "output_type": "stream",
     "text": [
      "Variables\n",
      "  #self#\u001b[36m::Core.Compiler.Const(double_sum, false)\u001b[39m\n",
      "  data\u001b[36m::Array{Int64,1}\u001b[39m\n",
      "  total\u001b[36m::Int64\u001b[39m\n",
      "  @_4\u001b[33m\u001b[1m::Union{Nothing, Tuple{Int64,Int64}}\u001b[22m\u001b[39m\n",
      "  v\u001b[36m::Int64\u001b[39m\n",
      "\n",
      "Body\u001b[36m::Int64\u001b[39m\n",
      "\u001b[90m1 ─\u001b[39m       (total = 0)\n",
      "\u001b[90m│  \u001b[39m %2  = data\u001b[36m::Array{Int64,1}\u001b[39m\n",
      "\u001b[90m│  \u001b[39m       (@_4 = Base.iterate(%2))\n",
      "\u001b[90m│  \u001b[39m %4  = (@_4 === nothing)\u001b[36m::Bool\u001b[39m\n",
      "\u001b[90m│  \u001b[39m %5  = Base.not_int(%4)\u001b[36m::Bool\u001b[39m\n",
      "\u001b[90m└──\u001b[39m       goto #4 if not %5\n",
      "\u001b[90m2 ┄\u001b[39m %7  = @_4::Tuple{Int64,Int64}\u001b[36m::Tuple{Int64,Int64}\u001b[39m\n",
      "\u001b[90m│  \u001b[39m       (v = Core.getfield(%7, 1))\n",
      "\u001b[90m│  \u001b[39m %9  = Core.getfield(%7, 2)\u001b[36m::Int64\u001b[39m\n",
      "\u001b[90m│  \u001b[39m %10 = total\u001b[36m::Int64\u001b[39m\n",
      "\u001b[90m│  \u001b[39m %11 = (2 * v)\u001b[36m::Int64\u001b[39m\n",
      "\u001b[90m│  \u001b[39m       (total = %10 + %11)\n",
      "\u001b[90m│  \u001b[39m       (@_4 = Base.iterate(%2, %9))\n",
      "\u001b[90m│  \u001b[39m %14 = (@_4 === nothing)\u001b[36m::Bool\u001b[39m\n",
      "\u001b[90m│  \u001b[39m %15 = Base.not_int(%14)\u001b[36m::Bool\u001b[39m\n",
      "\u001b[90m└──\u001b[39m       goto #4 if not %15\n",
      "\u001b[90m3 ─\u001b[39m       goto #2\n",
      "\u001b[90m4 ┄\u001b[39m       return total\n"
     ]
    }
   ],
   "source": [
    "function double_sum(data)\n",
    "    total=0\n",
    "    for v in data\n",
    "        total+=2v\n",
    "    end\n",
    "    return total\n",
    "end\n",
    "\n",
    "function double_sum_of_random_data(n)\n",
    "    data=randon_data(n)\n",
    "    return double_sum(n)\n",
    "end\n",
    "\n",
    "@code_warntype double_sum(rand(Int,3))"
   ]
  },
  {
   "cell_type": "code",
   "execution_count": 6,
   "metadata": {},
   "outputs": [
    {
     "name": "stdout",
     "output_type": "stream",
     "text": [
      "Variables\n",
      "  #self#\u001b[36m::Core.Compiler.Const(double_sum, false)\u001b[39m\n",
      "  data\u001b[36m::Array{Float64,1}\u001b[39m\n",
      "  total\u001b[91m\u001b[1m::Union{Float64, Int64}\u001b[22m\u001b[39m\n",
      "  @_4\u001b[33m\u001b[1m::Union{Nothing, Tuple{Float64,Int64}}\u001b[22m\u001b[39m\n",
      "  v\u001b[36m::Float64\u001b[39m\n",
      "\n",
      "Body\u001b[91m\u001b[1m::Union{Float64, Int64}\u001b[22m\u001b[39m\n",
      "\u001b[90m1 ─\u001b[39m       (total = 0)\n",
      "\u001b[90m│  \u001b[39m %2  = data\u001b[36m::Array{Float64,1}\u001b[39m\n",
      "\u001b[90m│  \u001b[39m       (@_4 = Base.iterate(%2))\n",
      "\u001b[90m│  \u001b[39m %4  = (@_4 === nothing)\u001b[36m::Bool\u001b[39m\n",
      "\u001b[90m│  \u001b[39m %5  = Base.not_int(%4)\u001b[36m::Bool\u001b[39m\n",
      "\u001b[90m└──\u001b[39m       goto #4 if not %5\n",
      "\u001b[90m2 ┄\u001b[39m %7  = @_4::Tuple{Float64,Int64}\u001b[36m::Tuple{Float64,Int64}\u001b[39m\n",
      "\u001b[90m│  \u001b[39m       (v = Core.getfield(%7, 1))\n",
      "\u001b[90m│  \u001b[39m %9  = Core.getfield(%7, 2)\u001b[36m::Int64\u001b[39m\n",
      "\u001b[90m│  \u001b[39m %10 = total\u001b[91m\u001b[1m::Union{Float64, Int64}\u001b[22m\u001b[39m\n",
      "\u001b[90m│  \u001b[39m %11 = (2 * v)\u001b[36m::Float64\u001b[39m\n",
      "\u001b[90m│  \u001b[39m       (total = %10 + %11)\n",
      "\u001b[90m│  \u001b[39m       (@_4 = Base.iterate(%2, %9))\n",
      "\u001b[90m│  \u001b[39m %14 = (@_4 === nothing)\u001b[36m::Bool\u001b[39m\n",
      "\u001b[90m│  \u001b[39m %15 = Base.not_int(%14)\u001b[36m::Bool\u001b[39m\n",
      "\u001b[90m└──\u001b[39m       goto #4 if not %15\n",
      "\u001b[90m3 ─\u001b[39m       goto #2\n",
      "\u001b[90m4 ┄\u001b[39m       return total\n"
     ]
    }
   ],
   "source": [
    "@code_warntype double_sum(rand(Float64,3))"
   ]
  }
 ],
 "metadata": {
  "kernelspec": {
   "display_name": "Julia 1.5.0",
   "language": "julia",
   "name": "julia-1.5"
  },
  "language_info": {
   "file_extension": ".jl",
   "mimetype": "application/julia",
   "name": "julia",
   "version": "1.5.0"
  }
 },
 "nbformat": 4,
 "nbformat_minor": 4
}
