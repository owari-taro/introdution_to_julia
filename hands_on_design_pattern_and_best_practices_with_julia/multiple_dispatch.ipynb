{
 "cells": [
  {
   "cell_type": "markdown",
   "metadata": {},
   "source": [
    "struct Position\n",
    "    x::Int\n",
    "    y::Int\n",
    "end\n",
    "\n",
    "struct Size\n",
    "    height::Int\n",
    "    width::Int\n",
    "end\n",
    "\n",
    "struct Rectangle\n",
    "    top;;Int\n",
    "    left::Int\n",
    "    bottom::Int\n",
    "    right::Int\n",
    "    Rectangle(p::Position,s::Size)=new(p.y+s.height,p.x,p.y,p.x+s.width)\n",
    "    Rectangle(x::Int,y::Int,z::Int,w::Int)=new(x,y,z,w)\n",
    "end\n",
    "\n",
    "pos=Position(3,4)\n",
    "siz=Size(3,4)\n",
    "@show Rectangle(pos,siz)\n",
    "#\n",
    "@show Rectangle(2,2,3,4)\n",
    "\n"
   ]
  },
  {
   "cell_type": "code",
   "execution_count": 7,
   "metadata": {},
   "outputs": [
    {
     "name": "stderr",
     "output_type": "stream",
     "text": [
      "WARNING: replacing module Foo.\n"
     ]
    },
    {
     "data": {
      "text/plain": [
       "Main.Foo"
      ]
     },
     "execution_count": 7,
     "metadata": {},
     "output_type": "execute_result"
    }
   ],
   "source": [
    "using Test\n",
    "module Foo\n",
    "    foo(x,y)=1\n",
    "    foo(x::Integer,y)=2\n",
    "    foo(x,y::Integer)=3\n",
    "end\n",
    "\n"
   ]
  },
  {
   "cell_type": "code",
   "execution_count": 11,
   "metadata": {},
   "outputs": [
    {
     "data": {
      "text/plain": [
       "1-element Array{Tuple{Method,Method},1}:\n",
       " (foo(x::Integer, y) in Main.Foo at In[7]:4, foo(x, y::Integer) in Main.Foo at In[7]:5)"
      ]
     },
     "execution_count": 11,
     "metadata": {},
     "output_type": "execute_result"
    }
   ],
   "source": [
    "detect_ambiguities(Main.Foo)"
   ]
  },
  {
   "cell_type": "code",
   "execution_count": 15,
   "metadata": {},
   "outputs": [
    {
     "ename": "LoadError",
     "evalue": "MethodError: foo(::Int64, ::Int64) is ambiguous. Candidates:\n  foo(x::Integer, y) in Main.Foo at In[7]:4\n  foo(x, y::Integer) in Main.Foo at In[7]:5\nPossible fix, define\n  foo(::Integer, ::Integer)",
     "output_type": "error",
     "traceback": [
      "MethodError: foo(::Int64, ::Int64) is ambiguous. Candidates:\n  foo(x::Integer, y) in Main.Foo at In[7]:4\n  foo(x, y::Integer) in Main.Foo at In[7]:5\nPossible fix, define\n  foo(::Integer, ::Integer)",
      "",
      "Stacktrace:",
      " [1] top-level scope at In[15]:1",
      " [2] include_string(::Function, ::Module, ::String, ::String) at .\\loading.jl:1091"
     ]
    }
   ],
   "source": [
    "#julia tells us what \n",
    "Foo.foo(2,2)"
   ]
  }
 ],
 "metadata": {
  "kernelspec": {
   "display_name": "Julia 1.5.0",
   "language": "julia",
   "name": "julia-1.5"
  },
  "language_info": {
   "file_extension": ".jl",
   "mimetype": "application/julia",
   "name": "julia",
   "version": "1.5.0"
  }
 },
 "nbformat": 4,
 "nbformat_minor": 4
}
