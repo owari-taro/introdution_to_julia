{
 "cells": [
  {
   "cell_type": "code",
   "execution_count": 1,
   "metadata": {},
   "outputs": [
    {
     "name": "stdout",
     "output_type": "stream",
     "text": [
      "fib(6) = (result = 8, counter = 15)\n",
      "fib(10) = (result = 55, counter = 109)\n",
      "fib(20) = (result = 6765, counter = 13529)\n"
     ]
    },
    {
     "data": {
      "text/plain": [
       "(result = 6765, counter = 13529)"
      ]
     },
     "execution_count": 1,
     "metadata": {},
     "output_type": "execute_result"
    }
   ],
   "source": [
    "function fib(n)\n",
    "    if n<3\n",
    "        return (result=1,counter=1)\n",
    "    else\n",
    "        result1,counter1=fib(n-1)\n",
    "        result2,counter2=fib(n-2)\n",
    "        return (result=result1+result2,counter=counter1+counter2+1)\n",
    "    end\n",
    "end\n",
    "\n",
    "@show fib(6)\n",
    "@show fib(10)\n",
    "@show fib(20)\n",
    "#@show fib(50)"
   ]
  },
  {
   "cell_type": "code",
   "execution_count": 9,
   "metadata": {},
   "outputs": [
    {
     "name": "stdout",
     "output_type": "stream",
     "text": [
      "  0.000020 seconds (180 allocations: 4.531 KiB)\n",
      "  0.000002 seconds\n",
      "  0.000014 seconds (51 allocations: 2.906 KiB)\n",
      "  0.000004 seconds (25 allocations: 400 bytes)\n"
     ]
    },
    {
     "data": {
      "text/plain": [
       "139583862445"
      ]
     },
     "execution_count": 9,
     "metadata": {},
     "output_type": "execute_result"
    }
   ],
   "source": [
    "using Memoize\n",
    "\n",
    "@memoize fib(n)=n < 3 ? 1 : fib(n-1)+fib(n-2)\n",
    "\n",
    "@time fib(40)\n",
    "@time fib(40)\n",
    "@time fib(50)\n",
    "@time fib(55)"
   ]
  },
  {
   "cell_type": "code",
   "execution_count": 2,
   "metadata": {},
   "outputs": [
    {
     "name": "stdout",
     "output_type": "stream",
     "text": [
      "reading file:test.csv\n",
      "  0.000611 seconds (687 allocations: 66.805 KiB)\n",
      "df = 7×24 DataFrame\n",
      "│ Row │ SaleNumber │ DocketNumber │ ID     │ AttorneyName │ Plaintiff                           │ Defendant                                                                                                                    │ SaleType             │ SaleDate   │ SaleStatus │ PPDate     │ Street                             │ City        │ State  │ ZIPCode │ Address │ Municipality │ CostsTaxes │ ServiceCompleted │ Delivered3129 │ ReadyForSale │ latitude │ longitude │ AdditionalNotes                                                  │ RecordDate │\n",
      "│     │ String     │ String       │ Int64  │ Missing      │ String                              │ String                                                                                                                       │ String               │ Dates.Date │ String     │ Dates.Da…? │ String                             │ String      │ String │ Int64   │ Missing │ Int64        │ Float64    │ Int64            │ Bool          │ Bool         │ Float64? │ Float64?  │ Union{Missing, String}                                           │ Dates.Date │\n",
      "├─────┼────────────┼──────────────┼────────┼──────────────┼─────────────────────────────────────┼──────────────────────────────────────────────────────────────────────────────────────────────────────────────────────────────┼──────────────────────┼────────────┼────────────┼────────────┼────────────────────────────────────┼─────────────┼────────┼─────────┼─────────┼──────────────┼────────────┼──────────────────┼───────────────┼──────────────┼──────────┼───────────┼──────────────────────────────────────────────────────────────────┼────────────┤\n",
      "│ 1   │ 004SEP20   │ GD-19-009369 │ 656672 │ missing      │ \"Elizabeth Forward School District\" │ \"The Unknown Heirs Of John E. Brown, Deceased\",\"Brown, Marla\",\"Brown, Dawn\",\"Pearsol, Yvonne\",\"Brown, George\",\"Brown, Keith\" │ Sci Fa sur Tax Lien  │ 2020-09-08 │ ACTIVE     │ missing    │ LOVEDALE RD (VACANT LAND)          │ ELIZABETH   │ PA     │ 15037   │ missing │ 37           │ 190365.0   │ 1                │ 1             │ 1            │ missing  │ missing   │ \"O/C F&C MIN BID $20,000.00\"                                     │ 2020-09-01 │\n",
      "│ 2   │ 007SEP20   │ GD-20-006099 │ 670923 │ missing      │ \"1510 Fifth Avenue LLC\"             │ \"CBX Investment Part IX LP\"                                                                                                  │ Other Real Estate    │ 2020-09-08 │ ACTIVE     │ missing    │ 1514 5TH AVE & 5TH AVE VACANT LOT  │ PITTSBURGH  │ PA     │ 15219   │ missing │ 130          │ 10078.0    │ 1                │ 1             │ 1            │ missing  │ missing   │ \"2 COMMERCIAL PARCELS\"                                           │ 2020-09-01 │\n",
      "│ 3   │ 005SEP20   │ GD-19-010786 │ 657780 │ missing      │ \"Elizabeth Forward School District\" │ \"Walters, Charles\",\"Walters, Jane\"                                                                                           │ Sci Fa sur Tax Lien  │ 2020-09-08 │ ACTIVE     │ missing    │ RAINBOW RUN RD -COM AUX BUILDING   │ MONONGAHELA │ PA     │ 15063   │ missing │ 44           │ 21595.6    │ 1                │ 1             │ 1            │ missing  │ missing   │ \"COMMERCIAL AUX BUILIDING    O/C F&C MIN OF $5,500.00\"           │ 2020-09-01 │\n",
      "│ 4   │ 001SEP20   │ GD-20-006557 │ 670161 │ missing      │ \"SSB Bank\"                          │ \"Zurynski, Paul\",\"Zurynski, Amy\"                                                                                             │ Mortgage Foreclosure │ 2020-09-08 │ POSTPONED  │ 2020-10-05 │ 4748 UNNIVERSITY BLVD              │ CORAOPOLIS  │ PA     │ 15108   │ missing │ 73           │ 56210.6    │ 0                │ 1             │ 0            │ 40.5378  │ -80.1969  │ \"2 COMMERCIAL PARCELS  SERVICE LATE& NOT COMPLETED W/IN 30 DAYS\" │ 2020-09-01 │\n",
      "│ 5   │ 002SEP20   │ GD-18-010328 │ 642572 │ missing      │ \"Penn Hills School District\"        │ \"Morris, Patricia\"                                                                                                           │ Sci Fa sur Tax Lien  │ 2020-09-08 │ POSTPONED  │ 2020-12-07 │ 7891 MARK DRIVE                    │ VERONA      │ PA     │ 15147   │ missing │ 86           │ 16257.7    │ 1                │ 0             │ 0            │ 40.4698  │ -79.869   │ missing                                                          │ 2020-09-01 │\n",
      "│ 6   │ 003SEP20   │ GD-19-006119 │ 653844 │ missing      │ \"South Allegheny School District\"   │ \"Rabickow, Martina\"                                                                                                          │ Sci Fa sur Tax Lien  │ 2020-09-08 │ ACTIVE     │ missing    │ 717 INDIANA AVE                    │ GLASSPORT   │ PA     │ 15045   │ missing │ 48           │ 13263.7    │ 1                │ 1             │ 1            │ 40.3237  │ -79.8882  │ missing                                                          │ 2020-09-01 │\n",
      "│ 7   │ 006SEP20   │ GD-17-010126 │ 624849 │ missing      │ \"Elizabeth Forward School District\" │ \"Dowden, Sharon\",\"Smith, Elizabeth\"                                                                                          │ Sci Fa sur Tax Lien  │ 2020-09-08 │ POSTPONED  │ 2020-11-02 │ 5808 SMITHFIELD ST                 │ MCKEESPORT  │ PA     │ 15135   │ missing │ 37           │ 23847.6    │ 0                │ 1             │ 0            │ 40.3115  │ -79.8243  │ \"PER SVC-DEF. ELIZABETH SMITH (DECEASED)\"                        │ 2020-09-01 │\n"
     ]
    },
    {
     "data": {
      "text/html": [
       "<table class=\"data-frame\"><thead><tr><th></th><th>SaleNumber</th><th>DocketNumber</th><th>ID</th><th>AttorneyName</th><th>Plaintiff</th></tr><tr><th></th><th>String</th><th>String</th><th>Int64</th><th>Missing</th><th>String</th></tr></thead><tbody><p>7 rows × 24 columns (omitted printing of 19 columns)</p><tr><th>1</th><td>004SEP20</td><td>GD-19-009369</td><td>656672</td><td><em>missing</em></td><td>\"Elizabeth Forward School District\"</td></tr><tr><th>2</th><td>007SEP20</td><td>GD-20-006099</td><td>670923</td><td><em>missing</em></td><td>\"1510 Fifth Avenue LLC\"</td></tr><tr><th>3</th><td>005SEP20</td><td>GD-19-010786</td><td>657780</td><td><em>missing</em></td><td>\"Elizabeth Forward School District\"</td></tr><tr><th>4</th><td>001SEP20</td><td>GD-20-006557</td><td>670161</td><td><em>missing</em></td><td>\"SSB Bank\"</td></tr><tr><th>5</th><td>002SEP20</td><td>GD-18-010328</td><td>642572</td><td><em>missing</em></td><td>\"Penn Hills School District\"</td></tr><tr><th>6</th><td>003SEP20</td><td>GD-19-006119</td><td>653844</td><td><em>missing</em></td><td>\"South Allegheny School District\"</td></tr><tr><th>7</th><td>006SEP20</td><td>GD-17-010126</td><td>624849</td><td><em>missing</em></td><td>\"Elizabeth Forward School District\"</td></tr></tbody></table>"
      ],
      "text/latex": [
       "\\begin{tabular}{r|cccccc}\n",
       "\t& SaleNumber & DocketNumber & ID & AttorneyName & Plaintiff & \\\\\n",
       "\t\\hline\n",
       "\t& String & String & Int64 & Missing & String & \\\\\n",
       "\t\\hline\n",
       "\t1 & 004SEP20 & GD-19-009369 & 656672 & \\emph{missing} & \"Elizabeth Forward School District\" & $\\dots$ \\\\\n",
       "\t2 & 007SEP20 & GD-20-006099 & 670923 & \\emph{missing} & \"1510 Fifth Avenue LLC\" & $\\dots$ \\\\\n",
       "\t3 & 005SEP20 & GD-19-010786 & 657780 & \\emph{missing} & \"Elizabeth Forward School District\" & $\\dots$ \\\\\n",
       "\t4 & 001SEP20 & GD-20-006557 & 670161 & \\emph{missing} & \"SSB Bank\" & $\\dots$ \\\\\n",
       "\t5 & 002SEP20 & GD-18-010328 & 642572 & \\emph{missing} & \"Penn Hills School District\" & $\\dots$ \\\\\n",
       "\t6 & 003SEP20 & GD-19-006119 & 653844 & \\emph{missing} & \"South Allegheny School District\" & $\\dots$ \\\\\n",
       "\t7 & 006SEP20 & GD-17-010126 & 624849 & \\emph{missing} & \"Elizabeth Forward School District\" & $\\dots$ \\\\\n",
       "\\end{tabular}\n"
      ],
      "text/plain": [
       "7×24 DataFrame. Omitted printing of 20 columns\n",
       "│ Row │ SaleNumber │ DocketNumber │ ID     │ AttorneyName │\n",
       "│     │ \u001b[90mString\u001b[39m     │ \u001b[90mString\u001b[39m       │ \u001b[90mInt64\u001b[39m  │ \u001b[90mMissing\u001b[39m      │\n",
       "├─────┼────────────┼──────────────┼────────┼──────────────┤\n",
       "│ 1   │ 004SEP20   │ GD-19-009369 │ 656672 │ \u001b[90mmissing\u001b[39m      │\n",
       "│ 2   │ 007SEP20   │ GD-20-006099 │ 670923 │ \u001b[90mmissing\u001b[39m      │\n",
       "│ 3   │ 005SEP20   │ GD-19-010786 │ 657780 │ \u001b[90mmissing\u001b[39m      │\n",
       "│ 4   │ 001SEP20   │ GD-20-006557 │ 670161 │ \u001b[90mmissing\u001b[39m      │\n",
       "│ 5   │ 002SEP20   │ GD-18-010328 │ 642572 │ \u001b[90mmissing\u001b[39m      │\n",
       "│ 6   │ 003SEP20   │ GD-19-006119 │ 653844 │ \u001b[90mmissing\u001b[39m      │\n",
       "│ 7   │ 006SEP20   │ GD-17-010126 │ 624849 │ \u001b[90mmissing\u001b[39m      │"
      ]
     },
     "execution_count": 2,
     "metadata": {},
     "output_type": "execute_result"
    }
   ],
   "source": [
    "using Caching ,CSV,DataFrames\n",
    "\n",
    "@cache function read_csv(filename::AbstractString)\n",
    "    println(\"reading file:\",filename)\n",
    "    @time df=CSV.File(filename) |> DataFrame\n",
    "    return df\n",
    "end\n",
    "\n",
    "df=read_csv(\"test.csv\")\n",
    "@show df\n"
   ]
  },
  {
   "cell_type": "code",
   "execution_count": 3,
   "metadata": {},
   "outputs": [
    {
     "name": "stdout",
     "output_type": "stream",
     "text": [
      "size(df) = (7, 24)\n",
      "read_csv.cache = Dict{UInt64,Any}(0x58fc842981b483ea => 7×24 DataFrame\n",
      "│ Row │ SaleNumber │ DocketNumber │ ID     │ AttorneyName │ Plaintiff                           │ Defendant                                                                                                                    │ SaleType             │ SaleDate   │ SaleStatus │ PPDate     │ Street                             │ City        │ State  │ ZIPCode │ Address │ Municipality │ CostsTaxes │ ServiceCompleted │ Delivered3129 │ ReadyForSale │ latitude │ longitude │ AdditionalNotes                                                  │ RecordDate │\n",
      "│     │ String     │ String       │ Int64  │ Missing      │ String                              │ String                                                                                                                       │ String               │ Dates.Date │ String     │ Dates.Da…? │ String                             │ String      │ String │ Int64   │ Missing │ Int64        │ Float64    │ Int64            │ Bool          │ Bool         │ Float64? │ Float64?  │ Union{Missing, String}                                           │ Dates.Date │\n",
      "├─────┼────────────┼──────────────┼────────┼──────────────┼─────────────────────────────────────┼──────────────────────────────────────────────────────────────────────────────────────────────────────────────────────────────┼──────────────────────┼────────────┼────────────┼────────────┼────────────────────────────────────┼─────────────┼────────┼─────────┼─────────┼──────────────┼────────────┼──────────────────┼───────────────┼──────────────┼──────────┼───────────┼──────────────────────────────────────────────────────────────────┼────────────┤\n",
      "│ 1   │ 004SEP20   │ GD-19-009369 │ 656672 │ missing      │ \"Elizabeth Forward School District\" │ \"The Unknown Heirs Of John E. Brown, Deceased\",\"Brown, Marla\",\"Brown, Dawn\",\"Pearsol, Yvonne\",\"Brown, George\",\"Brown, Keith\" │ Sci Fa sur Tax Lien  │ 2020-09-08 │ ACTIVE     │ missing    │ LOVEDALE RD (VACANT LAND)          │ ELIZABETH   │ PA     │ 15037   │ missing │ 37           │ 190365.0   │ 1                │ 1             │ 1            │ missing  │ missing   │ \"O/C F&C MIN BID $20,000.00\"                                     │ 2020-09-01 │\n",
      "│ 2   │ 007SEP20   │ GD-20-006099 │ 670923 │ missing      │ \"1510 Fifth Avenue LLC\"             │ \"CBX Investment Part IX LP\"                                                                                                  │ Other Real Estate    │ 2020-09-08 │ ACTIVE     │ missing    │ 1514 5TH AVE & 5TH AVE VACANT LOT  │ PITTSBURGH  │ PA     │ 15219   │ missing │ 130          │ 10078.0    │ 1                │ 1             │ 1            │ missing  │ missing   │ \"2 COMMERCIAL PARCELS\"                                           │ 2020-09-01 │\n",
      "│ 3   │ 005SEP20   │ GD-19-010786 │ 657780 │ missing      │ \"Elizabeth Forward School District\" │ \"Walters, Charles\",\"Walters, Jane\"                                                                                           │ Sci Fa sur Tax Lien  │ 2020-09-08 │ ACTIVE     │ missing    │ RAINBOW RUN RD -COM AUX BUILDING   │ MONONGAHELA │ PA     │ 15063   │ missing │ 44           │ 21595.6    │ 1                │ 1             │ 1            │ missing  │ missing   │ \"COMMERCIAL AUX BUILIDING    O/C F&C MIN OF $5,500.00\"           │ 2020-09-01 │\n",
      "│ 4   │ 001SEP20   │ GD-20-006557 │ 670161 │ missing      │ \"SSB Bank\"                          │ \"Zurynski, Paul\",\"Zurynski, Amy\"                                                                                             │ Mortgage Foreclosure │ 2020-09-08 │ POSTPONED  │ 2020-10-05 │ 4748 UNNIVERSITY BLVD              │ CORAOPOLIS  │ PA     │ 15108   │ missing │ 73           │ 56210.6    │ 0                │ 1             │ 0            │ 40.5378  │ -80.1969  │ \"2 COMMERCIAL PARCELS  SERVICE LATE& NOT COMPLETED W/IN 30 DAYS\" │ 2020-09-01 │\n",
      "│ 5   │ 002SEP20   │ GD-18-010328 │ 642572 │ missing      │ \"Penn Hills School District\"        │ \"Morris, Patricia\"                                                                                                           │ Sci Fa sur Tax Lien  │ 2020-09-08 │ POSTPONED  │ 2020-12-07 │ 7891 MARK DRIVE                    │ VERONA      │ PA     │ 15147   │ missing │ 86           │ 16257.7    │ 1                │ 0             │ 0            │ 40.4698  │ -79.869   │ missing                                                          │ 2020-09-01 │\n",
      "│ 6   │ 003SEP20   │ GD-19-006119 │ 653844 │ missing      │ \"South Allegheny School District\"   │ \"Rabickow, Martina\"                                                                                                          │ Sci Fa sur Tax Lien  │ 2020-09-08 │ ACTIVE     │ missing    │ 717 INDIANA AVE                    │ GLASSPORT   │ PA     │ 15045   │ missing │ 48           │ 13263.7    │ 1                │ 1             │ 1            │ 40.3237  │ -79.8882  │ missing                                                          │ 2020-09-01 │\n",
      "│ 7   │ 006SEP20   │ GD-17-010126 │ 624849 │ missing      │ \"Elizabeth Forward School District\" │ \"Dowden, Sharon\",\"Smith, Elizabeth\"                                                                                          │ Sci Fa sur Tax Lien  │ 2020-09-08 │ POSTPONED  │ 2020-11-02 │ 5808 SMITHFIELD ST                 │ MCKEESPORT  │ PA     │ 15135   │ missing │ 37           │ 23847.6    │ 0                │ 1             │ 0            │ 40.3115  │ -79.8243  │ \"PER SVC-DEF. ELIZABETH SMITH (DECEASED)\"                        │ 2020-09-01 │)\n"
     ]
    },
    {
     "data": {
      "text/plain": [
       "Dict{UInt64,Any} with 1 entry:\n",
       "  0x58fc842981b483ea => 7×24 DataFrame. Omitted printing of 20 columns…"
      ]
     },
     "execution_count": 3,
     "metadata": {},
     "output_type": "execute_result"
    }
   ],
   "source": [
    "@show size(df)\n",
    "@show read_csv.cache"
   ]
  },
  {
   "cell_type": "code",
   "execution_count": 9,
   "metadata": {},
   "outputs": [
    {
     "name": "stdout",
     "output_type": "stream",
     "text": [
      "Variables\n",
      "  #self#\u001b[36m::Core.Compiler.Const(random_data, false)\u001b[39m\n",
      "  n\u001b[36m::Int64\u001b[39m\n",
      "\n",
      "Body\u001b[91m\u001b[1m::Union{Array{Float64,1}, Array{Int64,1}}\u001b[22m\u001b[39m\n",
      "\u001b[90m1 ─\u001b[39m %1 = Main.isodd(n)\u001b[36m::Bool\u001b[39m\n",
      "\u001b[90m└──\u001b[39m      goto #3 if not %1\n",
      "\u001b[90m2 ─\u001b[39m %3 = Main.rand(Main.Int, n)\u001b[36m::Array{Int64,1}\u001b[39m\n",
      "\u001b[90m└──\u001b[39m      return %3\n",
      "\u001b[90m3 ─\u001b[39m %5 = Main.rand(Main.Float64, n)\u001b[36m::Array{Float64,1}\u001b[39m\n",
      "\u001b[90m└──\u001b[39m      return %5\n"
     ]
    }
   ],
   "source": [
    "random_data(n)=isodd(n) ? rand(Int,n) : rand(Float64,n)\n",
    "\n",
    "@code_warntype random_data(10)"
   ]
  },
  {
   "cell_type": "code",
   "execution_count": 13,
   "metadata": {},
   "outputs": [
    {
     "name": "stdout",
     "output_type": "stream",
     "text": [
      "  10.963 ms (200002 allocations: 3.81 MiB)\n",
      "  12.472 ms (200004 allocations: 3.81 MiB)\n"
     ]
    },
    {
     "data": {
      "text/plain": [
       "0"
      ]
     },
     "execution_count": 13,
     "metadata": {},
     "output_type": "execute_result"
    }
   ],
   "source": [
    "using BenchmarkTools\n",
    "function double_sum_of_random_data(n)\n",
    "    data=random_data(n)\n",
    "    total=0\n",
    "    for v  in data\n",
    "        total+z=2*v\n",
    "    end\n",
    "    return total\n",
    "end\n",
    "@btime double_sum_of_random_data(100000)\n",
    "@btime double_sum_of_random_data(100001)"
   ]
  },
  {
   "cell_type": "code",
   "execution_count": 15,
   "metadata": {},
   "outputs": [
    {
     "name": "stdout",
     "output_type": "stream",
     "text": [
      "Variables\n",
      "  #self#\u001b[36m::Core.Compiler.Const(double_sum_of_random_data, false)\u001b[39m\n",
      "  n\u001b[36m::Int64\u001b[39m\n",
      "  data\u001b[91m\u001b[1m::Union{Array{Float64,1}, Array{Int64,1}}\u001b[22m\u001b[39m\n",
      "  total\u001b[36m::Int64\u001b[39m\n",
      "  @_5\u001b[33m\u001b[1m::Union{Nothing, Tuple{Union{Float64, Int64},Int64}}\u001b[22m\u001b[39m\n",
      "  v\u001b[91m\u001b[1m::Union{Float64, Int64}\u001b[22m\u001b[39m\n",
      "  +\u001b[91m\u001b[1m::var\"#+#12\"{_A} where _A\u001b[22m\u001b[39m\n",
      "\n",
      "Body\u001b[36m::Int64\u001b[39m\n",
      "\u001b[90m1 ─\u001b[39m       (data = Main.random_data(n))\n",
      "\u001b[90m│  \u001b[39m       (total = 0)\n",
      "\u001b[90m│  \u001b[39m %3  = data\u001b[91m\u001b[1m::Union{Array{Float64,1}, Array{Int64,1}}\u001b[22m\u001b[39m\n",
      "\u001b[90m│  \u001b[39m       (@_5 = Base.iterate(%3))\n",
      "\u001b[90m│  \u001b[39m %5  = (@_5 === nothing)\u001b[36m::Bool\u001b[39m\n",
      "\u001b[90m│  \u001b[39m %6  = Base.not_int(%5)\u001b[36m::Bool\u001b[39m\n",
      "\u001b[90m└──\u001b[39m       goto #4 if not %6\n",
      "\u001b[90m2 ┄\u001b[39m %8  = @_5::Tuple{Union{Float64, Int64},Int64}\u001b[91m\u001b[1m::Tuple{Union{Float64, Int64},Int64}\u001b[22m\u001b[39m\n",
      "\u001b[90m│  \u001b[39m       (v = Core.getfield(%8, 1))\n",
      "\u001b[90m│  \u001b[39m %10 = Core.getfield(%8, 2)\u001b[36m::Int64\u001b[39m\n",
      "\u001b[90m│  \u001b[39m %11 = Main.:(var\"#+#12\")\u001b[36m::Core.Compiler.Const(var\"#+#12\", false)\u001b[39m\n",
      "\u001b[90m│  \u001b[39m %12 = Core.typeof(v)\u001b[91m\u001b[1m::Union{Type{Float64}, Type{Int64}}\u001b[22m\u001b[39m\n",
      "\u001b[90m│  \u001b[39m %13 = Core.apply_type(%11, %12)\u001b[91m\u001b[1m::Type{var\"#+#12\"{_A}} where _A\u001b[22m\u001b[39m\n",
      "\u001b[90m│  \u001b[39m       (+ = %new(%13, v))\n",
      "\u001b[90m│  \u001b[39m       (@_5 = Base.iterate(%3, %10))\n",
      "\u001b[90m│  \u001b[39m %16 = (@_5 === nothing)\u001b[36m::Bool\u001b[39m\n",
      "\u001b[90m│  \u001b[39m %17 = Base.not_int(%16)\u001b[36m::Bool\u001b[39m\n",
      "\u001b[90m└──\u001b[39m       goto #4 if not %17\n",
      "\u001b[90m3 ─\u001b[39m       goto #2\n",
      "\u001b[90m4 ┄\u001b[39m       return total::Core.Compiler.Const(0, false)\n"
     ]
    }
   ],
   "source": [
    "@code_warntype double_sum_of_random_data(1000)"
   ]
  },
  {
   "cell_type": "code",
   "execution_count": 20,
   "metadata": {},
   "outputs": [
    {
     "name": "stdout",
     "output_type": "stream",
     "text": [
      "  13.800 μs (2 allocations: 78.27 KiB)\n"
     ]
    },
    {
     "data": {
      "text/plain": [
       "1563301388332697656"
      ]
     },
     "execution_count": 20,
     "metadata": {},
     "output_type": "execute_result"
    }
   ],
   "source": [
    "function double_sum(data)\n",
    "    total=0\n",
    "    for v  in data\n",
    "        total+=2v\n",
    "    end\n",
    "    return total\n",
    "end\n",
    "\n",
    "function  double_sum_of_random_data(n)\n",
    "    data=random_data(n)\n",
    "    return double_sum(data)\n",
    "end\n",
    "\n",
    "@btime double_sum_of_random_data(10001)\n"
   ]
  },
  {
   "cell_type": "code",
   "execution_count": 25,
   "metadata": {},
   "outputs": [
    {
     "name": "stdout",
     "output_type": "stream",
     "text": [
      "Variables\n",
      "  #self#\u001b[36m::Core.Compiler.Const(double_sum, false)\u001b[39m\n",
      "  data\u001b[36m::Array{Int64,1}\u001b[39m\n",
      "  total\u001b[36m::Int64\u001b[39m\n",
      "  @_4\u001b[33m\u001b[1m::Union{Nothing, Tuple{Int64,Int64}}\u001b[22m\u001b[39m\n",
      "  v\u001b[36m::Int64\u001b[39m\n",
      "\n",
      "Body\u001b[36m::Int64\u001b[39m\n",
      "\u001b[90m1 ─\u001b[39m       (total = 0)\n",
      "\u001b[90m│  \u001b[39m %2  = data\u001b[36m::Array{Int64,1}\u001b[39m\n",
      "\u001b[90m│  \u001b[39m       (@_4 = Base.iterate(%2))\n",
      "\u001b[90m│  \u001b[39m %4  = (@_4 === nothing)\u001b[36m::Bool\u001b[39m\n",
      "\u001b[90m│  \u001b[39m %5  = Base.not_int(%4)\u001b[36m::Bool\u001b[39m\n",
      "\u001b[90m└──\u001b[39m       goto #4 if not %5\n",
      "\u001b[90m2 ┄\u001b[39m %7  = @_4::Tuple{Int64,Int64}\u001b[36m::Tuple{Int64,Int64}\u001b[39m\n",
      "\u001b[90m│  \u001b[39m       (v = Core.getfield(%7, 1))\n",
      "\u001b[90m│  \u001b[39m %9  = Core.getfield(%7, 2)\u001b[36m::Int64\u001b[39m\n",
      "\u001b[90m│  \u001b[39m %10 = total\u001b[36m::Int64\u001b[39m\n",
      "\u001b[90m│  \u001b[39m %11 = (2 * v)\u001b[36m::Int64\u001b[39m\n",
      "\u001b[90m│  \u001b[39m       (total = %10 + %11)\n",
      "\u001b[90m│  \u001b[39m       (@_4 = Base.iterate(%2, %9))\n",
      "\u001b[90m│  \u001b[39m %14 = (@_4 === nothing)\u001b[36m::Bool\u001b[39m\n",
      "\u001b[90m│  \u001b[39m %15 = Base.not_int(%14)\u001b[36m::Bool\u001b[39m\n",
      "\u001b[90m└──\u001b[39m       goto #4 if not %15\n",
      "\u001b[90m3 ─\u001b[39m       goto #2\n",
      "\u001b[90m4 ┄\u001b[39m       return total\n",
      "##############################\n",
      "\n",
      "Variables\n",
      "  #self#\u001b[36m::Core.Compiler.Const(double_sum, false)\u001b[39m\n",
      "  data\u001b[36m::Array{Float64,1}\u001b[39m\n",
      "  total\u001b[91m\u001b[1m::Union{Float64, Int64}\u001b[22m\u001b[39m\n",
      "  @_4\u001b[33m\u001b[1m::Union{Nothing, Tuple{Float64,Int64}}\u001b[22m\u001b[39m\n",
      "  v\u001b[36m::Float64\u001b[39m\n",
      "\n",
      "Body\u001b[91m\u001b[1m::Union{Float64, Int64}\u001b[22m\u001b[39m\n",
      "\u001b[90m1 ─\u001b[39m       (total = 0)\n",
      "\u001b[90m│  \u001b[39m %2  = data\u001b[36m::Array{Float64,1}\u001b[39m\n",
      "\u001b[90m│  \u001b[39m       (@_4 = Base.iterate(%2))\n",
      "\u001b[90m│  \u001b[39m %4  = (@_4 === nothing)\u001b[36m::Bool\u001b[39m\n",
      "\u001b[90m│  \u001b[39m %5  = Base.not_int(%4)\u001b[36m::Bool\u001b[39m\n",
      "\u001b[90m└──\u001b[39m       goto #4 if not %5\n",
      "\u001b[90m2 ┄\u001b[39m %7  = @_4::Tuple{Float64,Int64}\u001b[36m::Tuple{Float64,Int64}\u001b[39m\n",
      "\u001b[90m│  \u001b[39m       (v = Core.getfield(%7, 1))\n",
      "\u001b[90m│  \u001b[39m %9  = Core.getfield(%7, 2)\u001b[36m::Int64\u001b[39m\n",
      "\u001b[90m│  \u001b[39m %10 = total\u001b[91m\u001b[1m::Union{Float64, Int64}\u001b[22m\u001b[39m\n",
      "\u001b[90m│  \u001b[39m %11 = (2 * v)\u001b[36m::Float64\u001b[39m\n",
      "\u001b[90m│  \u001b[39m       (total = %10 + %11)\n",
      "\u001b[90m│  \u001b[39m       (@_4 = Base.iterate(%2, %9))\n",
      "\u001b[90m│  \u001b[39m %14 = (@_4 === nothing)\u001b[36m::Bool\u001b[39m\n",
      "\u001b[90m│  \u001b[39m %15 = Base.not_int(%14)\u001b[36m::Bool\u001b[39m\n",
      "\u001b[90m└──\u001b[39m       goto #4 if not %15\n",
      "\u001b[90m3 ─\u001b[39m       goto #2\n",
      "\u001b[90m4 ┄\u001b[39m       return total\n"
     ]
    }
   ],
   "source": [
    "@code_warntype double_sum(rand(Int,10))\n",
    "println(\"##############################\\n\")\n",
    "@code_warntype double_sum(rand(Float64,10))"
   ]
  },
  {
   "cell_type": "code",
   "execution_count": 26,
   "metadata": {},
   "outputs": [
    {
     "data": {
      "text/plain": [
       "double_sum (generic function with 2 methods)"
      ]
     },
     "execution_count": 26,
     "metadata": {},
     "output_type": "execute_result"
    }
   ],
   "source": [
    "function double_sum(datat::AbstractVector{T}) where {T <: Number}\n",
    "    total=zero(T)\n",
    "    for v in data\n",
    "        total+=v\n",
    "    end\n",
    "    return total\n",
    "end\n",
    "\n"
   ]
  },
  {
   "cell_type": "code",
   "execution_count": 28,
   "metadata": {},
   "outputs": [
    {
     "ename": "LoadError",
     "evalue": "return type Array{Int64,1} does not match inferred return type Union{Array{Float64,1}, Array{Int64,1}}",
     "output_type": "error",
     "traceback": [
      "return type Array{Int64,1} does not match inferred return type Union{Array{Float64,1}, Array{Int64,1}}",
      "",
      "Stacktrace:",
      " [1] error(::String) at .\\error.jl:33",
      " [2] top-level scope at In[28]:2",
      " [3] include_string(::Function, ::Module, ::String, ::String) at .\\loading.jl:1091"
     ]
    }
   ],
   "source": [
    "using Test\n",
    "@inferred random_data(1)"
   ]
  }
 ],
 "metadata": {
  "kernelspec": {
   "display_name": "Julia 1.5.0",
   "language": "julia",
   "name": "julia-1.5"
  },
  "language_info": {
   "file_extension": ".jl",
   "mimetype": "application/julia",
   "name": "julia",
   "version": "1.5.0"
  }
 },
 "nbformat": 4,
 "nbformat_minor": 4
}
