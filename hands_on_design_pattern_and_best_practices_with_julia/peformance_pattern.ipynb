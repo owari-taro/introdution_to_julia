{
 "cells": [
  {
   "cell_type": "code",
   "execution_count": 1,
   "metadata": {},
   "outputs": [
    {
     "name": "stdout",
     "output_type": "stream",
     "text": [
      "fib(6) = (result = 8, counter = 15)\n",
      "fib(10) = (result = 55, counter = 109)\n",
      "fib(20) = (result = 6765, counter = 13529)\n"
     ]
    },
    {
     "data": {
      "text/plain": [
       "(result = 6765, counter = 13529)"
      ]
     },
     "execution_count": 1,
     "metadata": {},
     "output_type": "execute_result"
    }
   ],
   "source": [
    "function fib(n)\n",
    "    if n<3\n",
    "        return (result=1,counter=1)\n",
    "    else\n",
    "        result1,counter1=fib(n-1)\n",
    "        result2,counter2=fib(n-2)\n",
    "        return (result=result1+result2,counter=counter1+counter2+1)\n",
    "    end\n",
    "end\n",
    "\n",
    "@show fib(6)\n",
    "@show fib(10)\n",
    "@show fib(20)\n",
    "#@show fib(50)"
   ]
  },
  {
   "cell_type": "code",
   "execution_count": null,
   "metadata": {},
   "outputs": [],
   "source": [
    "using Bench\n",
    "fib(n)=n<3?1:fib(n-1)+fib(n-2)\n"
   ]
  }
 ],
 "metadata": {
  "kernelspec": {
   "display_name": "Julia 1.5.0",
   "language": "julia",
   "name": "julia-1.5"
  },
  "language_info": {
   "file_extension": ".jl",
   "mimetype": "application/julia",
   "name": "julia",
   "version": "1.5.0"
  }
 },
 "nbformat": 4,
 "nbformat_minor": 4
}
