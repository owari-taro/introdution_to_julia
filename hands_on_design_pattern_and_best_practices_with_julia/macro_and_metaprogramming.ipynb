{
 "cells": [
  {
   "cell_type": "code",
   "execution_count": 4,
   "metadata": {},
   "outputs": [
    {
     "name": "stdout",
     "output_type": "stream",
     "text": [
      "Meta.parse(\"x+y\") = :(x + y)\n",
      "Expr\n",
      "  head: Symbol call\n",
      "  args: Array{Any}((3,))\n",
      "    1: Symbol +\n",
      "    2: Symbol x\n",
      "    3: Symbol y\n",
      "Meta.parse(\"x+y\") |> dump = nothing\n"
     ]
    }
   ],
   "source": [
    "@show Meta.parse(\"x+y\")\n",
    "@show Meta.parse(\"x+y\")|>dump"
   ]
  },
  {
   "cell_type": "code",
   "execution_count": 5,
   "metadata": {},
   "outputs": [
    {
     "name": "stdout",
     "output_type": "stream",
     "text": [
      "Symbol x\n",
      "Meta.parse(\"x\") |> dump = nothing\n"
     ]
    }
   ],
   "source": [
    "@show Meta.parse(\"x\")|> dump"
   ]
  },
  {
   "cell_type": "code",
   "execution_count": 14,
   "metadata": {},
   "outputs": [
    {
     "name": "stdout",
     "output_type": "stream",
     "text": [
      "Expr\n",
      "  head: Symbol call\n",
      "  args: Array{Any}((2,))\n",
      "    1: Symbol print\n",
      "    2: String \"x\"\n",
      "Meta.parse(\"print(\\\"x\\\") \") |> dump = nothing\n"
     ]
    }
   ],
   "source": [
    "@show Meta.parse(\"\"\"print(\"x\") \"\"\")|>dump"
   ]
  },
  {
   "cell_type": "code",
   "execution_count": 24,
   "metadata": {},
   "outputs": [
    {
     "name": "stdout",
     "output_type": "stream",
     "text": [
      "Expr\n",
      "  head: Symbol call\n",
      "  args: Array{Any}((4,))\n",
      "    1: Symbol open\n",
      "    2: String \"hoge.txt\"\n",
      "    3: Expr\n",
      "      head: Symbol kw\n",
      "      args: Array{Any}((2,))\n",
      "        1: Symbol read\n",
      "        2: Bool true\n",
      "    4: Expr\n",
      "      head: Symbol kw\n",
      "      args: Array{Any}((2,))\n",
      "        1: Symbol write\n",
      "        2: Bool true\n",
      "Meta.parse(\"open(\\\"hoge.txt\\\",read=true,write=true)\") |> dump = nothing\n"
     ]
    }
   ],
   "source": [
    "@show Meta.parse(\"\"\"open(\"hoge.txt\",read=true,write=true)\"\"\")|>dump"
   ]
  },
  {
   "cell_type": "markdown",
   "metadata": {},
   "source": [
    "# constructing expression objects manually"
   ]
  },
  {
   "cell_type": "code",
   "execution_count": 25,
   "metadata": {},
   "outputs": [
    {
     "data": {
      "text/plain": [
       ":(x + y)"
      ]
     },
     "execution_count": 25,
     "metadata": {},
     "output_type": "execute_result"
    }
   ],
   "source": [
    "Expr(:call,:+,:x,:y)"
   ]
  },
  {
   "cell_type": "code",
   "execution_count": 27,
   "metadata": {},
   "outputs": [
    {
     "name": "stdout",
     "output_type": "stream",
     "text": [
      "Expr\n",
      "  head: Symbol =\n",
      "  args: Array{Any}((2,))\n",
      "    1: Symbol x\n",
      "    2: Expr\n",
      "      head: Symbol call\n",
      "      args: Array{Any}((3,))\n",
      "        1: Symbol +\n",
      "        2: Int64 1\n",
      "        3: Int64 1\n"
     ]
    }
   ],
   "source": [
    ":(x=1+1)|>dump"
   ]
  },
  {
   "cell_type": "code",
   "execution_count": 29,
   "metadata": {},
   "outputs": [
    {
     "name": "stdout",
     "output_type": "stream",
     "text": [
      "Expr\n",
      "  head: Symbol block\n",
      "  args: Array{Any}((4,))\n",
      "    1: LineNumberNode\n",
      "      line: Int64 1\n",
      "      file: Symbol In[29]\n",
      "    2: Expr\n",
      "      head: Symbol call\n",
      "      args: Array{Any}((2,))\n",
      "        1: Symbol println\n",
      "        2: String \"hello world\"\n",
      "    3: LineNumberNode\n",
      "      line: Int64 2\n",
      "      file: Symbol In[29]\n",
      "    4: Expr\n",
      "      head: Symbol call\n",
      "      args: Array{Any}((2,))\n",
      "        1: Symbol pirnln\n",
      "        2: String \"hello world!!!!\"\n"
     ]
    }
   ],
   "source": [
    ":(begin println(\"hello world\")\n",
    "    pirnln(\"hello world!!!!\")\n",
    "    end)|>dump\n"
   ]
  },
  {
   "cell_type": "code",
   "execution_count": 31,
   "metadata": {},
   "outputs": [
    {
     "name": "stdout",
     "output_type": "stream",
     "text": [
      "Expr\n",
      "  head: Symbol if\n",
      "  args: Array{Any}((3,))\n",
      "    1: Expr\n",
      "      head: Symbol call\n",
      "      args: Array{Any}((3,))\n",
      "        1: Symbol >\n",
      "        2: Int64 2\n",
      "        3: Int64 1\n",
      "    2: Expr\n",
      "      head: Symbol block\n",
      "      args: Array{Any}((2,))\n",
      "        1: LineNumberNode\n",
      "          line: Int64 1\n",
      "          file: Symbol In[31]\n",
      "        2: String \"good\"\n",
      "    3: Expr\n",
      "      head: Symbol block\n",
      "      args: Array{Any}((2,))\n",
      "        1: LineNumberNode\n",
      "          line: Int64 3\n",
      "          file: Symbol In[31]\n",
      "        2: String \"bad\"\n"
     ]
    }
   ],
   "source": [
    ":(if 2>1 \"good\" \n",
    "    else \n",
    "        \"bad\"\n",
    "    end)|>dump"
   ]
  },
  {
   "cell_type": "code",
   "execution_count": null,
   "metadata": {},
   "outputs": [],
   "source": []
  },
  {
   "cell_type": "code",
   "execution_count": 32,
   "metadata": {},
   "outputs": [
    {
     "name": "stdout",
     "output_type": "stream",
     "text": [
      "hellow world\n",
      "hellow world\n",
      "hellow world\n"
     ]
    }
   ],
   "source": [
    "macro hello()\n",
    "    return :(for i in 1:3\n",
    "        println(\"hellow world\")\n",
    "        end\n",
    "    )\n",
    "end\n",
    "\n",
    "@hello"
   ]
  },
  {
   "cell_type": "code",
   "execution_count": 34,
   "metadata": {},
   "outputs": [
    {
     "name": "stdout",
     "output_type": "stream",
     "text": [
      "hello world\n",
      "hello world\n",
      "hello world\n",
      "hello world\n",
      "hello world\n",
      "hello world\n",
      "hello world\n",
      "hello world\n",
      "hello world\n",
      "hello world\n"
     ]
    }
   ],
   "source": [
    "macro hello(n)\n",
    "    return:(for i in 1:$n\n",
    "            println(\"hello world\")\n",
    "        end\n",
    "        )\n",
    "end\n",
    "@hello(10)"
   ]
  },
  {
   "cell_type": "code",
   "execution_count": 38,
   "metadata": {},
   "outputs": [
    {
     "data": {
      "text/plain": [
       ":(for var\"#23#i\" = 1:4\n",
       "      #= In[34]:3 =#\n",
       "      Main.println(\"hello world\")\n",
       "  end)"
      ]
     },
     "execution_count": 38,
     "metadata": {},
     "output_type": "execute_result"
    }
   ],
   "source": [
    "@macroexpand @hello 4"
   ]
  },
  {
   "cell_type": "code",
   "execution_count": 40,
   "metadata": {},
   "outputs": [
    {
     "data": {
      "text/plain": [
       "quote\n",
       "    Base.println(\"x = 1 = \", Base.repr(begin\n",
       "                #= show.jl:641 =#\n",
       "                var\"#25#value\" = (x = 1)\n",
       "            end))\n",
       "    var\"#25#value\"\n",
       "end"
      ]
     },
     "execution_count": 40,
     "metadata": {},
     "output_type": "execute_result"
    }
   ],
   "source": [
    "@macroexpand @show x=1"
   ]
  },
  {
   "cell_type": "code",
   "execution_count": 42,
   "metadata": {},
   "outputs": [
    {
     "name": "stdout",
     "output_type": "stream",
     "text": [
      "Expr\n",
      "  head: Symbol call\n",
      "  args: Array{Any}((4,))\n",
      "    1: Symbol +\n",
      "    2: Int64 1\n",
      "    3: Int64 2\n",
      "    4: Int64 3\n"
     ]
    },
    {
     "data": {
      "text/plain": [
       "foo (generic function with 1 method)"
      ]
     },
     "execution_count": 42,
     "metadata": {},
     "output_type": "execute_result"
    }
   ],
   "source": [
    "macro identity(ex)\n",
    "    dump(ex)\n",
    "    return ex\n",
    "end\n",
    "\n",
    "function foo()\n",
    "    return @identity 1+2+3\n",
    "end"
   ]
  },
  {
   "cell_type": "code",
   "execution_count": 48,
   "metadata": {},
   "outputs": [
    {
     "name": "stdout",
     "output_type": "stream",
     "text": [
      "Int64 123\n"
     ]
    },
    {
     "data": {
      "text/plain": [
       "123"
      ]
     },
     "execution_count": 48,
     "metadata": {},
     "output_type": "execute_result"
    }
   ],
   "source": [
    "@identity 123\n",
    "x=123\n"
   ]
  },
  {
   "cell_type": "code",
   "execution_count": 53,
   "metadata": {},
   "outputs": [
    {
     "data": {
      "text/plain": [
       "15129"
      ]
     },
     "execution_count": 53,
     "metadata": {},
     "output_type": "execute_result"
    }
   ],
   "source": [
    "macro squared(ex)\n",
    "    return :($(ex)*$(ex))\n",
    "end\n",
    "\n",
    "@squared 123\n"
   ]
  },
  {
   "cell_type": "code",
   "execution_count": 56,
   "metadata": {},
   "outputs": [
    {
     "data": {
      "text/plain": [
       "CodeInfo(\n",
       "\u001b[90m1 ─\u001b[39m      x = 2\n",
       "\u001b[90m│  \u001b[39m %2 = Main.x * Main.x\n",
       "\u001b[90m└──\u001b[39m      return %2\n",
       ")"
      ]
     },
     "execution_count": 56,
     "metadata": {},
     "output_type": "execute_result"
    }
   ],
   "source": [
    "function foo()\n",
    "    x=2\n",
    "    return @squared x\n",
    "end\n",
    "foo()\n",
    "\n",
    "@code_lowered foo()"
   ]
  },
  {
   "cell_type": "code",
   "execution_count": 60,
   "metadata": {},
   "outputs": [
    {
     "name": "stdout",
     "output_type": "stream",
     "text": [
      "#= In[60]:9 =# @squared(x) = 529\n"
     ]
    },
    {
     "data": {
      "text/plain": [
       "4"
      ]
     },
     "execution_count": 60,
     "metadata": {},
     "output_type": "execute_result"
    }
   ],
   "source": [
    "macro squared(ex)\n",
    "    return :($(esc(ex))*$(esc(ex)))\n",
    "end\n",
    "function foo()\n",
    "    x=2\n",
    "    return @squared x\n",
    "end\n",
    "x=23\n",
    "@show @squared x\n",
    "foo()"
   ]
  },
  {
   "cell_type": "code",
   "execution_count": 63,
   "metadata": {},
   "outputs": [
    {
     "name": "stdout",
     "output_type": "stream",
     "text": [
      "Expr\n",
      "  head: Symbol call\n",
      "  args: Array{Any}((2,))\n",
      "    1: Symbol sin\n",
      "    2: Symbol x\n",
      "Expr\n",
      "  head: Symbol call\n",
      "  args: Array{Any}((2,))\n",
      "    1: Symbol sin\n",
      "    2: Expr\n",
      "      head: Symbol call\n",
      "      args: Array{Any}((2,))\n",
      "        1: Symbol sin\n",
      "        2: Symbol x\n"
     ]
    }
   ],
   "source": [
    ":(sin(x))|>dump\n",
    ":(sin(sin(x)))|>dump"
   ]
  },
  {
   "cell_type": "code",
   "execution_count": 65,
   "metadata": {},
   "outputs": [
    {
     "data": {
      "text/plain": [
       "@compose_twice (macro with 1 method)"
      ]
     },
     "execution_count": 65,
     "metadata": {},
     "output_type": "execute_result"
    }
   ],
   "source": [
    "macro compose_twice(ex)\n",
    "    @assert ex.head==:call\n",
    "    @assert length(ex.args)==2\n",
    "    me=copy(ex)\n",
    "    ex.args[2]=me\n",
    "    return ex\n",
    "end\n",
    "\n"
   ]
  },
  {
   "cell_type": "code",
   "execution_count": 73,
   "metadata": {},
   "outputs": [
    {
     "data": {
      "text/plain": [
       "true"
      ]
     },
     "execution_count": 73,
     "metadata": {},
     "output_type": "execute_result"
    }
   ],
   "source": [
    "@compose_twice(sin(1))==sin(sin(1))"
   ]
  },
  {
   "cell_type": "code",
   "execution_count": 6,
   "metadata": {},
   "outputs": [
    {
     "data": {
      "text/plain": [
       "foo (generic function with 1 method)"
      ]
     },
     "execution_count": 6,
     "metadata": {},
     "output_type": "execute_result"
    }
   ],
   "source": [
    "macro ntimes(n,ex)\n",
    "    quote \n",
    "        times=$(esc(n))\n",
    "        for i in 1:times\n",
    "            $(esc(ex))\n",
    "        end            \n",
    "    end\n",
    "end\n",
    "\n",
    "\n",
    "function foo()\n",
    "    times=0\n",
    "    @ntimes 4 println(\"helloworlld\")\n",
    "    printlnt(\"times=\",times)\n",
    "end\n"
   ]
  },
  {
   "cell_type": "code",
   "execution_count": 9,
   "metadata": {},
   "outputs": [
    {
     "data": {
      "text/plain": [
       "CodeInfo(\n",
       "\u001b[90m1 ─\u001b[39m %1  = 1:10\n",
       "\u001b[90m│  \u001b[39m       @_2 = Base.iterate(%1)\n",
       "\u001b[90m│  \u001b[39m %3  = @_2 === nothing\n",
       "\u001b[90m│  \u001b[39m %4  = Base.not_int(%3)\n",
       "\u001b[90m└──\u001b[39m       goto #4 if not %4\n",
       "\u001b[90m2 ┄\u001b[39m %6  = @_2\n",
       "\u001b[90m│  \u001b[39m       i = Core.getfield(%6, 1)\n",
       "\u001b[90m│  \u001b[39m %8  = Core.getfield(%6, 2)\n",
       "\u001b[90m│  \u001b[39m %9  = Base.string(\"hello:\", i)\n",
       "\u001b[90m│  \u001b[39m       Main.print(%9)\n",
       "\u001b[90m│  \u001b[39m       @_2 = Base.iterate(%1, %8)\n",
       "\u001b[90m│  \u001b[39m %12 = @_2 === nothing\n",
       "\u001b[90m│  \u001b[39m %13 = Base.not_int(%12)\n",
       "\u001b[90m└──\u001b[39m       goto #4 if not %13\n",
       "\u001b[90m3 ─\u001b[39m       goto #2\n",
       "\u001b[90m4 ┄\u001b[39m       return\n",
       ")"
      ]
     },
     "execution_count": 9,
     "metadata": {},
     "output_type": "execute_result"
    }
   ],
   "source": [
    "function for_loop()\n",
    "    for i in 1:10\n",
    "        print(\"hello:$i\")\n",
    "    end\n",
    "end\n",
    "\n",
    "@code_lowered for_loop()"
   ]
  },
  {
   "cell_type": "code",
   "execution_count": 14,
   "metadata": {},
   "outputs": [
    {
     "data": {
      "text/plain": [
       "CodeInfo(\n",
       "   \u001b[33m @ C:\\Users\\tarob\\.julia\\packages\\Unrolled\\26uDc\\src\\Unrolled.jl:127 within `for_loop2'\u001b[39m\n",
       "   \u001b[33m┌ @ C:\\Users\\tarob\\.julia\\packages\\Unrolled\\26uDc\\src\\Unrolled.jl:127 within `macro expansion' @ In[14]:3\u001b[39m\n",
       "\u001b[90m1 ─\u001b[39m\u001b[33m│\u001b[39m %1  = x\n",
       "\u001b[90m│  \u001b[39m\u001b[33m│\u001b[39m       @_3 = Base.iterate(%1)\n",
       "\u001b[90m│  \u001b[39m\u001b[33m│\u001b[39m %3  = @_3 === nothing\n",
       "\u001b[90m│  \u001b[39m\u001b[33m│\u001b[39m %4  = Base.not_int(%3)\n",
       "\u001b[90m└──\u001b[39m\u001b[33m│\u001b[39m       goto #4 if not %4\n",
       "\u001b[90m2 ┄\u001b[39m\u001b[33m│\u001b[39m %6  = @_3\n",
       "\u001b[90m│  \u001b[39m\u001b[33m│\u001b[39m       i = Core.getfield(%6, 1)\n",
       "\u001b[90m│  \u001b[39m\u001b[33m│\u001b[39m %8  = Core.getfield(%6, 2)\n",
       "\u001b[90m│ \u001b[39m \u001b[33m│ @ C:\\Users\\tarob\\.julia\\packages\\Unrolled\\26uDc\\src\\Unrolled.jl:127 within `macro expansion' @ In[14]:3 @ C:\\Users\\tarob\\.julia\\packages\\Unrolled\\26uDc\\src\\Unrolled.jl:110\u001b[39m\n",
       "\u001b[90m│  \u001b[39m\u001b[33m│\u001b[39m %9  = Base.string(\"hello:\", i)\n",
       "\u001b[90m│  \u001b[39m\u001b[33m│\u001b[39m       Main.prinln(%9)\n",
       "\u001b[90m│ \u001b[39m \u001b[33m│ @ C:\\Users\\tarob\\.julia\\packages\\Unrolled\\26uDc\\src\\Unrolled.jl:127 within `macro expansion' @ In[14]:3\u001b[39m\n",
       "\u001b[90m│  \u001b[39m\u001b[33m│\u001b[39m       @_3 = Base.iterate(%1, %8)\n",
       "\u001b[90m│  \u001b[39m\u001b[33m│\u001b[39m %12 = @_3 === nothing\n",
       "\u001b[90m│  \u001b[39m\u001b[33m│\u001b[39m %13 = Base.not_int(%12)\n",
       "\u001b[90m└──\u001b[39m\u001b[33m│\u001b[39m       goto #4 if not %13\n",
       "\u001b[90m3 ─\u001b[39m\u001b[33m│\u001b[39m       goto #2\n",
       "   \u001b[33m│ @ C:\\Users\\tarob\\.julia\\packages\\Unrolled\\26uDc\\src\\Unrolled.jl:127 within `macro expansion'\u001b[39m\n",
       "\u001b[90m4 ┄\u001b[39m\u001b[33m│\u001b[39m       return\n",
       "   \u001b[33m└\u001b[39m\n",
       ")"
      ]
     },
     "execution_count": 14,
     "metadata": {},
     "output_type": "execute_result"
    }
   ],
   "source": [
    "using Unrolled\n",
    "@unroll function for_loop2(x)\n",
    "    @unroll for i in x\n",
    "        prinln(\"hello:$i\")\n",
    "    end\n",
    "end\n",
    "@code_lowered for_loop2(1:10)"
   ]
  },
  {
   "cell_type": "code",
   "execution_count": 27,
   "metadata": {},
   "outputs": [
    {
     "name": "stdout",
     "output_type": "stream",
     "text": [
      "Expr\n",
      "  head: Symbol block\n",
      "  args: Array{Any}((4,))\n",
      "    1: LineNumberNode\n",
      "      line: Int64 2\n",
      "      file: Symbol In[27]\n",
      "    2: Expr\n",
      "      head: Symbol =\n",
      "      args: Array{Any}((2,))\n",
      "        1: Symbol x\n",
      "        2: Int64 12\n",
      "    3: LineNumberNode\n",
      "      line: Int64 3\n",
      "      file: Symbol In[27]\n",
      "    4: Expr\n",
      "      head: Symbol if\n",
      "      args: Array{Any}((3,))\n",
      "        1: Expr\n",
      "          head: Symbol call\n",
      "          args: Array{Any}((3,))\n",
      "            1: Symbol ==\n",
      "            2: Expr\n",
      "              head: Symbol call\n",
      "              args: Array{Any}((2,))\n",
      "                1: Symbol typeof\n",
      "                2: Symbol x\n",
      "            3: Symbol Integer\n",
      "        2: Expr\n",
      "          head: Symbol block\n",
      "          args: Array{Any}((2,))\n",
      "            1: LineNumberNode\n",
      "              line: Int64 4\n",
      "              file: Symbol In[27]\n",
      "            2: Expr\n",
      "              head: Symbol call\n",
      "              args: Array{Any}((2,))\n",
      "                1: Symbol preintln\n",
      "                2: String \"hoge\"\n",
      "        3: Expr\n",
      "          head: Symbol elseif\n",
      "          args: Array{Any}((3,))\n",
      "            1: Expr\n",
      "              head: Symbol block\n",
      "              args: Array{Any}((2,))\n",
      "                1: LineNumberNode\n",
      "                2: Expr\n",
      "            2: Expr\n",
      "              head: Symbol block\n",
      "              args: Array{Any}((2,))\n",
      "                1: LineNumberNode\n",
      "                2: Expr\n",
      "            3: Expr\n",
      "              head: Symbol block\n",
      "              args: Array{Any}((2,))\n",
      "                1: LineNumberNode\n",
      "                2: Expr\n"
     ]
    }
   ],
   "source": [
    ":(begin\n",
    "        x=12\n",
    "        if typeof(x)==Integer\n",
    "            preintln(\"hoge\")\n",
    "        elseif x<0\n",
    "            println(\"x is negative\")\n",
    "        else\n",
    "            print(\"aaaaaaaaa\")\n",
    "        end\n",
    "    \n",
    "    end) |> dump\n"
   ]
  },
  {
   "cell_type": "code",
   "execution_count": 29,
   "metadata": {},
   "outputs": [
    {
     "ename": "LoadError",
     "evalue": "UndefVarError: y not defined",
     "output_type": "error",
     "traceback": [
      "UndefVarError: y not defined",
      "",
      "Stacktrace:",
      " [1] top-level scope",
      " [2] include_string(::Function, ::Module, ::String, ::String) at .\\loading.jl:1091"
     ]
    }
   ],
   "source": [
    "function foo()\n",
    "    y=1\n",
    "end\n",
    "foo()\n",
    "y"
   ]
  },
  {
   "cell_type": "code",
   "execution_count": 32,
   "metadata": {},
   "outputs": [
    {
     "name": "stdout",
     "output_type": "stream",
     "text": [
      "y = 1\n"
     ]
    },
    {
     "data": {
      "text/plain": [
       "1"
      ]
     },
     "execution_count": 32,
     "metadata": {},
     "output_type": "execute_result"
    }
   ],
   "source": [
    "function foo2()\n",
    "    eval(:(y=1))\n",
    "end\n",
    "\n",
    "foo2()\n",
    "#evaluation of the expression happens in the global scope not local\n",
    "@show y"
   ]
  },
  {
   "cell_type": "code",
   "execution_count": 38,
   "metadata": {},
   "outputs": [
    {
     "name": "stdout",
     "output_type": "stream",
     "text": [
      "n=10hello world\n",
      "hello world\n",
      "hello world\n",
      "hello world\n",
      "hello world\n",
      "hello world\n",
      "hello world\n",
      "hello world\n",
      "hello world\n",
      "hello world\n"
     ]
    },
    {
     "ename": "LoadError",
     "evalue": "UndefVarError: n not defined",
     "output_type": "error",
     "traceback": [
      "UndefVarError: n not defined",
      "",
      "Stacktrace:",
      " [1] top-level scope",
      " [2] include_string(::Function, ::Module, ::String, ::String) at .\\loading.jl:1091"
     ]
    }
   ],
   "source": [
    "macro hello_1(n)\n",
    "    print(\"n=$n\")\n",
    "    return :(for i in 1:$n\n",
    "        println(\"hello world\")\n",
    "        end)\n",
    "end\n",
    "@hello_1(10)\n",
    "n"
   ]
  },
  {
   "cell_type": "code",
   "execution_count": 40,
   "metadata": {
    "scrolled": false
   },
   "outputs": [
    {
     "ename": "LoadError",
     "evalue": "syntax: incomplete: \"macro\" at In[40]:4 requires end",
     "output_type": "error",
     "traceback": [
      "syntax: incomplete: \"macro\" at In[40]:4 requires end",
      "",
      "Stacktrace:",
      " [1] top-level scope at In[40]:4",
      " [2] include_string(::Function, ::Module, ::String, ::String) at .\\loading.jl:1091"
     ]
    }
   ],
   "source": [
    "a=1\n",
    "b=\"hoge\"\n",
    "c=:hello\n",
    "macro showme(x)\n",
    "    @show x\n",
    "end4\n",
    "    \n",
    "@showme(a)\n",
    "@showme(b)\n",
    "@showme(c)"
   ]
  },
  {
   "cell_type": "code",
   "execution_count": 42,
   "metadata": {},
   "outputs": [
    {
     "data": {
      "text/plain": [
       ":(for i = 1:10\n",
       "      #= In[42]:2 =#\n",
       "      println(i)\n",
       "  end)"
      ]
     },
     "execution_count": 42,
     "metadata": {},
     "output_type": "execute_result"
    }
   ],
   "source": [
    ":(for i in 1:3\n",
    "    println(\"hello world\")\n",
    "    end)"
   ]
  },
  {
   "cell_type": "code",
   "execution_count": 60,
   "metadata": {},
   "outputs": [
    {
     "data": {
      "text/plain": [
       ":(for var\"#43#i\" = 1:3\n",
       "      #= In[60]:3 =#\n",
       "      Main.println(\"hello world $(var\"#43#i\")\")\n",
       "  end)"
      ]
     },
     "execution_count": 60,
     "metadata": {},
     "output_type": "execute_result"
    }
   ],
   "source": [
    "macro hello(n)\n",
    "    return :(for i in 1:$n\n",
    "        println(\"hello world $i\")\n",
    "        end\n",
    "        )\n",
    "end\n",
    "\n",
    "@macroexpand @hello(3)\n"
   ]
  },
  {
   "cell_type": "code",
   "execution_count": 61,
   "metadata": {},
   "outputs": [
    {
     "ename": "LoadError",
     "evalue": "UndefVarError: y23 not defined",
     "output_type": "error",
     "traceback": [
      "UndefVarError: y23 not defined",
      "",
      "Stacktrace:",
      " [1] test(::Int64) at .\\In[61]:2",
      " [2] top-level scope at In[61]:4",
      " [3] include_string(::Function, ::Module, ::String, ::String) at .\\loading.jl:1091"
     ]
    }
   ],
   "source": [
    "function test(y23)\n",
    "    @hello y23\n",
    "end\n",
    "test(34)"
   ]
  },
  {
   "cell_type": "code",
   "execution_count": 53,
   "metadata": {},
   "outputs": [
    {
     "name": "stdout",
     "output_type": "stream",
     "text": [
      "hello world 1\n",
      "hello world 2\n",
      "hello world 3\n"
     ]
    }
   ],
   "source": [
    "@hello(3)"
   ]
  },
  {
   "cell_type": "code",
   "execution_count": 55,
   "metadata": {},
   "outputs": [
    {
     "ename": "LoadError",
     "evalue": "UndefVarError: m not defined",
     "output_type": "error",
     "traceback": [
      "UndefVarError: m not defined",
      "",
      "Stacktrace:",
      " [1] top-level scope at none:1",
      " [2] eval at .\\boot.jl:331 [inlined]",
      " [3] eval(::Expr) at .\\client.jl:467",
      " [4] top-level scope at In[55]:1",
      " [5] include_string(::Function, ::Module, ::String, ::String) at .\\loading.jl:1091"
     ]
    }
   ],
   "source": [
    "keval(:(x=m))\n"
   ]
  }
 ],
 "metadata": {
  "kernelspec": {
   "display_name": "Julia 1.5.0",
   "language": "julia",
   "name": "julia-1.5"
  },
  "language_info": {
   "file_extension": ".jl",
   "mimetype": "application/julia",
   "name": "julia",
   "version": "1.5.0"
  }
 },
 "nbformat": 4,
 "nbformat_minor": 4
}
