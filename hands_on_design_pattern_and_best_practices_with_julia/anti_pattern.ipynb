{
 "cells": [
  {
   "cell_type": "code",
   "execution_count": 5,
   "metadata": {},
   "outputs": [
    {
     "name": "stdout",
     "output_type": "stream",
     "text": [
      "Point(0x01, 0x01) |> sizeof = 16\n",
      "Point3(0x01, 0x01) |> sizeof = 2\n",
      "Point2(0x01, 0x01) |> sizeof = 2\n"
     ]
    },
    {
     "data": {
      "text/plain": [
       "2"
      ]
     },
     "execution_count": 5,
     "metadata": {},
     "output_type": "execute_result"
    }
   ],
   "source": [
    "#memory layout of composite types\n",
    "struct Point\n",
    "    x\n",
    "    y\n",
    "end\n",
    "\n",
    "struct Point2\n",
    "    x::UInt8\n",
    "    y::UInt8\n",
    "end\n",
    "\n",
    "struct Point3{T<:Real}\n",
    "    x::T\n",
    "    y::T\n",
    "end\n",
    "\n",
    "\n",
    "@show Point(0x01,0x01) |> sizeof\n",
    "@show Point3(0x01,0x01) |> sizeof\n",
    "@show Point2(0x01,0x01) |> sizeof"
   ]
  },
  {
   "cell_type": "code",
   "execution_count": null,
   "metadata": {},
   "outputs": [],
   "source": [
    "using Statistics\n",
    "using BenchmarkTools\n",
    "\n",
    "struct PointAny\n",
    "    x::Any\n",
    "    y::Any\n",
    "end\n",
    "\n",
    "function center(points::AbstractVector{T}) where T\n",
    "    return T(mean(p.x for p in points),mean(p.y for p in points))\n",
    "end\n",
    "\n",
    "\n",
    "make_points(T::Type,n)=[ T(rand(),rand()) for _o in 1:n]\n",
    "points=make_points(PointAny,100_000)\n",
    "@btime center($points)\n",
    "@points=make_points(Point3,100_000)\n",
    "@btime center($points)"
   ]
  }
 ],
 "metadata": {
  "kernelspec": {
   "display_name": "Julia 1.5.0",
   "language": "julia",
   "name": "julia-1.5"
  },
  "language_info": {
   "file_extension": ".jl",
   "mimetype": "application/julia",
   "name": "julia",
   "version": "1.5.0"
  }
 },
 "nbformat": 4,
 "nbformat_minor": 4
}
