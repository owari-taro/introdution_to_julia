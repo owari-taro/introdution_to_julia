{
 "cells": [
  {
   "cell_type": "code",
   "execution_count": 3,
   "metadata": {},
   "outputs": [
    {
     "data": {
      "text/plain": [
       "Logger"
      ]
     },
     "execution_count": 3,
     "metadata": {},
     "output_type": "execute_result"
    }
   ],
   "source": [
    "#log level\n",
    "const INFO=1\n",
    "const WARNING=2\n",
    "const ERROR=3\n",
    "\n",
    "\n",
    "struct Logger\n",
    "    filename\n",
    "    level\n",
    "    handle\n",
    "end\n",
    "\n",
    "\n",
    "Logger(filename,level)=Logger(filename,level,open(filename,\"w\"))\n",
    "    using Dates\n",
    "function info!(logger::Logger,args...)\n",
    "    if logger.level<=INFO\n",
    "        let io=logger.handle\n",
    "            print(io,trunc(now(),Dates.Second),\" [INFO] \")\n",
    "                for (idx,arg) in enumerate(args)\n",
    "                    idx>0 && print(io,\" \")\n",
    "                    print(io,arg)\n",
    "                end\n",
    "                println(io)\n",
    "               flush(io)\n",
    "        end\n",
    "    end\n",
    "end\n",
    "\n"
   ]
  },
  {
   "cell_type": "code",
   "execution_count": 10,
   "metadata": {},
   "outputs": [
    {
     "data": {
      "text/plain": [
       "info! (generic function with 1 method)"
      ]
     },
     "execution_count": 10,
     "metadata": {},
     "output_type": "execute_result"
    }
   ],
   "source": [
    "\n",
    "info_logger=Logger(\"info.log\",INFO)\n",
    "info!(info_logger,\"hello\",123)\n",
    "\n"
   ]
  },
  {
   "cell_type": "code",
   "execution_count": 12,
   "metadata": {},
   "outputs": [
    {
     "ename": "LoadError",
     "evalue": "syntax: invalid function name \"info!'\"",
     "output_type": "error",
     "traceback": [
      "syntax: invalid function name \"info!'\"",
      "",
      "Stacktrace:",
      " [1] top-level scope at none:1",
      " [2] eval(::Module, ::Any) at .\\boot.jl:331",
      " [3] top-level scope at In[12]:7",
      " [4] include_string(::Function, ::Module, ::String, ::String) at .\\loading.jl:1091"
     ]
    }
   ],
   "source": [
    "for level in (:info,:warning,:error)\n",
    "    lower_level_str=String(level)\n",
    "    upper_level_str=uppercase(lower_level_str)\n",
    "    upper_level_sym=Symbol(upper_level_str)\n",
    "    fn=Symbol(lower_level_str*\"!\")\n",
    "    label=\"[$upper_level_str]\"\n",
    "    @eval function $fn'(logger::Logger,args...)\n",
    "        let iologger.handle\n",
    "            print(io,trunc(now(),Dates.Second),$label)\n",
    "            for (idx,arg) in enumerates(args)\n",
    "                idx>0 && print(io,\" \")\n",
    "                print(io,arg)\n",
    "            end\n",
    "            println(io)\n",
    "            flush(io)\n",
    "        end\n",
    "    end\n",
    "end\n",
    "\n",
    "\n",
    "\n"
   ]
  },
  {
   "cell_type": "code",
   "execution_count": 13,
   "metadata": {},
   "outputs": [
    {
     "data": {
      "text/plain": [
       "info! (generic function with 1 method)"
      ]
     },
     "execution_count": 13,
     "metadata": {},
     "output_type": "execute_result"
    }
   ],
   "source": [
    "function logme!(level,label,logger::Logger,args...)\n",
    "    if logger.level<=level\n",
    "        let io=logger.handle\n",
    "            print(io,trunc(now(),Dates.Second),label)\n",
    "            for (idx,arg) in enumerate(args)\n",
    "                idx>0 && print(io,\" \")\n",
    "                print(io,arg)\n",
    "            end\n",
    "            println(io)\n",
    "            flush(io)\n",
    "        end\n",
    "    end\n",
    "end\n",
    "\n",
    "\n",
    "\n",
    "info!(logger::Logger,msg...)=logme!(INFO,\"[INFO]\" ,logger,msg...)\n"
   ]
  },
  {
   "cell_type": "code",
   "execution_count": null,
   "metadata": {},
   "outputs": [],
   "source": [
    "function make_log_func(level,label)\n",
    "    (logger::Logger,args...)->begin\n",
    "        if logger.level<=level\n",
    "            let io=logger.handle\n",
    "                print(io,trunc(now(),Dates.Second),\"  [$label] \")\n",
    "                for(idx,arg) in enumerate(args)\n",
    "                    idx>0 && print(io,\" \")\n",
    "                    print(io,arg)\n",
    "                end\n",
    "                println(io)\n",
    "                flush(io)\n",
    "            end\n",
    "        end\n",
    "    end\n",
    "end\n"
   ]
  }
 ],
 "metadata": {
  "kernelspec": {
   "display_name": "Julia 1.5.0",
   "language": "julia",
   "name": "julia-1.5"
  },
  "language_info": {
   "file_extension": ".jl",
   "mimetype": "application/julia",
   "name": "julia",
   "version": "1.5.0"
  }
 },
 "nbformat": 4,
 "nbformat_minor": 4
}
