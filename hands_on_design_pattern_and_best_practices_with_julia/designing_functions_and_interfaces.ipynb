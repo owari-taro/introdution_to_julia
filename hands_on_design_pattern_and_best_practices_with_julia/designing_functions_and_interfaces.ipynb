{
 "cells": [
  {
   "cell_type": "markdown",
   "metadata": {},
   "source": [
    "mutable struct Position\n",
    "    x::Int\n",
    "    y::Int\n",
    "end\n",
    "\n",
    "struct Size\n",
    "    width::Int\n",
    "    height::Int\n",
    "end\n",
    "\n",
    "struct Widget\n",
    "    name::String\n",
    "    position::Position\n",
    "    size::Size\n",
    "end\n",
    "\n",
    "#single line functions\n",
    "move_up!(widget::Widget,v::Int)=widget.position.y-=v\n",
    "move_down!(widget::Widget,v::Int)=widget.position.y+=v\n",
    "move_left!(widget::Widget,v::Int)=widget.position.x-=v\n",
    "move_right!(widget::Widget,v::Int)=widget.position.x+=v\n",
    "\n",
    "#like phthon's __repr__()?\n",
    "Base.show(io::IO,p::Position)=print(io,\"(\",p.x,\",\",p.y,\")\")\n",
    "Base.show(io::IO,s::Size)=print(io,\"(\",s.width,\" * \",s.height,\")\")\n",
    "Base.show(io::IO,w::Widget)=print(io,\"name:\",w.name,\" at \",w.position,\" size \",w.size)"
   ]
  },
  {
   "cell_type": "code",
   "execution_count": 5,
   "metadata": {},
   "outputs": [
    {
     "name": "stdout",
     "output_type": "stream",
     "text": [
      "name:hoge at (2,-7) size (12 * 23)"
     ]
    }
   ],
   "source": [
    "w=Widget(\"hoge\",Position(2,3),Size(12,23))\n",
    "move_up!(w,10)\n",
    "print(w)"
   ]
  },
  {
   "cell_type": "code",
   "execution_count": 12,
   "metadata": {},
   "outputs": [
    {
     "data": {
      "text/plain": [
       "10-element Array{Widget,1}:\n",
       " name:Asteroid #1 at (143,68) size (29 * 23)\n",
       " name:Asteroid #2 at (64,57) size (11 * 11)\n",
       " name:Asteroid #3 at (164,81) size (20 * 22)\n",
       " name:Asteroid #4 at (25,110) size (27 * 30)\n",
       " name:Asteroid #5 at (157,24) size (27 * 24)\n",
       " name:Asteroid #6 at (54,17) size (23 * 22)\n",
       " name:Asteroid #7 at (199,186) size (27 * 27)\n",
       " name:Asteroid #8 at (37,82) size (29 * 26)\n",
       " name:Asteroid #9 at (45,170) size (12 * 17)\n",
       " name:Asteroid #10 at (158,126) size (29 * 18)"
      ]
     },
     "execution_count": 12,
     "metadata": {},
     "output_type": "execute_result"
    }
   ],
   "source": [
    "function make_asteroids(N::Int,pos_range=0:200,size_range=10:30)\n",
    "    #function inseide function\n",
    "    pos_rand()=rand(pos_range)\n",
    "    sz_rand()=rand(size_range)\n",
    "    return [Widget(\"Asteroid #$i\",Position(pos_rand(),pos_rand()),Size(sz_rand(),sz_rand())) for i in 1:N ]\n",
    "end\n",
    "make_asteroids(10)"
   ]
  },
  {
   "cell_type": "code",
   "execution_count": 18,
   "metadata": {},
   "outputs": [
    {
     "data": {
      "text/html": [
       "# 3 methods for generic function <b>make_asteroids</b>:<ul><li> make_asteroids(N::<b>Int64</b>) in Main at In[12]:1</li> <li> make_asteroids(N::<b>Int64</b>, pos_range) in Main at In[12]:1</li> <li> make_asteroids(N::<b>Int64</b>, pos_range, size_range) in Main at In[12]:1</li> </ul>"
      ],
      "text/plain": [
       "# 3 methods for generic function \"make_asteroids\":\n",
       "[1] make_asteroids(N::Int64) in Main at In[12]:1\n",
       "[2] make_asteroids(N::Int64, pos_range) in Main at In[12]:1\n",
       "[3] make_asteroids(N::Int64, pos_range, size_range) in Main at In[12]:1"
      ]
     },
     "execution_count": 18,
     "metadata": {},
     "output_type": "execute_result"
    }
   ],
   "source": [
    "methods(make_asteroids)"
   ]
  },
  {
   "cell_type": "code",
   "execution_count": 34,
   "metadata": {},
   "outputs": [
    {
     "name": "stdout",
     "output_type": "stream",
     "text": [
      "asteroids = Widget[name:Asteroid #1 at (187,97) size (22 * 17), name:Asteroid #2 at (125,190) size (14 * 20), name:Asteroid #3 at (165,115) size (23 * 15), name:Asteroid #4 at (25,99) size (18 * 17), name:Asteroid #5 at (80,120) size (23 * 18), name:Asteroid #6 at (70,116) size (11 * 14), name:Asteroid #7 at (7,46) size (28 * 27), name:Asteroid #8 at (64,20) size (24 * 11), name:Asteroid #9 at (155,167) size (20 * 24), name:Asteroid #10 at (34,147) size (26 * 25)]\n",
      "from = name:Asteroid #1 at (19,60) size (15 * 12)\n",
      "type of targetsTuple{Widget}\n",
      "Asteroid #1---->Asteroid #1\n",
      "type of targetsTuple{Widget,Widget}\n",
      "Asteroid #1---->Asteroid #1\n",
      "Asteroid #1---->Asteroid #2\n",
      "type of targetsNTuple{10,Widget}\n",
      "Asteroid #1---->Asteroid #1\n",
      "Asteroid #1---->Asteroid #2\n",
      "Asteroid #1---->Asteroid #3\n",
      "Asteroid #1---->Asteroid #4\n",
      "Asteroid #1---->Asteroid #5\n",
      "Asteroid #1---->Asteroid #6\n",
      "Asteroid #1---->Asteroid #7\n",
      "Asteroid #1---->Asteroid #8\n",
      "Asteroid #1---->Asteroid #9\n",
      "Asteroid #1---->Asteroid #10\n"
     ]
    }
   ],
   "source": [
    "#accepting any number of widget object with three-dot\n",
    "function shoot(from::Widget,targets::Widget...)\n",
    "    println(\"type of targets\",typeof(targets))   \n",
    "    for target in targets\n",
    "        println(from.name,\"---->\",target.name)\n",
    "    end\n",
    "end\n",
    "asteroids=make_asteroids(10)\n",
    "from=make_asteroids(1)[1]\n",
    "@show asteroids\n",
    "@show from\n",
    "shoot(from,asteroids[1])\n",
    "shoot(from,asteroids[1],asteroids[2])\n",
    "shoot(from,asteroids...)"
   ]
  },
  {
   "cell_type": "code",
   "execution_count": 3,
   "metadata": {},
   "outputs": [
    {
     "ename": "LoadError",
     "evalue": "UndefVarError: Widget not defined",
     "output_type": "error",
     "traceback": [
      "UndefVarError: Widget not defined",
      "",
      "Stacktrace:",
      " [1] top-level scope at In[3]:1",
      " [2] include_string(::Function, ::Module, ::String, ::String) at .\\loading.jl:1091"
     ]
    }
   ],
   "source": [
    "healthy(spaceship::Widget)=rand(Bool)\n",
    "function fire(f::Function,spaceship::Widget)\n",
    "    if healthy(spaceship)\n",
    "        f(spaceship)\n",
    "    else\n",
    "        println(\"operation aborted as spaceship isnt healthy \")\n",
    "    end\n",
    "    return nothing\n",
    "end\n",
    "\n",
    "        \n",
    "spaceship=Widget(\"hoge\",Position(2,3),Size(12,23))\n",
    "\n",
    "fire(spaceship)do s\n",
    "    move_up!(s,12)\n",
    "    println(s,\"launched missile\")\n",
    "    move_down!(s,100)\n",
    "end\n",
    "\n"
   ]
  },
  {
   "cell_type": "markdown",
   "metadata": {},
   "source": [
    "# multiple distpatch\n"
   ]
  },
  {
   "cell_type": "code",
   "execution_count": 6,
   "metadata": {},
   "outputs": [],
   "source": [
    "abstract type Thing end\n",
    "position(t::Thing)=t.position\n",
    "size(t::Thing)=t.size\n",
    "shape(t::Thing)=:unknwon\n",
    "@enum Weapon Laser Missile\n",
    "\n",
    "struct SpaceShip <: Thing\n",
    "    position::Position\n",
    "    size::Size\n",
    "    weapon::Weapon\n",
    "end\n",
    "\n",
    "shape(spaceship::SpaceShip)=: saucer\n",
    "\n",
    "struct Asteroid <: Thing\n",
    "    position::Position\n",
    "    size::Size\n",
    "end\n"
   ]
  }
 ],
 "metadata": {
  "kernelspec": {
   "display_name": "Julia 1.5.0",
   "language": "julia",
   "name": "julia-1.5"
  },
  "language_info": {
   "file_extension": ".jl",
   "mimetype": "application/julia",
   "name": "julia",
   "version": "1.5.0"
  }
 },
 "nbformat": 4,
 "nbformat_minor": 4
}
