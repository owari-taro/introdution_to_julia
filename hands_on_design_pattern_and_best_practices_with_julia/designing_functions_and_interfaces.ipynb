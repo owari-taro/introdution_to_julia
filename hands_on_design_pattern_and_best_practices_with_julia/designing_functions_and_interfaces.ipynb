{
 "cells": [
  {
   "cell_type": "code",
   "execution_count": 6,
   "metadata": {},
   "outputs": [],
   "source": [
    "mutable struct Position\n",
    "    x::Int\n",
    "    y::Int\n",
    "end\n",
    "\n",
    "struct Size\n",
    "    width::Int\n",
    "    height::Int\n",
    "end\n",
    "\n",
    "struct Widget\n",
    "    name::String\n",
    "    position::Position\n",
    "    size::Size\n",
    "end\n",
    "\n",
    "#single line functions\n",
    "move_up!(widget::Widget,v::Int)=widget.position.y-=v\n",
    "move_down!(widget::Widget,v::Int)=widget.position.y+=v\n",
    "move_left!(widget::Widget,v::Int)=widget.position.x-=v\n",
    "move_right!(widget::Widget,v::Int)=widget.position.x+=v\n",
    "\n",
    "#like phthon's __repr__()?\n",
    "Base.show(io::IO,p::Position)=print(io,\"(\",p.x,\",\",p.y,\")\")\n",
    "Base.show(io::IO,s::Size)=print(io,\"(\",s.width,\" * \",s.height,\")\")\n",
    "Base.show(io::IO,w::Widget)=print(io,\"name:\",w.name,\" at \",w.position,\" size \",w.size)"
   ]
  },
  {
   "cell_type": "code",
   "execution_count": 7,
   "metadata": {},
   "outputs": [
    {
     "name": "stdout",
     "output_type": "stream",
     "text": [
      "name:hoge at (2,-7) size (12 * 23)"
     ]
    }
   ],
   "source": [
    "w=Widget(\"hoge\",Position(2,3),Size(12,23))\n",
    "move_up!(w,10)\n",
    "print(w)"
   ]
  }
 ],
 "metadata": {
  "kernelspec": {
   "display_name": "Julia 1.5.0",
   "language": "julia",
   "name": "julia-1.5"
  },
  "language_info": {
   "file_extension": ".jl",
   "mimetype": "application/julia",
   "name": "julia",
   "version": "1.5.0"
  }
 },
 "nbformat": 4,
 "nbformat_minor": 4
}
