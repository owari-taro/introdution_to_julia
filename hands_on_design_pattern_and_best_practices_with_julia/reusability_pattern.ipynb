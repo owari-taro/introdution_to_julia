{
 "cells": [
  {
   "cell_type": "code",
   "execution_count": 2,
   "metadata": {},
   "outputs": [
    {
     "ename": "LoadError",
     "evalue": "UndefVarError: Date not defined",
     "output_type": "error",
     "traceback": [
      "UndefVarError: Date not defined",
      "",
      "Stacktrace:",
      " [1] top-level scope at In[2]:1",
      " [2] include_string(::Function, ::Module, ::String, ::String) at .\\loading.jl:1091"
     ]
    }
   ],
   "source": [
    "mutable struct Account\n",
    "    account_number::String\n",
    "    balance::Float64\n",
    "    date_opened::Date\n",
    "end\n",
    "\n",
    "account_number(a::Account)=a.account_number\n",
    "balance(a::Account)=a.balance\n",
    "date_opened(a::Account)=a.date_opened\n",
    "\n",
    "function deposit!(a::Account,amount::Real)\n",
    "    a.balance+=amount\n",
    "    return a.balance\n",
    "end\n",
    "\n",
    "function withdraw!(a::Account,amount::Real)\n",
    "    a.balance-=amount\n",
    "    return a.balance\n",
    "end\n",
    "\n",
    "function transfer!(from::Account,to::Account,amount::Real)\n",
    "    withdraw!(from,amount)\n",
    "    deposit(to,amount)\n",
    "    return amount\n",
    "end\n"
   ]
  },
  {
   "cell_type": "code",
   "execution_count": 1,
   "metadata": {},
   "outputs": [
    {
     "ename": "LoadError",
     "evalue": "UndefVarError: Account not defined",
     "output_type": "error",
     "traceback": [
      "UndefVarError: Account not defined",
      "",
      "Stacktrace:",
      " [1] top-level scope at In[1]:1",
      " [2] include_string(::Function, ::Module, ::String, ::String) at .\\loading.jl:1091"
     ]
    }
   ],
   "source": [
    "struct SavingAccount\n",
    "    acct::Account\n",
    "    interest_rate::Float64\n",
    "    #constructor\n",
    "    SavingAccount(account_number,balance,date_opened)=new(Account(account_number,balance,date_opened),interest_rate)\n",
    "end\n",
    "\n",
    "using Lazy: @forward"
   ]
  },
  {
   "cell_type": "code",
   "execution_count": 1,
   "metadata": {},
   "outputs": [],
   "source": [
    "using SimpleTraits\n",
    "abstract type Asset end\n",
    "abstract type Property <:Asset end\n",
    "abstract type Investment <:Asset end\n",
    "abstract type Cash <: Asset end\n",
    "abstract type House <:Property end\n",
    "abstract type Apartment <:Property end\n",
    "abstract type FixedIncome <:Investment end\n",
    "abstract type Equity <: Investment end\n"
   ]
  },
  {
   "cell_type": "code",
   "execution_count": 2,
   "metadata": {},
   "outputs": [],
   "source": [
    "struct Stock<:Equity \n",
    "    symbol\n",
    "    name\n",
    "end\n",
    "struct Pension <:Investment\n",
    "    value\n",
    "end\n",
    "\n",
    "\n",
    "struct Money<:Cash\n",
    "    currency \n",
    "    amount\n",
    "    value\n",
    "end\n",
    "\n",
    "struct Suica<:Cash\n",
    "    currency\n",
    "    amount\n",
    "    value\n",
    "end\n",
    "\n"
   ]
  },
  {
   "cell_type": "code",
   "execution_count": 4,
   "metadata": {},
   "outputs": [
    {
     "data": {
      "text/plain": [
       "marketprice (generic function with 2 methods)"
      ]
     },
     "execution_count": 4,
     "metadata": {},
     "output_type": "execute_result"
    }
   ],
   "source": [
    "@traitdef IsLiquid{T}\n",
    "@traitimpl IsLiquid{Cash}\n",
    "@traitimpl IsLiquid{Investment}\n",
    "\n",
    "\n",
    "@traitfn marketprice(x::::IsLiquid)=x.value\n"
   ]
  },
  {
   "cell_type": "code",
   "execution_count": 5,
   "metadata": {},
   "outputs": [
    {
     "name": "stdout",
     "output_type": "stream",
     "text": [
      "marketprice(pen) = 1900\n",
      "marketprice(money) = 100\n"
     ]
    },
    {
     "data": {
      "text/plain": [
       "100"
      ]
     },
     "execution_count": 5,
     "metadata": {},
     "output_type": "execute_result"
    }
   ],
   "source": [
    "pen=Pension(1900)\n",
    "@show marketprice(pen)\n",
    "money=Money(100,100,100)\n",
    "@show marketprice(money)"
   ]
  }
 ],
 "metadata": {
  "kernelspec": {
   "display_name": "Julia 1.5.0",
   "language": "julia",
   "name": "julia-1.5"
  },
  "language_info": {
   "file_extension": ".jl",
   "mimetype": "application/julia",
   "name": "julia",
   "version": "1.5.0"
  }
 },
 "nbformat": 4,
 "nbformat_minor": 4
}
