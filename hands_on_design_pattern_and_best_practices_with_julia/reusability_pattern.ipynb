{
 "cells": [
  {
   "cell_type": "code",
   "execution_count": 2,
   "metadata": {},
   "outputs": [
    {
     "ename": "LoadError",
     "evalue": "UndefVarError: Date not defined",
     "output_type": "error",
     "traceback": [
      "UndefVarError: Date not defined",
      "",
      "Stacktrace:",
      " [1] top-level scope at In[2]:1",
      " [2] include_string(::Function, ::Module, ::String, ::String) at .\\loading.jl:1091"
     ]
    }
   ],
   "source": [
    "mutable struct Account\n",
    "    account_number::String\n",
    "    balance::Float64\n",
    "    date_opened::Date\n",
    "end\n",
    "\n",
    "account_number(a::Account)=a.account_number\n",
    "balance(a::Account)=a.balance\n",
    "date_opened(a::Account)=a.date_opened\n",
    "\n",
    "function deposit!(a::Account,amount::Real)\n",
    "    a.balance+=amount\n",
    "    return a.balance\n",
    "end\n",
    "\n",
    "function withdraw!(a::Account,amount::Real)\n",
    "    a.balance-=amount\n",
    "    return a.balance\n",
    "end\n",
    "\n",
    "function transfer!(from::Account,to::Account,amount::Real)\n",
    "    withdraw!(from,amount)\n",
    "    deposit(to,amount)\n",
    "    return amount\n",
    "end\n"
   ]
  },
  {
   "cell_type": "code",
   "execution_count": null,
   "metadata": {},
   "outputs": [],
   "source": [
    "struct SavingAccount\n",
    "    acct::Account\n",
    "    interest_rate::Float64\n",
    "    #constructor\n",
    "    SavingAccount(account_number,balance,date_opened)=new(Account(account_number,balance,date_opened),interest_rate)\n",
    "end\n",
    "\n",
    "using Lazy: @forward"
   ]
  }
 ],
 "metadata": {
  "kernelspec": {
   "display_name": "Julia 1.5.0",
   "language": "julia",
   "name": "julia-1.5"
  },
  "language_info": {
   "file_extension": ".jl",
   "mimetype": "application/julia",
   "name": "julia",
   "version": "1.5.0"
  }
 },
 "nbformat": 4,
 "nbformat_minor": 4
}
