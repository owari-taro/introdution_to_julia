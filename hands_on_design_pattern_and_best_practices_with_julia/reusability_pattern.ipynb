{
 "cells": [
  {
   "cell_type": "code",
   "execution_count": 2,
   "metadata": {},
   "outputs": [
    {
     "ename": "LoadError",
     "evalue": "UndefVarError: Date not defined",
     "output_type": "error",
     "traceback": [
      "UndefVarError: Date not defined",
      "",
      "Stacktrace:",
      " [1] top-level scope at In[2]:1",
      " [2] include_string(::Function, ::Module, ::String, ::String) at .\\loading.jl:1091"
     ]
    }
   ],
   "source": [
    "mutable struct Account\n",
    "    account_number::String\n",
    "    balance::Float64\n",
    "    date_opened::Date\n",
    "end\n",
    "\n",
    "account_number(a::Account)=a.account_number\n",
    "balance(a::Account)=a.balance\n",
    "date_opened(a::Account)=a.date_opened\n",
    "\n",
    "function deposit!(a::Account,amount::Real)\n",
    "    a.balance+=amount\n",
    "    return a.balance\n",
    "end\n",
    "\n",
    "function withdraw!(a::Account,amount::Real)\n",
    "    a.balance-=amount\n",
    "    return a.balance\n",
    "end\n",
    "\n",
    "function transfer!(from::Account,to::Account,amount::Real)\n",
    "    withdraw!(from,amount)\n",
    "    deposit(to,amount)\n",
    "    return amount\n",
    "end\n"
   ]
  },
  {
   "cell_type": "code",
   "execution_count": 1,
   "metadata": {},
   "outputs": [
    {
     "ename": "LoadError",
     "evalue": "UndefVarError: Account not defined",
     "output_type": "error",
     "traceback": [
      "UndefVarError: Account not defined",
      "",
      "Stacktrace:",
      " [1] top-level scope at In[1]:1",
      " [2] include_string(::Function, ::Module, ::String, ::String) at .\\loading.jl:1091"
     ]
    }
   ],
   "source": [
    "struct SavingAccount\n",
    "    acct::Account\n",
    "    interest_rate::Float64\n",
    "    #constructor\n",
    "    SavingAccount(account_number,balance,date_opened)=new(Account(account_number,balance,date_opened),interest_rate)\n",
    "end\n",
    "\n",
    "using Lazy: @forward"
   ]
  },
  {
   "cell_type": "code",
   "execution_count": 1,
   "metadata": {},
   "outputs": [],
   "source": [
    "using SimpleTraits\n",
    "abstract type Asset end\n",
    "abstract type Property <:Asset end\n",
    "abstract type Investment <:Asset end\n",
    "abstract type Cash <: Asset end\n",
    "abstract type House <:Property end\n",
    "abstract type Apartment <:Property end\n",
    "abstract type FixedIncome <:Investment end\n",
    "abstract type Equity <: Investment end\n"
   ]
  },
  {
   "cell_type": "code",
   "execution_count": 2,
   "metadata": {},
   "outputs": [],
   "source": [
    "struct Stock<:Equity \n",
    "    symbol\n",
    "    name\n",
    "end\n",
    "struct Pension <:Investment\n",
    "    value\n",
    "end\n",
    "\n",
    "\n",
    "struct Money<:Cash\n",
    "    currency \n",
    "    amount\n",
    "    value\n",
    "end\n",
    "\n",
    "struct Suica<:Cash\n",
    "    currency\n",
    "    amount\n",
    "    value\n",
    "end\n",
    "\n"
   ]
  },
  {
   "cell_type": "code",
   "execution_count": 4,
   "metadata": {},
   "outputs": [
    {
     "data": {
      "text/plain": [
       "marketprice (generic function with 2 methods)"
      ]
     },
     "execution_count": 4,
     "metadata": {},
     "output_type": "execute_result"
    }
   ],
   "source": [
    "@traitdef IsLiquid{T}\n",
    "@traitimpl IsLiquid{Cash}\n",
    "@traitimpl IsLiquid{Investment}\n",
    "\n",
    "\n",
    "@traitfn marketprice(x::::IsLiquid)=x.value\n"
   ]
  },
  {
   "cell_type": "code",
   "execution_count": 1,
   "metadata": {},
   "outputs": [
    {
     "ename": "LoadError",
     "evalue": "UndefVarError: Pension not defined",
     "output_type": "error",
     "traceback": [
      "UndefVarError: Pension not defined",
      "",
      "Stacktrace:",
      " [1] top-level scope at In[1]:1",
      " [2] include_string(::Function, ::Module, ::String, ::String) at .\\loading.jl:1091"
     ]
    }
   ],
   "source": [
    "pen=Pension(1900)\n",
    "@show marketprice(pen)\n",
    "money=Money(100,100,100)\n",
    "@show marketprice(money)"
   ]
  },
  {
   "cell_type": "code",
   "execution_count": 7,
   "metadata": {},
   "outputs": [],
   "source": [
    "using  Dates\n",
    "abstract type Asset end\n",
    "abstract type Investment <: Asset end\n",
    "abstract type Equity <: Investment end\n",
    "\n",
    "struct Stock <: Equity\n",
    "    symbol::String\n",
    "    name::String\n",
    "end\n",
    "\n",
    "abstract type Trade end\n",
    "@enum LongShort Long Short\n",
    "\n",
    "struct StockTrade <: Trade\n",
    "    type::LongShort\n",
    "    stock::Stock\n",
    "    quantity::Int\n",
    "    price::Float64\n",
    "end\n",
    "\n",
    "@enum CallPut Call Put\n",
    "struct StockOption <:Equity\n",
    "        symbol::String\n",
    "        type::CallPut\n",
    "        strike::Float64\n",
    "        expiration::Date\n",
    "end\n",
    "struct StockoptionTrade<:Trade\n",
    "    type::LongShort\n",
    "    option::StockOption\n",
    "    quantity::Int\n",
    "    price::Float64\n",
    "end\n",
    "            \n",
    "            \n"
   ]
  },
  {
   "cell_type": "code",
   "execution_count": 18,
   "metadata": {},
   "outputs": [
    {
     "name": "stdout",
     "output_type": "stream",
     "text": [
      "stock = Stock(\"aapl\", \"apple inc\") = Stock(\"aapl\", \"apple inc\")\n",
      "option = StockOption(\"aapl\", Call, 200, Date(2020, 4, 4)) = StockOption(\"aapl\", Call, 200.0, Date(\"2020-04-04\"))\n",
      "a = SingleTrade(Long, stock, 100, 188.0) = SingleTrade{Stock}(Long, Stock(\"aapl\", \"apple inc\"), 100, 188.0)\n",
      "b = SingleTrade(Long, option, 100, 3.6) = SingleTrade{StockOption}(Long, StockOption(\"aapl\", Call, 200.0, Date(\"2020-04-04\")), 100, 3.6)\n",
      "payment(SingleTrade(Long, option, 1, 3.5)) = 350.0\n"
     ]
    },
    {
     "data": {
      "text/plain": [
       "350.0"
      ]
     },
     "execution_count": 18,
     "metadata": {},
     "output_type": "execute_result"
    }
   ],
   "source": [
    "#stocktrade and stockoption trade are very similar ,so \n",
    "#make it more simple with parametric types\n",
    "\n",
    "struct SingleTrade{T<:Investment} <: Trade\n",
    "    type::LongShort\n",
    "    instrument::T\n",
    "    quantity::Int\n",
    "    price::Float64\n",
    "end\n",
    "    \n",
    "@show stock=Stock(\"aapl\",\"apple inc\")\n",
    "@show option=StockOption(\"aapl\",Call,200,Date(2020,4,4))\n",
    "@show a=SingleTrade(Long,stock,100,188.0)\n",
    "@show b=SingleTrade(Long,option,100,3.6)\n",
    "\n",
    "    \n",
    "function sign(t::SingleTrade)\n",
    "    return t.type==Long ? 1 : -1\n",
    "end\n",
    "function payment(t::SingleTrade)\n",
    "    return sign(t)*t.quantity*t.price\n",
    "end\n",
    "function payment(t::SingleTrade{StockOption}) \n",
    "    return sign(t)*t.quantity*100*t.price\n",
    "end\n",
    "@show payment(SingleTrade(Long,option,1,3.5))   "
   ]
  },
  {
   "cell_type": "code",
   "execution_count": 19,
   "metadata": {},
   "outputs": [
    {
     "data": {
      "text/plain": [
       "payment (generic function with 3 methods)"
      ]
     },
     "execution_count": 19,
     "metadata": {},
     "output_type": "execute_result"
    }
   ],
   "source": [
    "struct PairTrade{T<:Investment,S<:Investment}<:Trade\n",
    "    leg1::SingleTrade{T}\n",
    "    leg2::SingleTrade{S}\n",
    "end\n",
    "\n",
    "payment(t::PairTrade)=payment(t.leg1)+payment(t.leg2)"
   ]
  }
 ],
 "metadata": {
  "kernelspec": {
   "display_name": "Julia 1.5.0",
   "language": "julia",
   "name": "julia-1.5"
  },
  "language_info": {
   "file_extension": ".jl",
   "mimetype": "application/julia",
   "name": "julia",
   "version": "1.5.0"
  }
 },
 "nbformat": 4,
 "nbformat_minor": 4
}
