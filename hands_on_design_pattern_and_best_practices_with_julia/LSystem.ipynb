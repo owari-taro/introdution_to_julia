{
 "cells": [
  {
   "cell_type": "code",
   "execution_count": 10,
   "metadata": {},
   "outputs": [
    {
     "name": "stdout",
     "output_type": "stream",
     "text": [
      "test\n",
      "\n",
      "\n",
      "test = "
     ]
    },
    {
     "data": {
      "text/plain": [
       "LModel;\n",
       "Aiom:A\n",
       "Rule:A→AB\n",
       "Rule:B→A\n"
      ]
     },
     "execution_count": 10,
     "metadata": {},
     "output_type": "execute_result"
    },
    {
     "name": "stdout",
     "output_type": "stream",
     "text": [
      "LModel;\n",
      "Aiom:A\n",
      "Rule:A→AB\n",
      "Rule:B→A\n",
      "\n"
     ]
    }
   ],
   "source": [
    "struct LModel\n",
    "    axiom\n",
    "    rules\n",
    "end\n",
    "\n",
    "\n",
    "\n",
    "LModel(axiom)=LModel([axiom],Dict())\n",
    "\n",
    "function add_rule!(model::LModel,left::T,right::T) where {T<:AbstractString}\n",
    "    model.rules[left]=split(right,\"\")\n",
    "    return nothing\n",
    "end\n",
    "\n",
    "\n",
    "\n",
    "function Base.show(io::IO,model::LModel)\n",
    "    println(io,\"LModel;\")\n",
    "    println(io,\"Aiom:\",join(model.axiom)) \n",
    "    for k in sort(collect(keys(model.rules)))\n",
    "        println(io,\"Rule:\",k,\"→\",join(model.rules[k]))\n",
    "    end\n",
    "end\n",
    "\n",
    "println(\"test\\n\\n\")\n",
    "test=LModel(\"A\")\n",
    "add_rule!(test,\"A\",\"AB\")\n",
    "add_rule!(test,\"B\",\"A\")\n",
    "@show test"
   ]
  },
  {
   "cell_type": "code",
   "execution_count": 26,
   "metadata": {},
   "outputs": [
    {
     "name": "stdout",
     "output_type": "stream",
     "text": [
      "state.current_iteration = 1\n",
      "state.result = [\"A\"]\n",
      "el = \"A\"\n",
      "next_elements = SubString{String}[\"A\", \"B\"]\n",
      "new_result = Any[\"A\", \"B\"]\n",
      "state.current_iteration = 2\n",
      "state.result = Any[\"A\", \"B\"]\n",
      "el = \"A\"\n",
      "next_elements = SubString{String}[\"A\", \"B\"]\n",
      "el = \"B\"\n",
      "next_elements = SubString{String}[\"A\"]\n",
      "new_result = Any[\"A\", \"B\", \"A\"]\n"
     ]
    },
    {
     "data": {
      "text/plain": [
       "LState(3):ABA"
      ]
     },
     "execution_count": 26,
     "metadata": {},
     "output_type": "execute_result"
    }
   ],
   "source": [
    "struct LState\n",
    "    model\n",
    "    current_iteration\n",
    "    result\n",
    "end\n",
    "\n",
    "LState(model::LModel)=LState(model,1,model.axiom)\n",
    "function next(state::LState)\n",
    "    new_result=[]\n",
    "    @show state.current_iteration\n",
    "    @show state.result\n",
    "    for el in state.result\n",
    "        @show el\n",
    "        next_elements=get(state.model.rules,el,el)\n",
    "        @show next_elements\n",
    "        append!(new_result,next_elements)\n",
    "    end\n",
    "    @show new_result\n",
    "    return LState(state.model,state.current_iteration+1,new_result)\n",
    "end\n",
    "result(State::LState)=join(state.result)\n",
    "Base.show(io::IO,s::LState)=print(io,\"LState(\",s.current_iteration,\"):\",result(s))\n",
    "\n",
    "\n",
    "test.rules\n",
    "state=LState(test)\n",
    "state=next(state)\n",
    "state=next(state)"
   ]
  }
 ],
 "metadata": {
  "kernelspec": {
   "display_name": "Julia 1.5.0",
   "language": "julia",
   "name": "julia-1.5"
  },
  "language_info": {
   "file_extension": ".jl",
   "mimetype": "application/julia",
   "name": "julia",
   "version": "1.5.0"
  }
 },
 "nbformat": 4,
 "nbformat_minor": 4
}
