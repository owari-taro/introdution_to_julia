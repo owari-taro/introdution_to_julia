{
 "cells": [
  {
   "cell_type": "code",
   "execution_count": 2,
   "metadata": {},
   "outputs": [
    {
     "name": "stderr",
     "output_type": "stream",
     "text": [
      "WARNING: replacing module WebCrawler.\n"
     ]
    },
    {
     "data": {
      "text/plain": [
       "Main.WebCrawler"
      ]
     },
     "execution_count": 2,
     "metadata": {},
     "output_type": "execute_result"
    }
   ],
   "source": [
    "module WebCrawler\n",
    "using Dates\n",
    "export Target\n",
    "export add_sites!,crawl_sites!,current_sites!,reset_crawler!\n",
    "\n",
    "\n",
    "Base.@kwdef mutable struct Target\n",
    "    url::String\n",
    "    finished::Bool=false\n",
    "    finish_time::Union{DateTime,Nothing}=nothing\n",
    "end\n",
    "const sites=Target[]\n",
    "\n",
    "\n",
    "function add_sites!(target::Target)\n",
    "    push!(sites,target)\n",
    "end\n",
    "\n",
    "function crawl_sites!()\n",
    "    for site in sites\n",
    "        index_site!(site)\n",
    "    end\n",
    "end\n",
    "function copy_sites!()\n",
    "    copy(sites)\n",
    "end\n",
    "\n",
    "function index_site!(site::Target)\n",
    "    site.finish=true\n",
    "    site.finished\n",
    "    site.finish_time=now() \n",
    "    println(\"Site $(site.url) crawled!\")\n",
    "end\n",
    "\n",
    "\n",
    "function rest_crawler!()\n",
    "    empty!(sites)\n",
    "end\n",
    "    \n",
    "\n",
    "end"
   ]
  },
  {
   "cell_type": "code",
   "execution_count": 3,
   "metadata": {},
   "outputs": [
    {
     "data": {
      "text/plain": [
       "1-element Array{Target,1}:\n",
       " Target(\"http//hogehoge\", false, nothing)"
      ]
     },
     "execution_count": 3,
     "metadata": {},
     "output_type": "execute_result"
    }
   ],
   "source": [
    "using Main.WebCrawler\n",
    "add_sites!(Target(url=\"http//hogehoge\"))\n",
    "add_sites!(Target(url=\"http//uhauha\"))\n",
    "\n"
   ]
  }
 ],
 "metadata": {
  "kernelspec": {
   "display_name": "Julia 1.5.0",
   "language": "julia",
   "name": "julia-1.5"
  },
  "language_info": {
   "file_extension": ".jl",
   "mimetype": "application/julia",
   "name": "julia",
   "version": "1.5.0"
  }
 },
 "nbformat": 4,
 "nbformat_minor": 4
}
