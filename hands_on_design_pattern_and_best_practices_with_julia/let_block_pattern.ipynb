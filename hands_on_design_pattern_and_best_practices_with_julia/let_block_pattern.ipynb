{
 "cells": [
  {
   "cell_type": "code",
   "execution_count": 1,
   "metadata": {},
   "outputs": [
    {
     "data": {
      "text/plain": [
       "Main.WebCrawler"
      ]
     },
     "execution_count": 1,
     "metadata": {},
     "output_type": "execute_result"
    }
   ],
   "source": [
    "module WebCrawler\n",
    "using Dates\n",
    "export Target\n",
    "export add_sites!,crawl_sites!,current_sites!,reset_crawler!\n",
    "\n",
    "\n",
    "Base.@kwdef mutable struct Target\n",
    "    url::String\n",
    "    finished::Bool=false\n",
    "    finish_time::Union{DateTime,Nothing}=nothing\n",
    "end\n",
    "const sites=Target[]\n",
    "\n",
    "\n",
    "function add_sites!(target::Target)\n",
    "    push!(sites,target)\n",
    "end\n",
    "\n",
    "function crawl_sites!()\n",
    "    for site in sites\n",
    "        index_site!(site)\n",
    "    end\n",
    "end\n",
    "function current_sites!()\n",
    "    copy(sites)\n",
    "end\n",
    "\n",
    "function index_site!(site::Target)\n",
    "    site.finish=true\n",
    "    site.finished\n",
    "    site.finish_time=now() \n",
    "    println(\"Site $(site.url) crawled!\")\n",
    "end\n",
    "\n",
    "\n",
    "function rest_crawler!()\n",
    "    empty!(sites)\n",
    "end\n",
    "    \n",
    "\n",
    "end"
   ]
  },
  {
   "cell_type": "code",
   "execution_count": 4,
   "metadata": {},
   "outputs": [
    {
     "name": "stdout",
     "output_type": "stream",
     "text": [
      "current_sites!() = Target[Target(\"http//hogehoge\", false, nothing), Target(\"http//uhauha\", false, nothing), Target(\"http//hogehoge\", false, nothing), Target(\"http//uhauha\", false, nothing), Target(\"http//hogehoge\", false, nothing), Target(\"http//uhauha\", false, nothing)]\n"
     ]
    },
    {
     "data": {
      "text/plain": [
       "6-element Array{Target,1}:\n",
       " Target(\"http//hogehoge\", false, nothing)\n",
       " Target(\"http//uhauha\", false, nothing)\n",
       " Target(\"http//hogehoge\", false, nothing)\n",
       " Target(\"http//uhauha\", false, nothing)\n",
       " Target(\"http//hogehoge\", false, nothing)\n",
       " Target(\"http//uhauha\", false, nothing)"
      ]
     },
     "execution_count": 4,
     "metadata": {},
     "output_type": "execute_result"
    }
   ],
   "source": [
    "using Main.WebCrawler\n",
    "add_sites!(Target(url=\"http//hogehoge\"))\n",
    "add_sites!(Target(url=\"http//uhauha\"))\n",
    "    \n",
    "@show current_sites!()"
   ]
  },
  {
   "cell_type": "code",
   "execution_count": 7,
   "metadata": {},
   "outputs": [
    {
     "name": "stderr",
     "output_type": "stream",
     "text": [
      "WARNING: replacing module WebCrawler_updated.\n"
     ]
    },
    {
     "data": {
      "text/plain": [
       "Main.WebCrawler_updated"
      ]
     },
     "execution_count": 7,
     "metadata": {},
     "output_type": "execute_result"
    }
   ],
   "source": [
    "module WebCrawler_updated\n",
    "using Dates\n",
    "export Target\n",
    "export add_sites!,crawl_sites!,current_sites!,reset_crawler!\n",
    "\n",
    "\n",
    "Base.@kwdef mutable struct Target\n",
    "    url::String\n",
    "    finished::Bool=false\n",
    "    finish_time::Union{DateTime,Nothing}=nothing\n",
    "end\n",
    "let sites=Target[]\n",
    "\n",
    "\n",
    "    global function add_sites!(target::Target)\n",
    "        push!(sites,target)\n",
    "    end\n",
    "\n",
    "    global function crawl_sites!()\n",
    "        for site in sites\n",
    "            index_site!(site)\n",
    "        end\n",
    "    end\n",
    "    function current_sites!()\n",
    "        copy(sites)\n",
    "    end\n",
    "\n",
    "    function index_site!(site::Target)\n",
    "        site.finish=true\n",
    "        site.finished\n",
    "        site.finish_time=now() \n",
    "        println(\"Site $(site.url) crawled!\")\n",
    "    end\n",
    "\n",
    "\n",
    "    global function rest_crawler!()\n",
    "        empty!(sites)\n",
    "    end\n",
    "end\n",
    "\n",
    "\n",
    "end"
   ]
  },
  {
   "cell_type": "code",
   "execution_count": 9,
   "metadata": {},
   "outputs": [
    {
     "ename": "LoadError",
     "evalue": "UndefVarError: index_sites! not defined",
     "output_type": "error",
     "traceback": [
      "UndefVarError: index_sites! not defined",
      "",
      "Stacktrace:",
      " [1] getproperty(::Module, ::Symbol) at .\\Base.jl:26",
      " [2] top-level scope at In[9]:1",
      " [3] include_string(::Function, ::Module, ::String, ::String) at .\\loading.jl:1091"
     ]
    }
   ],
   "source": [
    "Main.WebCrawler_updated.index_sites!()\n"
   ]
  },
  {
   "cell_type": "code",
   "execution_count": 10,
   "metadata": {},
   "outputs": [
    {
     "ename": "LoadError",
     "evalue": "UndefVarError: sites not defined",
     "output_type": "error",
     "traceback": [
      "UndefVarError: sites not defined",
      "",
      "Stacktrace:",
      " [1] getproperty(::Module, ::Symbol) at .\\Base.jl:26",
      " [2] top-level scope at In[10]:1",
      " [3] include_string(::Function, ::Module, ::String, ::String) at .\\loading.jl:1091"
     ]
    }
   ],
   "source": [
    "Main.WebCrawler_updated.sites"
   ]
  }
 ],
 "metadata": {
  "kernelspec": {
   "display_name": "Julia 1.5.0",
   "language": "julia",
   "name": "julia-1.5"
  },
  "language_info": {
   "file_extension": ".jl",
   "mimetype": "application/julia",
   "name": "julia",
   "version": "1.5.0"
  }
 },
 "nbformat": 4,
 "nbformat_minor": 4
}
