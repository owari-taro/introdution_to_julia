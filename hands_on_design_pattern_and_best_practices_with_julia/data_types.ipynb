{
 "cells": [
  {
   "cell_type": "code",
   "execution_count": 5,
   "metadata": {},
   "outputs": [],
   "source": [
    "struct Stock #<:Equity\n",
    "    symbol::String\n",
    "    name::String\n",
    "end\n",
    "\n",
    "struct StockHolding{T <: Real}\n",
    "    stock::Stock\n",
    "    quantity::T\n",
    "end\n",
    "\n",
    "struct StockHolding2{T <: Real,P<:AbstractFloat}\n",
    "    stock::Stock\n",
    "    quantity::T\n",
    "    price::P\n",
    "    marketvalue::P\n",
    "end\n",
    "\n"
   ]
  },
  {
   "cell_type": "code",
   "execution_count": null,
   "metadata": {},
   "outputs": [],
   "source": []
  }
 ],
 "metadata": {
  "kernelspec": {
   "display_name": "Julia 1.5.0",
   "language": "julia",
   "name": "julia-1.5"
  },
  "language_info": {
   "file_extension": ".jl",
   "mimetype": "application/julia",
   "name": "julia",
   "version": "1.5.0"
  }
 },
 "nbformat": 4,
 "nbformat_minor": 4
}
