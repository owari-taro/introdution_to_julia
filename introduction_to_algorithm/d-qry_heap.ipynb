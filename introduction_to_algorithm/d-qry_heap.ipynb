{
 "cells": [
  {
   "cell_type": "code",
   "execution_count": null,
   "metadata": {},
   "outputs": [],
   "source": [
    "mutable struct D_Heap\n",
    "    d::Integer\n",
    "    heap_size::Integer\n",
    "    array::Array\n",
    "end\n",
    "    \n",
    "parent(index::Int,d::Int)=round(index, digits=0)  \n",
    "\n",
    "function children(index::Integer,d::Integer)\n",
    "    st=(index-1)*d+2\n",
    "    ed=st+d-1\n",
    "    children=[]\n",
    "    for i in st:ed\n",
    "        push!(children,i)\n",
    "    end\n",
    "    return children\n",
    "end\n",
    "\n",
    "function exchange(d_heap;:DHeap,index1::Int,index2::Int)\n",
    "    d_heap.array[index1],d_heap.array[index2]=d_heap.array[index2],d_heap.array[index1]\n",
    "end\n",
    "\n",
    "function max_heaptify(d_heap::DHeap,index::Integer)\n",
    "    current=index    \n",
    "    largest=index\n",
    "    children=children(current)\n",
    "    tmp=d_heap.array(index)\n",
    "    \n",
    "    for i in children\n",
    "        if tmp<heap.array[i]\n",
    "            largest=i\n",
    "        end\n",
    "    end\n",
    "    if largest!=index\n",
    "        #exccahnge\n",
    "        exchange(d_heap,current,largest)\n",
    "        max_heaptify(d_heap,largest)\n",
    "    end\n",
    "end\n",
    "\n",
    "        "
   ]
  }
 ],
 "metadata": {
  "kernelspec": {
   "display_name": "Julia 1.5.0",
   "language": "julia",
   "name": "julia-1.5"
  },
  "language_info": {
   "file_extension": ".jl",
   "mimetype": "application/julia",
   "name": "julia",
   "version": "1.5.0"
  }
 },
 "nbformat": 4,
 "nbformat_minor": 4
}
