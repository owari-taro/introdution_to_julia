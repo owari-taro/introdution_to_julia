{
 "cells": [
  {
   "cell_type": "code",
   "execution_count": null,
   "metadata": {},
   "outputs": [],
   "source": [
    "using Lazy::@forward\n",
    "import Base:length\n",
    "mutable struct Heap\n",
    "    heap_size:Integer\n",
    "    data:Array\n",
    "end\n",
    "#mutiple dispatch for base.length\n",
    "length(heap::Heap)=length(heap.data)\n",
    "\n",
    "\n",
    "function parent(index::Integer)\n",
    "    return trunc(Int,index/2)\n",
    "end\n",
    "\n",
    "function left(index::Integer)\n",
    "    return 2index(\n",
    "end\n",
    "\n",
    "function right(index::Integer)\n",
    "    return 2index\n",
    "end\n",
    "\n",
    "function exchange(heap::Heap,i::Integer,j::Integer)\n",
    "    heap.data[i],heap.data[j]=heap.data[j],heap.data[i]\n",
    "end\n",
    "\n",
    "function min_heaptify(heap::Heap,index::Integer)\n",
    "    l = left(index)\n",
    "    r = right(index)\n",
    "    if l <= heap.heap_size && heap.data[l] < heap.data[index]\n",
    "        min_index =l \n",
    "    else\n",
    "        min_index = index\n",
    "    end\n",
    "    if r <= heap.heap_size && heap.data[r] < heap.data[min_index]\n",
    "        min_index=r\n",
    "    end\n",
    "    if min_index != index\n",
    "        #exchange\n",
    "        exchange(heap,index,largest)\n",
    "        min_heaptify(heap, min_index)\n",
    "    end\n",
    "end\n",
    "\n",
    "function build_min_heap(heap::Heap)\n",
    "    heap.heap_size=length(heap)\n",
    "    for  i in trunc(Int,heap.heap_size/2):-1:1\n",
    "        min,_heaptify(heap,i)"
   ]
  }
 ],
 "metadata": {
  "kernelspec": {
   "display_name": "Julia 1.5.0",
   "language": "julia",
   "name": "julia-1.5"
  },
  "language_info": {
   "file_extension": ".jl",
   "mimetype": "application/julia",
   "name": "julia",
   "version": "1.5.0"
  }
 },
 "nbformat": 4,
 "nbformat_minor": 4
}
