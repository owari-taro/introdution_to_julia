{
 "cells": [
  {
   "cell_type": "code",
   "execution_count": null,
   "metadata": {},
   "outputs": [],
   "source": [
    "mutable struct Node\n",
    "    left::Union{Node,Nothing}\n",
    "    right::Union{Node,Nothing}\n",
    "    \n",
    "#print node  from j\n",
    "function  inorder_tree_walk(x::Node)\n",
    "    if x!=Nothing\n",
    "        inorder_tree_walk(x.left)\n",
    "        print(x.key)\n",
    "        inorder_tree_walk(x.right)\n",
    "    end\n",
    "end\n",
    "    "
   ]
  }
 ],
 "metadata": {
  "kernelspec": {
   "display_name": "Julia 1.5.0",
   "language": "julia",
   "name": "julia-1.5"
  },
  "language_info": {
   "file_extension": ".jl",
   "mimetype": "application/julia",
   "name": "julia",
   "version": "1.5.0"
  }
 },
 "nbformat": 4,
 "nbformat_minor": 4
}
