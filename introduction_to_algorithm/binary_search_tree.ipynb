{
 "cells": [
  {
   "cell_type": "code",
   "execution_count": 2,
   "metadata": {},
   "outputs": [
    {
     "ename": "LoadError",
     "evalue": "syntax: incomplete: \"mutable\" at In[2]:5 requires end",
     "output_type": "error",
     "traceback": [
      "syntax: incomplete: \"mutable\" at In[2]:5 requires end",
      "",
      "Stacktrace:",
      " [1] top-level scope at In[2]:5",
      " [2] include_string(::Function, ::Module, ::String, ::String) at .\\loading.jl:1091"
     ]
    }
   ],
   "source": [
    "mutable struct Node\n",
    "    left::Union{Node,Nothing}\n",
    "    right::Union{Node,Nothing}\n",
    "end\n",
    "mutable struct BinarySearchTree\n",
    "    root::Union{Node,Nothing}\n",
    "\n",
    "\n",
    "#print node  from j\n",
    "function  inorder_tree_walk(x::Node)\n",
    "    if x!=nothing\n",
    "        inorder_tree_walk(x.left)\n",
    "        print(x.key)\n",
    "        inorder_tree_walk(x.right)\n",
    "    end\n",
    "end\n",
    "  \n",
    "function post_order_tree_walk(x::Node)\n",
    "    if x!=nothing\n",
    "        post_order_tree_walk(x.left)\n",
    "        post_order_tree_walk(x.right)\n",
    "        print(x.key)\n",
    "    end        \n",
    "end\n",
    "\n",
    "function tree_search(x::Node,key)\n",
    "    if x==nothing || x.key==key\n",
    "        return x\n",
    "    end\n",
    "    if key<x.key\n",
    "        return tree_search(x.left)\n",
    "    else\n",
    "        return tree_search(x.right)\n",
    "    end\n",
    "end\n",
    "    \n",
    "\n",
    "function iterative_tree_search(x::Node,key)\n",
    "    while x != nothing && x.key!=key\n",
    "        if x.key<key\n",
    "            x=x.left\n",
    "        else\n",
    "            x=x.right\n",
    "        end\n",
    "    end\n",
    "    return x\n",
    "end\n",
    "        \n",
    "        \n",
    "function tree_minimum(x::Node)\n",
    "    while x.left !=nothing\n",
    "        x=x.left\n",
    "    end\n",
    "    return x\n",
    "end\n",
    "\n",
    "    \n",
    "function tree_maximum(x::Node)\n",
    "    while x.right != nothing\n",
    "        x=x.right\n",
    "    end\n",
    "end\n",
    "    \n",
    "\n",
    "    "
   ]
  },
  {
   "cell_type": "code",
   "execution_count": 7,
   "metadata": {},
   "outputs": [
    {
     "data": {
      "text/plain": [
       "tree_successor (generic function with 1 method)"
      ]
     },
     "execution_count": 7,
     "metadata": {},
     "output_type": "execute_result"
    }
   ],
   "source": [
    "function tree_successor(x::Node)\n",
    "    if x.right !=nothing\n",
    "        return tree_minimum(x.right)\n",
    "    end\n",
    "    y=x.parent\n",
    "    while y!=nothing && x==y.right\n",
    "        x=y\n",
    "        y=y.parent\n",
    "    end\n",
    "end\n",
    "\n",
    "    "
   ]
  },
  {
   "cell_type": "markdown",
   "metadata": {},
   "source": [
    "\n",
    "# problem\n",
    "\n"
   ]
  },
  {
   "cell_type": "code",
   "execution_count": 10,
   "metadata": {},
   "outputs": [
    {
     "data": {
      "text/plain": [
       "tree_predecessor (generic function with 1 method)"
      ]
     },
     "execution_count": 10,
     "metadata": {},
     "output_type": "execute_result"
    }
   ],
   "source": [
    "function tree_predecessor(x::Node)\n",
    "    if x.left != nothing\n",
    "        return tree_maximum(x.left)\n",
    "    end\n",
    "    y=x.parent\n",
    "    while y!=nothing && x==y.left\n",
    "        x=y\n",
    "        y=y.parent\n",
    "    end\n",
    "    return y\n",
    "end\n",
    "\n",
    "function tree_minumum_recursive(x::Node)\n",
    "    if x.left is nothing\n",
    "        return x\n",
    "    else\n",
    "        tree_minum_recursive(x.left)\n",
    "    end\n",
    "end\n"
   ]
  },
  {
   "cell_type": "code",
   "execution_count": null,
   "metadata": {},
   "outputs": [],
   "source": [
    "function tree_insert(tree::BinarySearchTree,x::Node)\n",
    "    parent=nothing\n",
    "    current=tree.root\n",
    "    is_right=false\n",
    "    if current !=nothing\n",
    "        tree.root=x\n",
    "        return nothing\n",
    "    end   \n",
    "    while current!=nothing\n",
    "        parent=current\n",
    "        if current.key<x.key\n",
    "            current=current.right\n",
    "            is_right=true\n",
    "        else\n",
    "            current=current.left\n",
    "            is_right=false\n",
    "        end\n",
    "    end\n",
    "    x.parent=parent\n",
    "    if is_right==true\n",
    "        parent.right=x\n",
    "    else\n",
    "        parent.left=x\n",
    "    end\n",
    "    "
   ]
  },
  {
   "cell_type": "code",
   "execution_count": null,
   "metadata": {},
   "outputs": [],
   "source": [
    "function transplant(tree::BinarySearchTree,u::Node,v::Node)\n",
    "    if u.parent ==nothing\n",
    "        tree.root=v\n",
    "    elseif u=u.parent.left\n",
    "        u.parent.left=v\n",
    "    else\n",
    "        u.parent.right=v\n",
    "    end\n",
    "    if v !=nothing\n",
    "        v.parent=u.parent\n",
    "    end\n",
    "end\n",
    "\n",
    "\n",
    "function tree_delete(tree:BinarySearchtree,deleted_node::Node)\n",
    "    if deleted_node.left ==nothing\n",
    "        transplant(tree,deleted_node,deleted_node.right)\n",
    "    elseif deleted_node.rihgt==nothing\n",
    "        transplant(tree,deleted_node,deleted_node.left)\n",
    "    else\n",
    "        error(\"not implmented\")\n"
   ]
  },
  {
   "cell_type": "code",
   "execution_count": null,
   "metadata": {},
   "outputs": [],
   "source": []
  }
 ],
 "metadata": {
  "kernelspec": {
   "display_name": "Julia 1.5.0",
   "language": "julia",
   "name": "julia-1.5"
  },
  "language_info": {
   "file_extension": ".jl",
   "mimetype": "application/julia",
   "name": "julia",
   "version": "1.5.0"
  }
 },
 "nbformat": 4,
 "nbformat_minor": 4
}
