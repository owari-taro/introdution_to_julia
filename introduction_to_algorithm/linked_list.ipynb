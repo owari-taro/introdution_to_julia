{
 "cells": [
  {
   "cell_type": "code",
   "execution_count": null,
   "metadata": {},
   "outputs": [],
   "source": [
    "mutable struct Node\n",
    "    prev::Union{Node,Nothing}\n",
    "    key\n",
    "    next::Union{Node,Nothing}\n",
    "end\n",
    "\n",
    "\n",
    "mutable struct LinkedList\n",
    "    head::Node\n",
    "end\n",
    "\n",
    "function list_search(list::LinkedList,key)\n",
    "    x=list.head\n",
    "    while x !=nothing && x.key!=key\n",
    "        x=x.next\n",
    "    end\n",
    "    return x\n",
    "end"
   ]
  }
 ],
 "metadata": {
  "kernelspec": {
   "display_name": "Julia 1.5.0",
   "language": "julia",
   "name": "julia-1.5"
  },
  "language_info": {
   "file_extension": ".jl",
   "mimetype": "application/julia",
   "name": "julia",
   "version": "1.5.0"
  }
 },
 "nbformat": 4,
 "nbformat_minor": 4
}
