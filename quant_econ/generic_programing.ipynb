{
 "cells": [
  {
   "cell_type": "code",
   "execution_count": 1,
   "metadata": {},
   "outputs": [
    {
     "data": {
      "text/plain": [
       "subtypetree (generic function with 3 methods)"
      ]
     },
     "execution_count": 1,
     "metadata": {},
     "output_type": "execute_result"
    }
   ],
   "source": [
    "using Base: show_supertypes # import the function from the `Base` package\n",
    "\n",
    "function subtypetree(t, level=1, indent=4)\n",
    "    if level == 1\n",
    "        println(t)\n",
    "    end\n",
    "    for s in subtypes(t)\n",
    "        #fill (\" \",12) return column vector 12*1\n",
    "        println(join(fill(\" \", level * indent)) * string(s))  # print type\n",
    "        subtypetree(s, level+1, indent)  # recursively print the next type, indenting\n",
    "    end\n",
    "end"
   ]
  },
  {
   "cell_type": "code",
   "execution_count": 2,
   "metadata": {},
   "outputs": [
    {
     "name": "stdout",
     "output_type": "stream",
     "text": [
      "supertype(typeof(hoge)) = Any\n"
     ]
    },
    {
     "ename": "LoadError",
     "evalue": "UndefVarError: myval not defined",
     "output_type": "error",
     "traceback": [
      "UndefVarError: myval not defined",
      "",
      "Stacktrace:",
      " [1] top-level scope at In[2]:17",
      " [2] include_string(::Function, ::Module, ::String, ::String) at .\\loading.jl:1091"
     ]
    }
   ],
   "source": [
    "\n",
    "struct MyType\n",
    "    hoge::Float64\n",
    "end\n",
    "\n",
    "hoge=MyType(2.3)\n",
    "@show supertype(typeof(hoge))\n",
    "\n",
    "\n",
    "\n",
    "import Base.show  # to extend an existing function\n",
    "\n",
    "function show(io::IO, x::MyType)\n",
    "    str = \"(MyType.hoge = $(x.hoge))\"  # custom display\n",
    "    print(io, str)\n",
    "end\n",
    "show(myval)  # "
   ]
  },
  {
   "cell_type": "code",
   "execution_count": 3,
   "metadata": {},
   "outputs": [
    {
     "name": "stdout",
     "output_type": "stream",
     "text": [
      "d1 = Normal{Float64}(μ=1.0, σ=2.0)\n",
      "Normal{Float64} <: Distribution{Univariate,Continuous} <: Sampleable{Univariate,Continuous} <: Any"
     ]
    }
   ],
   "source": [
    "using Distributions\n",
    "d1 = Normal(1.0, 2.0) # an example type to explore\n",
    "@show d1\n",
    "show_supertypes(typeof(d1))"
   ]
  },
  {
   "cell_type": "code",
   "execution_count": 4,
   "metadata": {},
   "outputs": [
    {
     "name": "stdout",
     "output_type": "stream",
     "text": [
      "rand(d1) = 2.6170853451985687\n"
     ]
    }
   ],
   "source": [
    "#drawo random numver from normal distribution with mean:1 variance:2\n",
    "@show rand(d1);"
   ]
  },
  {
   "cell_type": "code",
   "execution_count": 5,
   "metadata": {},
   "outputs": [
    {
     "name": "stdout",
     "output_type": "stream",
     "text": [
      "simulateprocess(0.0, d = Normal(0.2, 2.0)) = [0.0, -4.026501813244329, -0.48370527224873516, 0.33002087075876485, 1.2853069579774405, -2.1499563237273502]\n"
     ]
    },
    {
     "data": {
      "text/plain": [
       "6-element Array{Float64,1}:\n",
       "  0.0\n",
       " -4.026501813244329\n",
       " -0.48370527224873516\n",
       "  0.33002087075876485\n",
       "  1.2853069579774405\n",
       " -2.1499563237273502"
      ]
     },
     "execution_count": 5,
     "metadata": {},
     "output_type": "execute_result"
    }
   ],
   "source": [
    "#d can be any distribution,not limited to normal distribution\n",
    "function simulateprocess(x₀; a = 1.0, b = 1.0, N = 5, d::Sampleable{Univariate,Continuous})\n",
    "    x = zeros(typeof(x₀), N+1) \n",
    "    x[1] = x₀\n",
    "    for t in 2:N+1\n",
    "        x[t] = a * x[t-1] + b * rand(d) # draw\n",
    "    end\n",
    "    return x\n",
    "end\n",
    "\n",
    "@show simulateprocess(0.0, d=Normal(0.2, 2.0))"
   ]
  },
  {
   "cell_type": "code",
   "execution_count": 6,
   "metadata": {},
   "outputs": [
    {
     "name": "stdout",
     "output_type": "stream",
     "text": [
      "d1 = Normal{Float64}(μ=1.0, σ=2.0)\n",
      "supertype(typeof(d1)) = Distribution{Univariate,Continuous}\n",
      "d2 = Exponential{Float64}(θ=0.1)\n",
      "supertype(typeof(d2)) = Distribution{Univariate,Continuous}\n"
     ]
    },
    {
     "data": {
      "text/plain": [
       "Distribution{Univariate,Continuous}"
      ]
     },
     "execution_count": 6,
     "metadata": {},
     "output_type": "execute_result"
    }
   ],
   "source": [
    "d1 = Normal(1.0, 2.0)\n",
    "@show d1\n",
    "@show supertype(typeof(d1))\n",
    "\n",
    "d2 = Exponential(0.1)\n",
    "@show d2\n",
    "@show supertype(typeof(d2))"
   ]
  },
  {
   "cell_type": "code",
   "execution_count": 7,
   "metadata": {},
   "outputs": [
    {
     "data": {
      "image/svg+xml": [
       "<?xml version=\"1.0\" encoding=\"utf-8\"?>\n",
       "<svg xmlns=\"http://www.w3.org/2000/svg\" xmlns:xlink=\"http://www.w3.org/1999/xlink\" width=\"600\" height=\"400\" viewBox=\"0 0 2400 1600\">\n",
       "<defs>\n",
       "  <clipPath id=\"clip610\">\n",
       "    <rect x=\"0\" y=\"0\" width=\"2400\" height=\"1600\"/>\n",
       "  </clipPath>\n",
       "</defs>\n",
       "<path clip-path=\"url(#clip610)\" d=\"\n",
       "M0 1600 L2400 1600 L2400 0 L0 0  Z\n",
       "  \" fill=\"#ffffff\" fill-rule=\"evenodd\" fill-opacity=\"1\"/>\n",
       "<defs>\n",
       "  <clipPath id=\"clip611\">\n",
       "    <rect x=\"480\" y=\"0\" width=\"1681\" height=\"1600\"/>\n",
       "  </clipPath>\n",
       "</defs>\n",
       "<path clip-path=\"url(#clip610)\" d=\"\n",
       "M148.334 1486.45 L2352.76 1486.45 L2352.76 47.2441 L148.334 47.2441  Z\n",
       "  \" fill=\"#ffffff\" fill-rule=\"evenodd\" fill-opacity=\"1\"/>\n",
       "<defs>\n",
       "  <clipPath id=\"clip612\">\n",
       "    <rect x=\"148\" y=\"47\" width=\"2205\" height=\"1440\"/>\n",
       "  </clipPath>\n",
       "</defs>\n",
       "<polyline clip-path=\"url(#clip612)\" style=\"stroke:#000000; stroke-width:2; stroke-opacity:0.1; fill:none\" points=\"\n",
       "  411.758,1486.45 411.758,47.2441 \n",
       "  \"/>\n",
       "<polyline clip-path=\"url(#clip612)\" style=\"stroke:#000000; stroke-width:2; stroke-opacity:0.1; fill:none\" points=\"\n",
       "  691.354,1486.45 691.354,47.2441 \n",
       "  \"/>\n",
       "<polyline clip-path=\"url(#clip612)\" style=\"stroke:#000000; stroke-width:2; stroke-opacity:0.1; fill:none\" points=\"\n",
       "  970.949,1486.45 970.949,47.2441 \n",
       "  \"/>\n",
       "<polyline clip-path=\"url(#clip612)\" style=\"stroke:#000000; stroke-width:2; stroke-opacity:0.1; fill:none\" points=\"\n",
       "  1250.55,1486.45 1250.55,47.2441 \n",
       "  \"/>\n",
       "<polyline clip-path=\"url(#clip612)\" style=\"stroke:#000000; stroke-width:2; stroke-opacity:0.1; fill:none\" points=\"\n",
       "  1530.14,1486.45 1530.14,47.2441 \n",
       "  \"/>\n",
       "<polyline clip-path=\"url(#clip612)\" style=\"stroke:#000000; stroke-width:2; stroke-opacity:0.1; fill:none\" points=\"\n",
       "  1809.74,1486.45 1809.74,47.2441 \n",
       "  \"/>\n",
       "<polyline clip-path=\"url(#clip612)\" style=\"stroke:#000000; stroke-width:2; stroke-opacity:0.1; fill:none\" points=\"\n",
       "  2089.33,1486.45 2089.33,47.2441 \n",
       "  \"/>\n",
       "<polyline clip-path=\"url(#clip612)\" style=\"stroke:#000000; stroke-width:2; stroke-opacity:0.1; fill:none\" points=\"\n",
       "  148.334,1447.06 2352.76,1447.06 \n",
       "  \"/>\n",
       "<polyline clip-path=\"url(#clip612)\" style=\"stroke:#000000; stroke-width:2; stroke-opacity:0.1; fill:none\" points=\"\n",
       "  148.334,1106.33 2352.76,1106.33 \n",
       "  \"/>\n",
       "<polyline clip-path=\"url(#clip612)\" style=\"stroke:#000000; stroke-width:2; stroke-opacity:0.1; fill:none\" points=\"\n",
       "  148.334,765.604 2352.76,765.604 \n",
       "  \"/>\n",
       "<polyline clip-path=\"url(#clip612)\" style=\"stroke:#000000; stroke-width:2; stroke-opacity:0.1; fill:none\" points=\"\n",
       "  148.334,424.874 2352.76,424.874 \n",
       "  \"/>\n",
       "<polyline clip-path=\"url(#clip612)\" style=\"stroke:#000000; stroke-width:2; stroke-opacity:0.1; fill:none\" points=\"\n",
       "  148.334,84.1434 2352.76,84.1434 \n",
       "  \"/>\n",
       "<polyline clip-path=\"url(#clip610)\" style=\"stroke:#000000; stroke-width:4; stroke-opacity:1; fill:none\" points=\"\n",
       "  148.334,1486.45 2352.76,1486.45 \n",
       "  \"/>\n",
       "<polyline clip-path=\"url(#clip610)\" style=\"stroke:#000000; stroke-width:4; stroke-opacity:1; fill:none\" points=\"\n",
       "  148.334,1486.45 148.334,47.2441 \n",
       "  \"/>\n",
       "<polyline clip-path=\"url(#clip610)\" style=\"stroke:#000000; stroke-width:4; stroke-opacity:1; fill:none\" points=\"\n",
       "  411.758,1486.45 411.758,1469.18 \n",
       "  \"/>\n",
       "<polyline clip-path=\"url(#clip610)\" style=\"stroke:#000000; stroke-width:4; stroke-opacity:1; fill:none\" points=\"\n",
       "  691.354,1486.45 691.354,1469.18 \n",
       "  \"/>\n",
       "<polyline clip-path=\"url(#clip610)\" style=\"stroke:#000000; stroke-width:4; stroke-opacity:1; fill:none\" points=\"\n",
       "  970.949,1486.45 970.949,1469.18 \n",
       "  \"/>\n",
       "<polyline clip-path=\"url(#clip610)\" style=\"stroke:#000000; stroke-width:4; stroke-opacity:1; fill:none\" points=\"\n",
       "  1250.55,1486.45 1250.55,1469.18 \n",
       "  \"/>\n",
       "<polyline clip-path=\"url(#clip610)\" style=\"stroke:#000000; stroke-width:4; stroke-opacity:1; fill:none\" points=\"\n",
       "  1530.14,1486.45 1530.14,1469.18 \n",
       "  \"/>\n",
       "<polyline clip-path=\"url(#clip610)\" style=\"stroke:#000000; stroke-width:4; stroke-opacity:1; fill:none\" points=\"\n",
       "  1809.74,1486.45 1809.74,1469.18 \n",
       "  \"/>\n",
       "<polyline clip-path=\"url(#clip610)\" style=\"stroke:#000000; stroke-width:4; stroke-opacity:1; fill:none\" points=\"\n",
       "  2089.33,1486.45 2089.33,1469.18 \n",
       "  \"/>\n",
       "<polyline clip-path=\"url(#clip610)\" style=\"stroke:#000000; stroke-width:4; stroke-opacity:1; fill:none\" points=\"\n",
       "  148.334,1447.06 174.787,1447.06 \n",
       "  \"/>\n",
       "<polyline clip-path=\"url(#clip610)\" style=\"stroke:#000000; stroke-width:4; stroke-opacity:1; fill:none\" points=\"\n",
       "  148.334,1106.33 174.787,1106.33 \n",
       "  \"/>\n",
       "<polyline clip-path=\"url(#clip610)\" style=\"stroke:#000000; stroke-width:4; stroke-opacity:1; fill:none\" points=\"\n",
       "  148.334,765.604 174.787,765.604 \n",
       "  \"/>\n",
       "<polyline clip-path=\"url(#clip610)\" style=\"stroke:#000000; stroke-width:4; stroke-opacity:1; fill:none\" points=\"\n",
       "  148.334,424.874 174.787,424.874 \n",
       "  \"/>\n",
       "<polyline clip-path=\"url(#clip610)\" style=\"stroke:#000000; stroke-width:4; stroke-opacity:1; fill:none\" points=\"\n",
       "  148.334,84.1434 174.787,84.1434 \n",
       "  \"/>\n",
       "<path clip-path=\"url(#clip610)\" d=\"M 0 0 M392.626 1525.04 L405.103 1525.04 L405.103 1528.83 L392.626 1528.83 L392.626 1525.04 Z\" fill=\"#000000\" fill-rule=\"evenodd\" fill-opacity=\"1\" /><path clip-path=\"url(#clip610)\" d=\"M 0 0 M410.982 1535.98 L418.621 1535.98 L418.621 1509.62 L410.311 1511.29 L410.311 1507.03 L418.575 1505.36 L423.251 1505.36 L423.251 1535.98 L430.89 1535.98 L430.89 1539.92 L410.982 1539.92 L410.982 1535.98 Z\" fill=\"#000000\" fill-rule=\"evenodd\" fill-opacity=\"1\" /><path clip-path=\"url(#clip610)\" d=\"M 0 0 M691.354 1508.44 Q687.742 1508.44 685.914 1512 Q684.108 1515.55 684.108 1522.67 Q684.108 1529.78 685.914 1533.35 Q687.742 1536.89 691.354 1536.89 Q694.988 1536.89 696.793 1533.35 Q698.622 1529.78 698.622 1522.67 Q698.622 1515.55 696.793 1512 Q694.988 1508.44 691.354 1508.44 M691.354 1504.73 Q697.164 1504.73 700.219 1509.34 Q703.298 1513.92 703.298 1522.67 Q703.298 1531.4 700.219 1536.01 Q697.164 1540.59 691.354 1540.59 Q685.543 1540.59 682.465 1536.01 Q679.409 1531.4 679.409 1522.67 Q679.409 1513.92 682.465 1509.34 Q685.543 1504.73 691.354 1504.73 Z\" fill=\"#000000\" fill-rule=\"evenodd\" fill-opacity=\"1\" /><path clip-path=\"url(#clip610)\" d=\"M 0 0 M961.331 1535.98 L968.97 1535.98 L968.97 1509.62 L960.66 1511.29 L960.66 1507.03 L968.924 1505.36 L973.6 1505.36 L973.6 1535.98 L981.239 1535.98 L981.239 1539.92 L961.331 1539.92 L961.331 1535.98 Z\" fill=\"#000000\" fill-rule=\"evenodd\" fill-opacity=\"1\" /><path clip-path=\"url(#clip610)\" d=\"M 0 0 M1245.2 1535.98 L1261.52 1535.98 L1261.52 1539.92 L1239.57 1539.92 L1239.57 1535.98 Q1242.24 1533.23 1246.82 1528.6 Q1251.42 1523.95 1252.61 1522.61 Q1254.85 1520.08 1255.73 1518.35 Q1256.63 1516.59 1256.63 1514.9 Q1256.63 1512.14 1254.69 1510.41 Q1252.77 1508.67 1249.67 1508.67 Q1247.47 1508.67 1245.01 1509.43 Q1242.58 1510.2 1239.8 1511.75 L1239.8 1507.03 Q1242.63 1505.89 1245.08 1505.31 Q1247.54 1504.73 1249.57 1504.73 Q1254.94 1504.73 1258.14 1507.42 Q1261.33 1510.11 1261.33 1514.6 Q1261.33 1516.73 1260.52 1518.65 Q1259.73 1520.54 1257.63 1523.14 Q1257.05 1523.81 1253.95 1527.03 Q1250.85 1530.22 1245.2 1535.98 Z\" fill=\"#000000\" fill-rule=\"evenodd\" fill-opacity=\"1\" /><path clip-path=\"url(#clip610)\" d=\"M 0 0 M1534.39 1521.29 Q1537.75 1522 1539.62 1524.27 Q1541.52 1526.54 1541.52 1529.87 Q1541.52 1534.99 1538 1537.79 Q1534.48 1540.59 1528 1540.59 Q1525.82 1540.59 1523.51 1540.15 Q1521.22 1539.73 1518.76 1538.88 L1518.76 1534.36 Q1520.71 1535.5 1523.02 1536.08 Q1525.34 1536.66 1527.86 1536.66 Q1532.26 1536.66 1534.55 1534.92 Q1536.87 1533.18 1536.87 1529.87 Q1536.87 1526.82 1534.71 1525.11 Q1532.58 1523.37 1528.76 1523.37 L1524.74 1523.37 L1524.74 1519.53 L1528.95 1519.53 Q1532.4 1519.53 1534.23 1518.16 Q1536.06 1516.77 1536.06 1514.18 Q1536.06 1511.52 1534.16 1510.11 Q1532.28 1508.67 1528.76 1508.67 Q1526.84 1508.67 1524.64 1509.09 Q1522.44 1509.5 1519.81 1510.38 L1519.81 1506.22 Q1522.47 1505.48 1524.78 1505.11 Q1527.12 1504.73 1529.18 1504.73 Q1534.5 1504.73 1537.61 1507.17 Q1540.71 1509.57 1540.71 1513.69 Q1540.71 1516.56 1539.06 1518.55 Q1537.42 1520.52 1534.39 1521.29 Z\" fill=\"#000000\" fill-rule=\"evenodd\" fill-opacity=\"1\" /><path clip-path=\"url(#clip610)\" d=\"M 0 0 M1812.75 1509.43 L1800.94 1527.88 L1812.75 1527.88 L1812.75 1509.43 M1811.52 1505.36 L1817.4 1505.36 L1817.4 1527.88 L1822.33 1527.88 L1822.33 1531.77 L1817.4 1531.77 L1817.4 1539.92 L1812.75 1539.92 L1812.75 1531.77 L1797.14 1531.77 L1797.14 1527.26 L1811.52 1505.36 Z\" fill=\"#000000\" fill-rule=\"evenodd\" fill-opacity=\"1\" /><path clip-path=\"url(#clip610)\" d=\"M 0 0 M2079.61 1505.36 L2097.97 1505.36 L2097.97 1509.3 L2083.89 1509.3 L2083.89 1517.77 Q2084.91 1517.42 2085.93 1517.26 Q2086.95 1517.07 2087.97 1517.07 Q2093.75 1517.07 2097.13 1520.24 Q2100.51 1523.42 2100.51 1528.83 Q2100.51 1534.41 2097.04 1537.51 Q2093.57 1540.59 2087.25 1540.59 Q2085.07 1540.59 2082.8 1540.22 Q2080.56 1539.85 2078.15 1539.11 L2078.15 1534.41 Q2080.24 1535.54 2082.46 1536.1 Q2084.68 1536.66 2087.16 1536.66 Q2091.16 1536.66 2093.5 1534.55 Q2095.84 1532.44 2095.84 1528.83 Q2095.84 1525.22 2093.5 1523.11 Q2091.16 1521.01 2087.16 1521.01 Q2085.28 1521.01 2083.41 1521.42 Q2081.55 1521.84 2079.61 1522.72 L2079.61 1505.36 Z\" fill=\"#000000\" fill-rule=\"evenodd\" fill-opacity=\"1\" /><path clip-path=\"url(#clip610)\" d=\"M 0 0 M75.4226 1432.86 Q71.8115 1432.86 69.9828 1436.43 Q68.1773 1439.97 68.1773 1447.1 Q68.1773 1454.21 69.9828 1457.77 Q71.8115 1461.31 75.4226 1461.31 Q79.0569 1461.31 80.8624 1457.77 Q82.6911 1454.21 82.6911 1447.1 Q82.6911 1439.97 80.8624 1436.43 Q79.0569 1432.86 75.4226 1432.86 M75.4226 1429.16 Q81.2328 1429.16 84.2883 1433.77 Q87.367 1438.35 87.367 1447.1 Q87.367 1455.83 84.2883 1460.43 Q81.2328 1465.02 75.4226 1465.02 Q69.6125 1465.02 66.5338 1460.43 Q63.4782 1455.83 63.4782 1447.1 Q63.4782 1438.35 66.5338 1433.77 Q69.6125 1429.16 75.4226 1429.16 Z\" fill=\"#000000\" fill-rule=\"evenodd\" fill-opacity=\"1\" /><path clip-path=\"url(#clip610)\" d=\"M 0 0 M92.4364 1458.46 L97.3206 1458.46 L97.3206 1464.34 L92.4364 1464.34 L92.4364 1458.46 Z\" fill=\"#000000\" fill-rule=\"evenodd\" fill-opacity=\"1\" /><path clip-path=\"url(#clip610)\" d=\"M 0 0 M112.39 1432.86 Q108.779 1432.86 106.95 1436.43 Q105.145 1439.97 105.145 1447.1 Q105.145 1454.21 106.95 1457.77 Q108.779 1461.31 112.39 1461.31 Q116.024 1461.31 117.83 1457.77 Q119.658 1454.21 119.658 1447.1 Q119.658 1439.97 117.83 1436.43 Q116.024 1432.86 112.39 1432.86 M112.39 1429.16 Q118.2 1429.16 121.256 1433.77 Q124.334 1438.35 124.334 1447.1 Q124.334 1455.83 121.256 1460.43 Q118.2 1465.02 112.39 1465.02 Q106.58 1465.02 103.501 1460.43 Q100.446 1455.83 100.446 1447.1 Q100.446 1438.35 103.501 1433.77 Q106.58 1429.16 112.39 1429.16 Z\" fill=\"#000000\" fill-rule=\"evenodd\" fill-opacity=\"1\" /><path clip-path=\"url(#clip610)\" d=\"M 0 0 M76.6495 1092.13 Q73.0384 1092.13 71.2097 1095.7 Q69.4041 1099.24 69.4041 1106.37 Q69.4041 1113.48 71.2097 1117.04 Q73.0384 1120.58 76.6495 1120.58 Q80.2837 1120.58 82.0892 1117.04 Q83.9179 1113.48 83.9179 1106.37 Q83.9179 1099.24 82.0892 1095.7 Q80.2837 1092.13 76.6495 1092.13 M76.6495 1088.43 Q82.4596 1088.43 85.5152 1093.04 Q88.5938 1097.62 88.5938 1106.37 Q88.5938 1115.1 85.5152 1119.7 Q82.4596 1124.29 76.6495 1124.29 Q70.8393 1124.29 67.7606 1119.7 Q64.7051 1115.1 64.7051 1106.37 Q64.7051 1097.62 67.7606 1093.04 Q70.8393 1088.43 76.6495 1088.43 Z\" fill=\"#000000\" fill-rule=\"evenodd\" fill-opacity=\"1\" /><path clip-path=\"url(#clip610)\" d=\"M 0 0 M93.6633 1117.73 L98.5475 1117.73 L98.5475 1123.61 L93.6633 1123.61 L93.6633 1117.73 Z\" fill=\"#000000\" fill-rule=\"evenodd\" fill-opacity=\"1\" /><path clip-path=\"url(#clip610)\" d=\"M 0 0 M104.427 1119.68 L112.066 1119.68 L112.066 1093.31 L103.756 1094.98 L103.756 1090.72 L112.02 1089.05 L116.696 1089.05 L116.696 1119.68 L124.334 1119.68 L124.334 1123.61 L104.427 1123.61 L104.427 1119.68 Z\" fill=\"#000000\" fill-rule=\"evenodd\" fill-opacity=\"1\" /><path clip-path=\"url(#clip610)\" d=\"M 0 0 M77.0198 751.403 Q73.4087 751.403 71.58 754.967 Q69.7745 758.509 69.7745 765.639 Q69.7745 772.745 71.58 776.31 Q73.4087 779.852 77.0198 779.852 Q80.6541 779.852 82.4596 776.31 Q84.2883 772.745 84.2883 765.639 Q84.2883 758.509 82.4596 754.967 Q80.6541 751.403 77.0198 751.403 M77.0198 747.699 Q82.83 747.699 85.8855 752.305 Q88.9642 756.889 88.9642 765.639 Q88.9642 774.365 85.8855 778.972 Q82.83 783.555 77.0198 783.555 Q71.2097 783.555 68.131 778.972 Q65.0754 774.365 65.0754 765.639 Q65.0754 756.889 68.131 752.305 Q71.2097 747.699 77.0198 747.699 Z\" fill=\"#000000\" fill-rule=\"evenodd\" fill-opacity=\"1\" /><path clip-path=\"url(#clip610)\" d=\"M 0 0 M94.0336 777.004 L98.9179 777.004 L98.9179 782.884 L94.0336 782.884 L94.0336 777.004 Z\" fill=\"#000000\" fill-rule=\"evenodd\" fill-opacity=\"1\" /><path clip-path=\"url(#clip610)\" d=\"M 0 0 M108.015 778.949 L124.334 778.949 L124.334 782.884 L102.39 782.884 L102.39 778.949 Q105.052 776.194 109.635 771.565 Q114.242 766.912 115.422 765.569 Q117.668 763.046 118.547 761.31 Q119.45 759.551 119.45 757.861 Q119.45 755.106 117.506 753.37 Q115.584 751.634 112.483 751.634 Q110.284 751.634 107.83 752.398 Q105.399 753.162 102.622 754.713 L102.622 749.991 Q105.446 748.856 107.899 748.278 Q110.353 747.699 112.39 747.699 Q117.76 747.699 120.955 750.384 Q124.149 753.069 124.149 757.56 Q124.149 759.69 123.339 761.611 Q122.552 763.509 120.446 766.102 Q119.867 766.773 116.765 769.99 Q113.663 773.185 108.015 778.949 Z\" fill=\"#000000\" fill-rule=\"evenodd\" fill-opacity=\"1\" /><path clip-path=\"url(#clip610)\" d=\"M 0 0 M76.0708 410.672 Q72.4597 410.672 70.631 414.237 Q68.8254 417.779 68.8254 424.908 Q68.8254 432.015 70.631 435.58 Q72.4597 439.121 76.0708 439.121 Q79.705 439.121 81.5105 435.58 Q83.3392 432.015 83.3392 424.908 Q83.3392 417.779 81.5105 414.237 Q79.705 410.672 76.0708 410.672 M76.0708 406.969 Q81.8809 406.969 84.9365 411.575 Q88.0151 416.158 88.0151 424.908 Q88.0151 433.635 84.9365 438.242 Q81.8809 442.825 76.0708 442.825 Q70.2606 442.825 67.1819 438.242 Q64.1264 433.635 64.1264 424.908 Q64.1264 416.158 67.1819 411.575 Q70.2606 406.969 76.0708 406.969 Z\" fill=\"#000000\" fill-rule=\"evenodd\" fill-opacity=\"1\" /><path clip-path=\"url(#clip610)\" d=\"M 0 0 M93.0846 436.274 L97.9688 436.274 L97.9688 442.154 L93.0846 442.154 L93.0846 436.274 Z\" fill=\"#000000\" fill-rule=\"evenodd\" fill-opacity=\"1\" /><path clip-path=\"url(#clip610)\" d=\"M 0 0 M117.205 423.519 Q120.561 424.237 122.436 426.506 Q124.334 428.774 124.334 432.107 Q124.334 437.223 120.816 440.024 Q117.297 442.825 110.816 442.825 Q108.64 442.825 106.325 442.385 Q104.034 441.968 101.58 441.112 L101.58 436.598 Q103.524 437.732 105.839 438.311 Q108.154 438.89 110.677 438.89 Q115.075 438.89 117.367 437.154 Q119.682 435.418 119.682 432.107 Q119.682 429.052 117.529 427.339 Q115.399 425.603 111.58 425.603 L107.552 425.603 L107.552 421.76 L111.765 421.76 Q115.214 421.76 117.043 420.394 Q118.871 419.006 118.871 416.413 Q118.871 413.751 116.973 412.339 Q115.098 410.904 111.58 410.904 Q109.659 410.904 107.459 411.32 Q105.26 411.737 102.622 412.617 L102.622 408.45 Q105.284 407.709 107.598 407.339 Q109.936 406.969 111.996 406.969 Q117.321 406.969 120.422 409.399 Q123.524 411.807 123.524 415.927 Q123.524 418.797 121.881 420.788 Q120.237 422.756 117.205 423.519 Z\" fill=\"#000000\" fill-rule=\"evenodd\" fill-opacity=\"1\" /><path clip-path=\"url(#clip610)\" d=\"M 0 0 M74.9365 69.942 Q71.3254 69.942 69.4967 73.5068 Q67.6912 77.0485 67.6912 84.1781 Q67.6912 91.2845 69.4967 94.8493 Q71.3254 98.391 74.9365 98.391 Q78.5707 98.391 80.3763 94.8493 Q82.205 91.2845 82.205 84.1781 Q82.205 77.0485 80.3763 73.5068 Q78.5707 69.942 74.9365 69.942 M74.9365 66.2384 Q80.7467 66.2384 83.8022 70.8448 Q86.8809 75.4281 86.8809 84.1781 Q86.8809 92.9049 83.8022 97.5113 Q80.7467 102.095 74.9365 102.095 Q69.1264 102.095 66.0477 97.5113 Q62.9921 92.9049 62.9921 84.1781 Q62.9921 75.4281 66.0477 70.8448 Q69.1264 66.2384 74.9365 66.2384 Z\" fill=\"#000000\" fill-rule=\"evenodd\" fill-opacity=\"1\" /><path clip-path=\"url(#clip610)\" d=\"M 0 0 M91.9503 95.5438 L96.8345 95.5438 L96.8345 101.423 L91.9503 101.423 L91.9503 95.5438 Z\" fill=\"#000000\" fill-rule=\"evenodd\" fill-opacity=\"1\" /><path clip-path=\"url(#clip610)\" d=\"M 0 0 M114.751 70.9374 L102.946 89.3864 L114.751 89.3864 L114.751 70.9374 M113.524 66.8634 L119.404 66.8634 L119.404 89.3864 L124.334 89.3864 L124.334 93.2753 L119.404 93.2753 L119.404 101.423 L114.751 101.423 L114.751 93.2753 L99.1493 93.2753 L99.1493 88.7614 L113.524 66.8634 Z\" fill=\"#000000\" fill-rule=\"evenodd\" fill-opacity=\"1\" /><polyline clip-path=\"url(#clip612)\" style=\"stroke:#009af9; stroke-width:4; stroke-opacity:1; fill:none\" points=\"\n",
       "  210.724,1445.72 220.878,1445.52 231.033,1445.3 324.928,1441.4 418.823,1430.78 475.25,1417.98 531.677,1397.19 579.385,1370.84 627.093,1333.92 653.006,1308.54 \n",
       "  678.918,1278.92 704.83,1244.72 730.742,1205.64 754.631,1165.1 778.52,1120.16 802.409,1070.81 826.298,1017.17 877.52,888.846 928.743,746.147 988.09,572.118 \n",
       "  1047.44,402.994 1073.81,333.916 1100.18,270.776 1126.55,215.064 1152.92,168.139 1176.04,135.161 1199.16,110.507 1222.29,94.6711 1245.41,87.9763 1270.62,91.2483 \n",
       "  1295.84,105.465 1321.05,130.283 1346.26,165.108 1371.62,209.406 1396.98,261.964 1422.34,321.589 1447.71,386.972 1503.79,545.117 1559.87,709.93 1613.23,861.002 \n",
       "  1666.58,997.778 1694.33,1061.35 1722.07,1119.17 1749.81,1171.05 1777.55,1217 1824.25,1281.47 1870.95,1331.15 1927.97,1374.86 1984.99,1403.92 2038.59,1421.46 \n",
       "  2092.19,1432.42 2178.06,1441.52 2263.94,1445.16 2277.15,1445.46 2290.37,1445.72 \n",
       "  \"/>\n",
       "<path clip-path=\"url(#clip610)\" d=\"\n",
       "M1983.32 216.178 L2279.28 216.178 L2279.28 95.2176 L1983.32 95.2176  Z\n",
       "  \" fill=\"#ffffff\" fill-rule=\"evenodd\" fill-opacity=\"1\"/>\n",
       "<polyline clip-path=\"url(#clip610)\" style=\"stroke:#000000; stroke-width:4; stroke-opacity:1; fill:none\" points=\"\n",
       "  1983.32,216.178 2279.28,216.178 2279.28,95.2176 1983.32,95.2176 1983.32,216.178 \n",
       "  \"/>\n",
       "<polyline clip-path=\"url(#clip610)\" style=\"stroke:#009af9; stroke-width:4; stroke-opacity:1; fill:none\" points=\"\n",
       "  2007.81,155.698 2154.78,155.698 \n",
       "  \"/>\n",
       "<path clip-path=\"url(#clip610)\" d=\"M 0 0 M2193.11 175.385 Q2191.31 180.015 2189.59 181.427 Q2187.88 182.839 2185.01 182.839 L2181.61 182.839 L2181.61 179.274 L2184.11 179.274 Q2185.87 179.274 2186.84 178.44 Q2187.81 177.607 2188.99 174.505 L2189.76 172.561 L2179.27 147.052 L2183.78 147.052 L2191.89 167.329 L2199.99 147.052 L2204.5 147.052 L2193.11 175.385 Z\" fill=\"#000000\" fill-rule=\"evenodd\" fill-opacity=\"1\" /><path clip-path=\"url(#clip610)\" d=\"M 0 0 M2210.38 169.042 L2218.02 169.042 L2218.02 142.677 L2209.71 144.343 L2209.71 140.084 L2217.97 138.418 L2222.65 138.418 L2222.65 169.042 L2230.29 169.042 L2230.29 172.978 L2210.38 172.978 L2210.38 169.042 Z\" fill=\"#000000\" fill-rule=\"evenodd\" fill-opacity=\"1\" /></svg>\n"
      ]
     },
     "execution_count": 7,
     "metadata": {},
     "output_type": "execute_result"
    }
   ],
   "source": [
    "#if error occured ,(v0.7) pkg> build GR\n",
    "using StatsPlots\n",
    "d = Normal(2.0, 1.0)\n",
    "plot(d) # note no o"
   ]
  },
  {
   "cell_type": "code",
   "execution_count": 8,
   "metadata": {},
   "outputs": [],
   "source": [
    "#cerate own distribution\n",
    "struct OurTruncatedExponential <: Distribution{Univariate,Continuous}\n",
    "    α::Float64\n",
    "    xmax::Float64\n",
    "end\n",
    "\n",
    "Distributions.pdf(d::OurTruncatedExponential, x) = d.α *exp(-d.α * x)/exp(-d.α * d.xmax)\n",
    "Distributions.minimum(d::OurTruncatedExponential) = 0\n",
    "Distributions.maximum(d::OurTruncatedExponential) = d.xmax"
   ]
  },
  {
   "cell_type": "code",
   "execution_count": 9,
   "metadata": {},
   "outputs": [
    {
     "name": "stdout",
     "output_type": "stream",
     "text": [
      "(minimum(d), maximum(d)) = (0, 2.0)\n",
      "support(d) = RealInterval(0.0, 2.0)\n"
     ]
    },
    {
     "data": {
      "text/plain": [
       "RealInterval(0.0, 2.0)"
      ]
     },
     "execution_count": 9,
     "metadata": {},
     "output_type": "execute_result"
    }
   ],
   "source": [
    "d = OurTruncatedExponential(1.0,2.0)\n",
    "@show minimum(d), maximum(d)\n",
    "@show support(d)"
   ]
  },
  {
   "cell_type": "code",
   "execution_count": 13,
   "metadata": {},
   "outputs": [
    {
     "name": "stdout",
     "output_type": "stream",
     "text": [
      "typeof(a) = Complex{Float64}\n",
      "typeof(a) <: Number = true\n",
      "a + b = 1.0 + 3.0im\n",
      "(1.0im) * a = -1.0 + 1.0im\n",
      "a * b = -2.0 + 2.0im\n",
      "-a = -1.0 - 1.0im\n",
      "a - b = 1.0 - 1.0im\n",
      "zero(a) = 0.0 + 0.0im\n",
      "one(a) = 1.0 + 0.0im\n",
      "(1 + 1im) ^ 2 = 0 + 2im\n"
     ]
    },
    {
     "data": {
      "text/plain": [
       "0 + 2im"
      ]
     },
     "execution_count": 13,
     "metadata": {},
     "output_type": "execute_result"
    }
   ],
   "source": [
    "a = 1.0 + 1.0im\n",
    "b = 0.0 + 2.0im\n",
    "@show typeof(a)\n",
    "@show typeof(a) <: Number\n",
    "@show a + b\n",
    "@show 1.0im*a\n",
    "@show a * b\n",
    "@show -a\n",
    "@show a - b\n",
    "@show zero(a)\n",
    "@show one(a);\n",
    "\n",
    "@show (1+1im)^2"
   ]
  },
  {
   "cell_type": "code",
   "execution_count": 17,
   "metadata": {},
   "outputs": [
    {
     "name": "stdout",
     "output_type": "stream",
     "text": [
      "a + b = 6\n",
      "a + c = 6.29999999999999982236431605997495353221893310546875\n",
      "typeof(a + c) = BigFloat\n"
     ]
    },
    {
     "data": {
      "text/plain": [
       "BigFloat"
      ]
     },
     "execution_count": 17,
     "metadata": {},
     "output_type": "execute_result"
    }
   ],
   "source": [
    "a=BigInt(3)\n",
    "b=3\n",
    "c=3.3\n",
    "@show a+b\n",
    "@show a+c\n",
    "@show typeof(a+c)"
   ]
  },
  {
   "cell_type": "code",
   "execution_count": 19,
   "metadata": {},
   "outputs": [
    {
     "name": "stdout",
     "output_type": "stream",
     "text": [
      "(x, typeof(x)) = (4.0 + 1.0im, Complex{Float64})\n",
      "(xbig, typeof(xbig)) = (4.0 + 1.0im, Complex{BigFloat})\n"
     ]
    }
   ],
   "source": [
    "x = 4.0 + 1.0im\n",
    "@show x, typeof(x)\n",
    "\n",
    "xbig = BigFloat(4.0) + 1.0im\n",
    "@show xbig, typeof(xbig);"
   ]
  },
  {
   "cell_type": "code",
   "execution_count": 23,
   "metadata": {},
   "outputs": [
    {
     "name": "stdout",
     "output_type": "stream",
     "text": [
      "supertype(BigFloat) = AbstractFloat\n",
      "supertype(AbstractFloat) = Real\n"
     ]
    },
    {
     "data": {
      "text/plain": [
       "Real"
      ]
     },
     "execution_count": 23,
     "metadata": {},
     "output_type": "execute_result"
    }
   ],
   "source": [
    "@show supertype(BigFloat)\n",
    "@show supertype(AbstractFloat)"
   ]
  },
  {
   "cell_type": "code",
   "execution_count": 25,
   "metadata": {},
   "outputs": [
    {
     "data": {
      "text/html": [
       "+(z::<b>Complex</b>, w::<b>Complex</b>) in Base at <a href=\"https://github.com/JuliaLang/julia/tree/96786e22ccabfdafd073122abb1fb69cea921e17/base/complex.jl#L275\" target=\"_blank\">complex.jl:275</a>"
      ],
      "text/plain": [
       "+(z::Complex, w::Complex) in Base at complex.jl:275"
      ]
     },
     "execution_count": 25,
     "metadata": {},
     "output_type": "execute_result"
    }
   ],
   "source": [
    "x=2+3im\n",
    "@which +(x,x)"
   ]
  },
  {
   "cell_type": "code",
   "execution_count": 27,
   "metadata": {},
   "outputs": [
    {
     "data": {
      "text/html": [
       "isless(x::<b>Float64</b>, y::<b>Float64</b>) in Base at <a href=\"https://github.com/JuliaLang/julia/tree/96786e22ccabfdafd073122abb1fb69cea921e17/base/float.jl#L465\" target=\"_blank\">float.jl:465</a>"
      ],
      "text/plain": [
       "isless(x::Float64, y::Float64) in Base at float.jl:465"
      ]
     },
     "execution_count": 27,
     "metadata": {},
     "output_type": "execute_result"
    }
   ],
   "source": [
    "isless(1.0, 2.0)  # applied to two floats\n",
    "@which isless(1.0, 2.0)"
   ]
  },
  {
   "cell_type": "markdown",
   "metadata": {},
   "source": [
    "## problem1"
   ]
  },
  {
   "cell_type": "code",
   "execution_count": 31,
   "metadata": {},
   "outputs": [
    {
     "name": "stdout",
     "output_type": "stream",
     "text": [
      "step(x) = 0.010101010101010102\n",
      "ω = [0.005050505050505051, 0.010101010101010102, 0.010101010101010102, 0.010101010101010102, 0.010101010101010102, 0.010101010101010102, 0.010101010101010102, 0.010101010101010102, 0.010101010101010102, 0.010101010101010102, 0.010101010101010102, 0.010101010101010102, 0.010101010101010102, 0.010101010101010102, 0.010101010101010102, 0.010101010101010102, 0.010101010101010102, 0.010101010101010102, 0.010101010101010102, 0.010101010101010102, 0.010101010101010102, 0.010101010101010102, 0.010101010101010102, 0.010101010101010102, 0.010101010101010102, 0.010101010101010102, 0.010101010101010102, 0.010101010101010102, 0.010101010101010102, 0.010101010101010102, 0.010101010101010102, 0.010101010101010102, 0.010101010101010102, 0.010101010101010102, 0.010101010101010102, 0.010101010101010102, 0.010101010101010102, 0.010101010101010102, 0.010101010101010102, 0.010101010101010102, 0.010101010101010102, 0.010101010101010102, 0.010101010101010102, 0.010101010101010102, 0.010101010101010102, 0.010101010101010102, 0.010101010101010102, 0.010101010101010102, 0.010101010101010102, 0.010101010101010102, 0.010101010101010102, 0.010101010101010102, 0.010101010101010102, 0.010101010101010102, 0.010101010101010102, 0.010101010101010102, 0.010101010101010102, 0.010101010101010102, 0.010101010101010102, 0.010101010101010102, 0.010101010101010102, 0.010101010101010102, 0.010101010101010102, 0.010101010101010102, 0.010101010101010102, 0.010101010101010102, 0.010101010101010102, 0.010101010101010102, 0.010101010101010102, 0.010101010101010102, 0.010101010101010102, 0.010101010101010102, 0.010101010101010102, 0.010101010101010102, 0.010101010101010102, 0.010101010101010102, 0.010101010101010102, 0.010101010101010102, 0.010101010101010102, 0.010101010101010102, 0.010101010101010102, 0.010101010101010102, 0.010101010101010102, 0.010101010101010102, 0.010101010101010102, 0.010101010101010102, 0.010101010101010102, 0.010101010101010102, 0.010101010101010102, 0.010101010101010102, 0.010101010101010102, 0.010101010101010102, 0.010101010101010102, 0.010101010101010102, 0.010101010101010102, 0.010101010101010102, 0.010101010101010102, 0.010101010101010102, 0.010101010101010102, 0.005050505050505051]\n"
     ]
    },
    {
     "data": {
      "text/plain": [
       "0.3333503384008434"
      ]
     },
     "execution_count": 31,
     "metadata": {},
     "output_type": "execute_result"
    }
   ],
   "source": [
    "using LinearAlgebra\n",
    "function trap_weights(x)\n",
    "    return step(x) * [0.5; ones(length(x) - 2); 0.5]\n",
    "end\n",
    "x = range(0.0, 1.0, length = 100)\n",
    "@show step(x)\n",
    "ω = trap_weights(x)\n",
    "@show ω\n",
    "f(x) = x^2\n",
    "\n",
    "jsindot(f.(x), ω)"
   ]
  },
  {
   "cell_type": "code",
   "execution_count": 50,
   "metadata": {},
   "outputs": [
    {
     "name": "stdout",
     "output_type": "stream",
     "text": [
      "1\n",
      "4\n",
      "9\n",
      "16\n",
      "25\n",
      "36\n",
      "49\n",
      "64\n",
      "81\n",
      "100\n",
      "121\n",
      "144\n",
      "169\n",
      "196\n",
      "225\n",
      "256\n",
      "289\n",
      "324\n",
      "361\n",
      "400\n",
      "441\n",
      "484\n",
      "529\n",
      "576\n",
      "625\n",
      "676\n",
      "729\n",
      "784\n",
      "841\n",
      "900\n",
      "961\n",
      "1024\n",
      "1089\n",
      "1156\n",
      "1225\n",
      "1296\n",
      "1369\n",
      "1444\n",
      "1521\n",
      "1600\n",
      "1681\n",
      "1764\n",
      "1849\n",
      "1936\n",
      "2025\n",
      "2116\n",
      "2209\n",
      "2304\n",
      "2401\n",
      "2500\n",
      "2601\n",
      "2704\n",
      "2809\n",
      "2916\n",
      "3025\n",
      "3136\n",
      "3249\n",
      "3364\n",
      "3481\n",
      "3600\n",
      "3721\n",
      "3844\n",
      "3969\n",
      "4096\n",
      "4225\n",
      "4356\n",
      "4489\n",
      "4624\n",
      "4761\n",
      "4900\n",
      "5041\n",
      "5184\n",
      "5329\n",
      "5476\n",
      "5625\n",
      "5776\n",
      "5929\n",
      "6084\n",
      "6241\n",
      "6400\n",
      "6561\n",
      "6724\n",
      "6889\n",
      "7056\n",
      "7225\n",
      "7396\n",
      "7569\n",
      "7744\n",
      "7921\n",
      "8100\n",
      "8281\n",
      "8464\n",
      "8649\n",
      "8836\n",
      "9025\n",
      "9216\n",
      "9409\n",
      "9604\n",
      "9801\n",
      "10000\n",
      "10201\n",
      "10404\n",
      "10609\n",
      "10816\n",
      "11025\n",
      "11236\n",
      "11449\n",
      "11664\n",
      "11881\n",
      "12100\n",
      "12321\n",
      "12544\n",
      "12769\n",
      "12996\n",
      "13225\n",
      "13456\n",
      "13689\n",
      "13924\n",
      "14161\n",
      "14400\n",
      "14641\n",
      "14884\n",
      "15129\n",
      "15376\n",
      "15625\n",
      "15876\n",
      "16129\n",
      "16384\n",
      "16641\n",
      "16900\n",
      "17161\n",
      "17424\n",
      "17689\n",
      "17956\n",
      "18225\n",
      "18496\n",
      "18769\n",
      "19044\n",
      "19321\n",
      "19600\n",
      "19881\n",
      "20164\n",
      "20449\n",
      "20736\n",
      "21025\n",
      "21316\n",
      "21609\n",
      "21904\n",
      "22201\n",
      "22500\n",
      "22801\n",
      "23104\n",
      "23409\n",
      "23716\n",
      "24025\n",
      "24336\n",
      "24649\n",
      "24964\n",
      "25281\n",
      "25600\n",
      "25921\n",
      "26244\n",
      "26569\n",
      "26896\n",
      "27225\n",
      "27556\n",
      "27889\n",
      "28224\n",
      "28561\n",
      "28900\n",
      "29241\n",
      "29584\n",
      "29929\n",
      "30276\n",
      "30625\n",
      "30976\n",
      "31329\n",
      "31684\n",
      "32041\n",
      "32400\n",
      "32761\n",
      "33124\n",
      "33489\n",
      "33856\n",
      "34225\n",
      "34596\n",
      "34969\n",
      "35344\n",
      "35721\n",
      "36100\n",
      "36481\n",
      "36864\n",
      "37249\n",
      "37636\n",
      "38025\n",
      "38416\n",
      "38809\n",
      "39204\n",
      "39601\n"
     ]
    }
   ],
   "source": [
    "using Base:Base\n",
    "\n",
    "struct Squares\n",
    "           count::Int\n",
    "       end\n",
    "\n",
    "\n",
    "function tmp(S,state)\n",
    "    if ! state>S.count\n",
    "           return (state*state, state+1)\n",
    "    end\n",
    "    return nothing\n",
    "end\n",
    "\n",
    "    \n",
    "\n",
    "\n",
    "\n",
    "\n",
    "Base.iterate(S::Squares, state=1) =state > S.count  ? nothing : (state*state, state+1)\n",
    "\n",
    "for i in (Squares(199))\n",
    "    println(i)\n",
    "end"
   ]
  },
  {
   "cell_type": "code",
   "execution_count": 35,
   "metadata": {},
   "outputs": [],
   "source": [
    "struct UniformTrapezoidal\n",
    "    count::Int\n",
    "    Δ::Float64\n",
    "end\n",
    "\n",
    "Base.iterate(S::UniformTrapezoidal, state=1) = state > S.count  ? nothing : (S.Δ, state+1)\n"
   ]
  },
  {
   "cell_type": "code",
   "execution_count": 37,
   "metadata": {},
   "outputs": [
    {
     "data": {
      "text/plain": [
       "UniformTrapezoidal(100, 1.0e-10)"
      ]
     },
     "execution_count": 37,
     "metadata": {},
     "output_type": "execute_result"
    }
   ],
   "source": [
    "hoge=UniformTrapezoidal(100,1.0e-10)"
   ]
  },
  {
   "cell_type": "code",
   "execution_count": 43,
   "metadata": {},
   "outputs": [
    {
     "name": "stdout",
     "output_type": "stream",
     "text": [
      "1.0e-10\n",
      "1\n",
      "1.0e-10\n",
      "2\n",
      "1.0e-10\n",
      "3\n",
      "1.0e-10\n",
      "4\n",
      "1.0e-10\n",
      "5\n",
      "1.0e-10\n",
      "6\n",
      "1.0e-10\n",
      "7\n",
      "1.0e-10\n",
      "8\n",
      "1.0e-10\n",
      "9\n",
      "1.0e-10\n",
      "10\n",
      "1.0e-10\n",
      "11\n",
      "1.0e-10\n",
      "12\n",
      "1.0e-10\n",
      "13\n",
      "1.0e-10\n",
      "14\n",
      "1.0e-10\n",
      "15\n",
      "1.0e-10\n",
      "16\n",
      "1.0e-10\n",
      "17\n",
      "1.0e-10\n",
      "18\n",
      "1.0e-10\n",
      "19\n",
      "1.0e-10\n",
      "20\n",
      "1.0e-10\n",
      "21\n",
      "1.0e-10\n",
      "22\n",
      "1.0e-10\n",
      "23\n",
      "1.0e-10\n",
      "24\n",
      "1.0e-10\n",
      "25\n",
      "1.0e-10\n",
      "26\n",
      "1.0e-10\n",
      "27\n",
      "1.0e-10\n",
      "28\n",
      "1.0e-10\n",
      "29\n",
      "1.0e-10\n",
      "30\n",
      "1.0e-10\n",
      "31\n",
      "1.0e-10\n",
      "32\n",
      "1.0e-10\n",
      "33\n",
      "1.0e-10\n",
      "34\n",
      "1.0e-10\n",
      "35\n",
      "1.0e-10\n",
      "36\n",
      "1.0e-10\n",
      "37\n",
      "1.0e-10\n",
      "38\n",
      "1.0e-10\n",
      "39\n",
      "1.0e-10\n",
      "40\n",
      "1.0e-10\n",
      "41\n",
      "1.0e-10\n",
      "42\n",
      "1.0e-10\n",
      "43\n",
      "1.0e-10\n",
      "44\n",
      "1.0e-10\n",
      "45\n",
      "1.0e-10\n",
      "46\n",
      "1.0e-10\n",
      "47\n",
      "1.0e-10\n",
      "48\n",
      "1.0e-10\n",
      "49\n",
      "1.0e-10\n",
      "50\n",
      "1.0e-10\n",
      "51\n",
      "1.0e-10\n",
      "52\n",
      "1.0e-10\n",
      "53\n",
      "1.0e-10\n",
      "54\n",
      "1.0e-10\n",
      "55\n",
      "1.0e-10\n",
      "56\n",
      "1.0e-10\n",
      "57\n",
      "1.0e-10\n",
      "58\n",
      "1.0e-10\n",
      "59\n",
      "1.0e-10\n",
      "60\n",
      "1.0e-10\n",
      "61\n",
      "1.0e-10\n",
      "62\n",
      "1.0e-10\n",
      "63\n",
      "1.0e-10\n",
      "64\n",
      "1.0e-10\n",
      "65\n",
      "1.0e-10\n",
      "66\n",
      "1.0e-10\n",
      "67\n",
      "1.0e-10\n",
      "68\n",
      "1.0e-10\n",
      "69\n",
      "1.0e-10\n",
      "70\n",
      "1.0e-10\n",
      "71\n",
      "1.0e-10\n",
      "72\n",
      "1.0e-10\n",
      "73\n",
      "1.0e-10\n",
      "74\n",
      "1.0e-10\n",
      "75\n",
      "1.0e-10\n",
      "76\n",
      "1.0e-10\n",
      "77\n",
      "1.0e-10\n",
      "78\n",
      "1.0e-10\n",
      "79\n",
      "1.0e-10\n",
      "80\n",
      "1.0e-10\n",
      "81\n",
      "1.0e-10\n",
      "82\n",
      "1.0e-10\n",
      "83\n",
      "1.0e-10\n",
      "84\n",
      "1.0e-10\n",
      "85\n",
      "1.0e-10\n",
      "86\n",
      "1.0e-10\n",
      "87\n",
      "1.0e-10\n",
      "88\n",
      "1.0e-10\n",
      "89\n",
      "1.0e-10\n",
      "90\n",
      "1.0e-10\n",
      "91\n",
      "1.0e-10\n",
      "92\n",
      "1.0e-10\n",
      "93\n",
      "1.0e-10\n",
      "94\n",
      "1.0e-10\n",
      "95\n",
      "1.0e-10\n",
      "96\n",
      "1.0e-10\n",
      "97\n",
      "1.0e-10\n",
      "98\n",
      "1.0e-10\n",
      "99\n",
      "1.0e-10\n",
      "100\n"
     ]
    }
   ],
   "source": [
    "for (i,ele ) in enumerate(hoge)\n",
    "    println(ele)\n",
    "    println(i)\n",
    "    \n",
    "end\n",
    "\n",
    "    \n",
    "    "
   ]
  }
 ],
 "metadata": {
  "kernelspec": {
   "display_name": "Julia 1.5.0",
   "language": "julia",
   "name": "julia-1.5"
  },
  "language_info": {
   "file_extension": ".jl",
   "mimetype": "application/julia",
   "name": "julia",
   "version": "1.5.0"
  }
 },
 "nbformat": 4,
 "nbformat_minor": 4
}
